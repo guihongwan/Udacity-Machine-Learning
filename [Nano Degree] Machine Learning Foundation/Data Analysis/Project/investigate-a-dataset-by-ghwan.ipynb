{
 "cells": [
  {
   "cell_type": "markdown",
   "metadata": {},
   "source": [
    "\n",
    "\n",
    "# Project: Investigate a Dataset (Titanic)\n",
    "\n",
    "## Table of Contents\n",
    "<ul>\n",
    "<li><a href=\"#intro\">Introduction</a></li>\n",
    "<li><a href=\"#wrangling\">Data Wrangling</a></li>\n",
    "<li><a href=\"#eda\">Exploratory Data Analysis</a></li>\n",
    "    <ul>\n",
    "    <li><a href=\"#posibility\">Posibility of Survival</a></li>\n",
    "    <li><a href=\"#posi_pclass\">Pclass</a></li>\n",
    "    <li><a href=\"#posi_sex\">Sex</a></li>\n",
    "    <li><a href=\"#posi_age\">Age</a></li>\n",
    "    <li><a href=\"#posi_pclass_age\">Pclass and Age</a></li>\n",
    "    <li><a href=\"#posi_pclass_sex\">Pclass and Sex</a></li>\n",
    "    </ul>\n",
    "<li><a href=\"#conclusions\">Conclusions</a></li>\n",
    "</ul>"
   ]
  },
  {
   "cell_type": "markdown",
   "metadata": {},
   "source": [
    "<a id='intro'></a>\n",
    "## Introduction\n",
    "\n",
    "I would like to analyze Titanic data set.    \n",
    "I will try to answer that \"How 'Pclass, Sex, and Age' influence the possibility of survival?\"    \n",
    "I will focus on Pclass, Sex, Age.    \n",
    "I will start from a signle factor and then take several factors together into consideration."
   ]
  },
  {
   "cell_type": "code",
   "execution_count": 1,
   "metadata": {},
   "outputs": [
    {
     "name": "stdout",
     "output_type": "stream",
     "text": [
      "Populating the interactive namespace from numpy and matplotlib\n"
     ]
    }
   ],
   "source": [
    "# Set up import statements for all of the packages that I plan to use.\n",
    "\n",
    "# Remember to include a 'magic word' so that your visualizations are plotted\n",
    "#   inline with the notebook. See this page for more:\n",
    "#   http://ipython.readthedocs.io/en/stable/interactive/magics.html\n",
    "\n",
    "import matplotlib.pyplot as plt\n",
    "import numpy as np\n",
    "import pandas as pd\n",
    "import seaborn as sns\n",
    "%pylab inline"
   ]
  },
  {
   "cell_type": "markdown",
   "metadata": {},
   "source": [
    "Methods:"
   ]
  },
  {
   "cell_type": "code",
   "execution_count": 2,
   "metadata": {},
   "outputs": [],
   "source": [
    "# check whether there is a null\n",
    "# input format: titanic_data['Age']\n",
    "def checkIsNull(data):\n",
    "    num = np.where(pd.isnull(data))[0].size\n",
    "    if num == 0:\n",
    "        print('No Null.')\n",
    "    else:\n",
    "        print(num)\n",
    "        \n",
    "# delete rows with empty cell in given fields\n",
    "# data: the original data set in Pandas.DataFrame, like titanic_data\n",
    "# \n",
    "def deleteNA(data, fieldlist):\n",
    "    return data.dropna(subset=[fieldlist])\n",
    "\n",
    "\n",
    "# Get the columns interested in\n",
    "# Input: titanic_data, ['PassengerId','Age']\n",
    "def get_interested_colums(data,fieldlist):\n",
    "    return data.loc[:,fieldlist]\n",
    "\n",
    "#Get number of passengers according to 'PassengerId'\n",
    "def get_number_of_passengers(data):\n",
    "    return data.count()['PassengerId']\n",
    "\n",
    "# calculate posibility according to the number of items\n",
    "def calculatePosibility(target, total):\n",
    "    return len(target)/len(total)\n",
    "\n",
    "# calculate the posibilities for given field\n",
    "# data: titanic_data, fieldname: 'Sex'\n",
    "def calculate_surrived_possibility_vectoriezed(data, fieldname):\n",
    "    data_by_class = data.groupby(fieldname)\n",
    "    total = get_number_of_passengers(data_by_class)\n",
    "    \n",
    "    data_by_class_and_survived = data.groupby([fieldname,'Survived'])\n",
    "    target = get_number_of_passengers(data_by_class_and_survived)\n",
    "    \n",
    "    return target.div(total)\n",
    "\n",
    "# calculate the posibilities for given age range\n",
    "# e.g. calculate_survived_posibility_between_ages(titanic_data, 0, 18)\n",
    "\n",
    "def calculate_survived_posibility_between_ages(data, start_age, end_age):\n",
    "    total = data.loc[(data['Age']>start_age) &\n",
    "                     (data['Age']<end_age), 'Age']\n",
    "    target = data.loc[(data['Survived'] ==1) &\n",
    "                      (data['Age']>start_age) &\n",
    "                      (data['Age']<end_age), 'Age']\n",
    "    return calculatePosibility(target, total)\n",
    "\n",
    "# Get given Column with surrived condition\n",
    "\n",
    "def get_column_with_condition(data, fieldnames, survived = 0):\n",
    "    return data.loc[data['Survived'] ==survived,fieldnames]\n",
    "\n",
    "# double items in a list\n",
    "# [2,3]->[2,2,3,3,]\n",
    "def dupItems(li):\n",
    "    new_li = []\n",
    "    for x in li:\n",
    "        new_li.append(x)\n",
    "        new_li.append(x)\n",
    "    return new_li"
   ]
  },
  {
   "cell_type": "markdown",
   "metadata": {},
   "source": [
    "<a id='wrangling'></a>\n",
    "## Data Wrangling\n",
    "\n",
    "Load in the data, check for cleanliness, and then trim and clean the dataset for analysis.\n",
    "\n",
    "- I will only focus on 'Pclass', 'Sex', and 'Age'. Because:\n",
    "- a. it's less likely that 'Name', 'Ticket' will influence the survival.    \n",
    "- b. 'Fare' corresponds to 'PClass'. \n",
    "- c. There are a lot passengers absent of the 'Cabin' information.\n",
    "- d. For simplicity, just ignore , 'SibSp', 'Parch' and 'Embarked' here.\n",
    "\n",
    "\n",
    "### General Properties"
   ]
  },
  {
   "cell_type": "code",
   "execution_count": 3,
   "metadata": {},
   "outputs": [
    {
     "data": {
      "text/html": [
       "<div>\n",
       "<style scoped>\n",
       "    .dataframe tbody tr th:only-of-type {\n",
       "        vertical-align: middle;\n",
       "    }\n",
       "\n",
       "    .dataframe tbody tr th {\n",
       "        vertical-align: top;\n",
       "    }\n",
       "\n",
       "    .dataframe thead th {\n",
       "        text-align: right;\n",
       "    }\n",
       "</style>\n",
       "<table border=\"1\" class=\"dataframe\">\n",
       "  <thead>\n",
       "    <tr style=\"text-align: right;\">\n",
       "      <th></th>\n",
       "      <th>PassengerId</th>\n",
       "      <th>Survived</th>\n",
       "      <th>Pclass</th>\n",
       "      <th>Name</th>\n",
       "      <th>Sex</th>\n",
       "      <th>Age</th>\n",
       "      <th>SibSp</th>\n",
       "      <th>Parch</th>\n",
       "      <th>Ticket</th>\n",
       "      <th>Fare</th>\n",
       "      <th>Cabin</th>\n",
       "      <th>Embarked</th>\n",
       "    </tr>\n",
       "  </thead>\n",
       "  <tbody>\n",
       "    <tr>\n",
       "      <th>0</th>\n",
       "      <td>1</td>\n",
       "      <td>0</td>\n",
       "      <td>3</td>\n",
       "      <td>Braund, Mr. Owen Harris</td>\n",
       "      <td>male</td>\n",
       "      <td>22.0</td>\n",
       "      <td>1</td>\n",
       "      <td>0</td>\n",
       "      <td>A/5 21171</td>\n",
       "      <td>7.2500</td>\n",
       "      <td>NaN</td>\n",
       "      <td>S</td>\n",
       "    </tr>\n",
       "    <tr>\n",
       "      <th>1</th>\n",
       "      <td>2</td>\n",
       "      <td>1</td>\n",
       "      <td>1</td>\n",
       "      <td>Cumings, Mrs. John Bradley (Florence Briggs Th...</td>\n",
       "      <td>female</td>\n",
       "      <td>38.0</td>\n",
       "      <td>1</td>\n",
       "      <td>0</td>\n",
       "      <td>PC 17599</td>\n",
       "      <td>71.2833</td>\n",
       "      <td>C85</td>\n",
       "      <td>C</td>\n",
       "    </tr>\n",
       "    <tr>\n",
       "      <th>2</th>\n",
       "      <td>3</td>\n",
       "      <td>1</td>\n",
       "      <td>3</td>\n",
       "      <td>Heikkinen, Miss. Laina</td>\n",
       "      <td>female</td>\n",
       "      <td>26.0</td>\n",
       "      <td>0</td>\n",
       "      <td>0</td>\n",
       "      <td>STON/O2. 3101282</td>\n",
       "      <td>7.9250</td>\n",
       "      <td>NaN</td>\n",
       "      <td>S</td>\n",
       "    </tr>\n",
       "    <tr>\n",
       "      <th>3</th>\n",
       "      <td>4</td>\n",
       "      <td>1</td>\n",
       "      <td>1</td>\n",
       "      <td>Futrelle, Mrs. Jacques Heath (Lily May Peel)</td>\n",
       "      <td>female</td>\n",
       "      <td>35.0</td>\n",
       "      <td>1</td>\n",
       "      <td>0</td>\n",
       "      <td>113803</td>\n",
       "      <td>53.1000</td>\n",
       "      <td>C123</td>\n",
       "      <td>S</td>\n",
       "    </tr>\n",
       "    <tr>\n",
       "      <th>4</th>\n",
       "      <td>5</td>\n",
       "      <td>0</td>\n",
       "      <td>3</td>\n",
       "      <td>Allen, Mr. William Henry</td>\n",
       "      <td>male</td>\n",
       "      <td>35.0</td>\n",
       "      <td>0</td>\n",
       "      <td>0</td>\n",
       "      <td>373450</td>\n",
       "      <td>8.0500</td>\n",
       "      <td>NaN</td>\n",
       "      <td>S</td>\n",
       "    </tr>\n",
       "  </tbody>\n",
       "</table>\n",
       "</div>"
      ],
      "text/plain": [
       "   PassengerId  Survived  Pclass  \\\n",
       "0            1         0       3   \n",
       "1            2         1       1   \n",
       "2            3         1       3   \n",
       "3            4         1       1   \n",
       "4            5         0       3   \n",
       "\n",
       "                                                Name     Sex   Age  SibSp  \\\n",
       "0                            Braund, Mr. Owen Harris    male  22.0      1   \n",
       "1  Cumings, Mrs. John Bradley (Florence Briggs Th...  female  38.0      1   \n",
       "2                             Heikkinen, Miss. Laina  female  26.0      0   \n",
       "3       Futrelle, Mrs. Jacques Heath (Lily May Peel)  female  35.0      1   \n",
       "4                           Allen, Mr. William Henry    male  35.0      0   \n",
       "\n",
       "   Parch            Ticket     Fare Cabin Embarked  \n",
       "0      0         A/5 21171   7.2500   NaN        S  \n",
       "1      0          PC 17599  71.2833   C85        C  \n",
       "2      0  STON/O2. 3101282   7.9250   NaN        S  \n",
       "3      0            113803  53.1000  C123        S  \n",
       "4      0            373450   8.0500   NaN        S  "
      ]
     },
     "execution_count": 3,
     "metadata": {},
     "output_type": "execute_result"
    }
   ],
   "source": [
    "# Load data and print out a few lines. \n",
    "\n",
    "filename = \"titanic-data.csv\"\n",
    "titanic_data = pd.read_csv('titanic-data.csv')\n",
    "titanic_data.head()"
   ]
  },
  {
   "cell_type": "code",
   "execution_count": 4,
   "metadata": {},
   "outputs": [
    {
     "name": "stdout",
     "output_type": "stream",
     "text": [
      "<class 'pandas.core.frame.DataFrame'>\n",
      "RangeIndex: 891 entries, 0 to 890\n",
      "Data columns (total 12 columns):\n",
      "PassengerId    891 non-null int64\n",
      "Survived       891 non-null int64\n",
      "Pclass         891 non-null int64\n",
      "Name           891 non-null object\n",
      "Sex            891 non-null object\n",
      "Age            714 non-null float64\n",
      "SibSp          891 non-null int64\n",
      "Parch          891 non-null int64\n",
      "Ticket         891 non-null object\n",
      "Fare           891 non-null float64\n",
      "Cabin          204 non-null object\n",
      "Embarked       889 non-null object\n",
      "dtypes: float64(2), int64(5), object(5)\n",
      "memory usage: 83.6+ KB\n"
     ]
    }
   ],
   "source": [
    "# Perform operations to inspect data types and look for instances of missing or possibly errant data.\n",
    "\n",
    "# check whether the data types meet the needs.\n",
    "# check the empty cells.\n",
    "titanic_data.info()"
   ]
  },
  {
   "cell_type": "code",
   "execution_count": 5,
   "metadata": {},
   "outputs": [],
   "source": [
    "# All of the data types meet my needs.\n",
    "# There are a lot ot empty cells in 'Age' column."
   ]
  },
  {
   "cell_type": "code",
   "execution_count": 6,
   "metadata": {},
   "outputs": [],
   "source": [
    "#There are a lot of empty cells in 'Age' column\n",
    "\n",
    "#checkIsNull(titanic_data['PassengerId'])\n",
    "#checkIsNull(titanic_data['Survived'])\n",
    "#checkIsNull(titanic_data['Pclass'])\n",
    "#checkIsNull(titanic_data['Fare'])\n",
    "#checkIsNull(titanic_data['Name'])\n",
    "#checkIsNull(titanic_data['Sex'])\n",
    "#checkIsNull(titanic_data['Age'])"
   ]
  },
  {
   "cell_type": "markdown",
   "metadata": {},
   "source": [
    "\n",
    "### Data Cleaning "
   ]
  },
  {
   "cell_type": "code",
   "execution_count": 7,
   "metadata": {},
   "outputs": [
    {
     "name": "stdout",
     "output_type": "stream",
     "text": [
      "891\n",
      "714\n",
      "No Null.\n"
     ]
    }
   ],
   "source": [
    "# Delete the rows which 'Age' is NAN\n",
    "# Output: titanic_data_with_Age\n",
    "print(len(titanic_data))\n",
    "titanic_data_with_Age = deleteNA(titanic_data, 'Age')\n",
    "\n",
    "#check again\n",
    "print(len(titanic_data_with_Age))\n",
    "checkIsNull(titanic_data_with_Age['Age'])"
   ]
  },
  {
   "cell_type": "code",
   "execution_count": 8,
   "metadata": {},
   "outputs": [
    {
     "data": {
      "text/html": [
       "<div>\n",
       "<style scoped>\n",
       "    .dataframe tbody tr th:only-of-type {\n",
       "        vertical-align: middle;\n",
       "    }\n",
       "\n",
       "    .dataframe tbody tr th {\n",
       "        vertical-align: top;\n",
       "    }\n",
       "\n",
       "    .dataframe thead th {\n",
       "        text-align: right;\n",
       "    }\n",
       "</style>\n",
       "<table border=\"1\" class=\"dataframe\">\n",
       "  <thead>\n",
       "    <tr style=\"text-align: right;\">\n",
       "      <th></th>\n",
       "      <th>PassengerId</th>\n",
       "      <th>Survived</th>\n",
       "      <th>Pclass</th>\n",
       "      <th>Sex</th>\n",
       "      <th>Age</th>\n",
       "    </tr>\n",
       "  </thead>\n",
       "  <tbody>\n",
       "    <tr>\n",
       "      <th>0</th>\n",
       "      <td>1</td>\n",
       "      <td>0</td>\n",
       "      <td>3</td>\n",
       "      <td>male</td>\n",
       "      <td>22.0</td>\n",
       "    </tr>\n",
       "    <tr>\n",
       "      <th>1</th>\n",
       "      <td>2</td>\n",
       "      <td>1</td>\n",
       "      <td>1</td>\n",
       "      <td>female</td>\n",
       "      <td>38.0</td>\n",
       "    </tr>\n",
       "    <tr>\n",
       "      <th>2</th>\n",
       "      <td>3</td>\n",
       "      <td>1</td>\n",
       "      <td>3</td>\n",
       "      <td>female</td>\n",
       "      <td>26.0</td>\n",
       "    </tr>\n",
       "    <tr>\n",
       "      <th>3</th>\n",
       "      <td>4</td>\n",
       "      <td>1</td>\n",
       "      <td>1</td>\n",
       "      <td>female</td>\n",
       "      <td>35.0</td>\n",
       "    </tr>\n",
       "    <tr>\n",
       "      <th>4</th>\n",
       "      <td>5</td>\n",
       "      <td>0</td>\n",
       "      <td>3</td>\n",
       "      <td>male</td>\n",
       "      <td>35.0</td>\n",
       "    </tr>\n",
       "  </tbody>\n",
       "</table>\n",
       "</div>"
      ],
      "text/plain": [
       "   PassengerId  Survived  Pclass     Sex   Age\n",
       "0            1         0       3    male  22.0\n",
       "1            2         1       1  female  38.0\n",
       "2            3         1       3  female  26.0\n",
       "3            4         1       1  female  35.0\n",
       "4            5         0       3    male  35.0"
      ]
     },
     "execution_count": 8,
     "metadata": {},
     "output_type": "execute_result"
    }
   ],
   "source": [
    "# only keep the columns interested in\n",
    "interested_list = ['PassengerId','Survived','Pclass','Sex','Age']\n",
    "\n",
    "titanic_data_clean = get_interested_colums(titanic_data, interested_list)\n",
    "titanic_data_clean.head()"
   ]
  },
  {
   "cell_type": "code",
   "execution_count": 9,
   "metadata": {},
   "outputs": [
    {
     "name": "stdout",
     "output_type": "stream",
     "text": [
      "891\n",
      "714\n"
     ]
    },
    {
     "data": {
      "text/html": [
       "<div>\n",
       "<style scoped>\n",
       "    .dataframe tbody tr th:only-of-type {\n",
       "        vertical-align: middle;\n",
       "    }\n",
       "\n",
       "    .dataframe tbody tr th {\n",
       "        vertical-align: top;\n",
       "    }\n",
       "\n",
       "    .dataframe thead th {\n",
       "        text-align: right;\n",
       "    }\n",
       "</style>\n",
       "<table border=\"1\" class=\"dataframe\">\n",
       "  <thead>\n",
       "    <tr style=\"text-align: right;\">\n",
       "      <th></th>\n",
       "      <th>PassengerId</th>\n",
       "      <th>Survived</th>\n",
       "      <th>Pclass</th>\n",
       "      <th>Sex</th>\n",
       "      <th>Age</th>\n",
       "    </tr>\n",
       "  </thead>\n",
       "  <tbody>\n",
       "    <tr>\n",
       "      <th>0</th>\n",
       "      <td>1</td>\n",
       "      <td>0</td>\n",
       "      <td>3</td>\n",
       "      <td>male</td>\n",
       "      <td>22.0</td>\n",
       "    </tr>\n",
       "    <tr>\n",
       "      <th>1</th>\n",
       "      <td>2</td>\n",
       "      <td>1</td>\n",
       "      <td>1</td>\n",
       "      <td>female</td>\n",
       "      <td>38.0</td>\n",
       "    </tr>\n",
       "    <tr>\n",
       "      <th>2</th>\n",
       "      <td>3</td>\n",
       "      <td>1</td>\n",
       "      <td>3</td>\n",
       "      <td>female</td>\n",
       "      <td>26.0</td>\n",
       "    </tr>\n",
       "    <tr>\n",
       "      <th>3</th>\n",
       "      <td>4</td>\n",
       "      <td>1</td>\n",
       "      <td>1</td>\n",
       "      <td>female</td>\n",
       "      <td>35.0</td>\n",
       "    </tr>\n",
       "    <tr>\n",
       "      <th>4</th>\n",
       "      <td>5</td>\n",
       "      <td>0</td>\n",
       "      <td>3</td>\n",
       "      <td>male</td>\n",
       "      <td>35.0</td>\n",
       "    </tr>\n",
       "  </tbody>\n",
       "</table>\n",
       "</div>"
      ],
      "text/plain": [
       "   PassengerId  Survived  Pclass     Sex   Age\n",
       "0            1         0       3    male  22.0\n",
       "1            2         1       1  female  38.0\n",
       "2            3         1       3  female  26.0\n",
       "3            4         1       1  female  35.0\n",
       "4            5         0       3    male  35.0"
      ]
     },
     "execution_count": 9,
     "metadata": {},
     "output_type": "execute_result"
    }
   ],
   "source": [
    "titanic_data_with_Age_clean = get_interested_colums(titanic_data_with_Age, interested_list)\n",
    "print(len(titanic_data_clean))\n",
    "print(len(titanic_data_with_Age_clean))\n",
    "titanic_data_with_Age_clean.head()"
   ]
  },
  {
   "cell_type": "markdown",
   "metadata": {},
   "source": [
    "Note: I will use titanic_data or titanic_data_with_Age in following analysis depending on whether the factors relate to Age, in order to get more precise results."
   ]
  },
  {
   "cell_type": "code",
   "execution_count": 10,
   "metadata": {},
   "outputs": [],
   "source": [
    "#for test, to check whether they result in same posibilities.\n",
    "titanic_data = titanic_data_clean\n",
    "titanic_data_with_Age= titanic_data_with_Age_clean"
   ]
  },
  {
   "cell_type": "markdown",
   "metadata": {},
   "source": [
    "<a id='eda'></a>\n",
    "## Exploratory Data Analysis\n",
    "\n",
    "<a id='posibility'></a>\n",
    "### Posibility of Survival\n",
    "\n",
    "- Calculate the overall possibility of survival"
   ]
  },
  {
   "cell_type": "code",
   "execution_count": 11,
   "metadata": {},
   "outputs": [
    {
     "name": "stdout",
     "output_type": "stream",
     "text": [
      "0.3838383838383838\n"
     ]
    }
   ],
   "source": [
    "titanic_data_survived = titanic_data.loc[titanic_data['Survived'] ==1]\n",
    "\n",
    "posibility =  calculatePosibility(titanic_data_survived,titanic_data)\n",
    "\n",
    "print(posibility)"
   ]
  },
  {
   "cell_type": "markdown",
   "metadata": {},
   "source": [
    "<a id='posi_pclass'></a>\n",
    "###  Pclass\n",
    "\n",
    "- Step 1 How many passengers each class?\n",
    "- Step 2 The possibilities of survival each class?"
   ]
  },
  {
   "cell_type": "code",
   "execution_count": 12,
   "metadata": {},
   "outputs": [
    {
     "name": "stdout",
     "output_type": "stream",
     "text": [
      "Survived    0    1\n",
      "Pclass            \n",
      "1          80  136\n",
      "2          97   87\n",
      "3         372  119\n",
      "Survived         0         1\n",
      "Pclass                      \n",
      "1         0.370370  0.629630\n",
      "2         0.527174  0.472826\n",
      "3         0.757637  0.242363\n"
     ]
    }
   ],
   "source": [
    "#Get the Data\n",
    "\n",
    "titanic_data_by_number = titanic_data.groupby(['Pclass','Survived'])['PassengerId'].count().unstack()\n",
    "print(titanic_data_by_number)\n",
    "\n",
    "titanic_data_by_posibilities = calculate_surrived_possibility_vectoriezed(titanic_data,'Pclass').unstack()\n",
    "print(titanic_data_by_posibilities)"
   ]
  },
  {
   "cell_type": "code",
   "execution_count": 13,
   "metadata": {},
   "outputs": [
    {
     "data": {
      "text/plain": [
       "<matplotlib.figure.Figure at 0x10ab1f4a8>"
      ]
     },
     "metadata": {},
     "output_type": "display_data"
    },
    {
     "data": {
      "image/png": "[encoded data removed]",
      "text/plain": [
       "<matplotlib.figure.Figure at 0x10ab1f518>"
      ]
     },
     "metadata": {},
     "output_type": "display_data"
    }
   ],
   "source": [
    "# Visiualize the Data\n",
    "plt.figure(figsize = (12,5))\n",
    "f,(ax1,ax2) = plt.subplots(1,2)\n",
    "f.set_size_inches((12,6))\n",
    "\n",
    "\n",
    "titanic_data_by_number.plot(kind='bar',ax = ax1, stacked=True)\n",
    "titanic_data_by_posibilities.plot(kind='bar',ax = ax2, stacked=True)\n",
    "\n",
    "ax1.set_title('Pclass VS Count')\n",
    "ax1.set_ylabel('Count')\n",
    "\n",
    "ax2.set_title('Pclass VS Posibility')\n",
    "ax2.set_ylabel('Posibility')\n",
    "\n",
    "plt.show()"
   ]
  },
  {
   "cell_type": "code",
   "execution_count": 14,
   "metadata": {},
   "outputs": [
    {
     "data": {
      "text/plain": [
       "array([[ 1.        , -0.33848104],\n",
       "       [-0.33848104,  1.        ]])"
      ]
     },
     "execution_count": 14,
     "metadata": {},
     "output_type": "execute_result"
    }
   ],
   "source": [
    "# Pearson's r\n",
    "import numpy as np\n",
    "\n",
    "entries = titanic_data['Pclass']\n",
    "cum_entries = titanic_data['Survived']\n",
    "\n",
    "np.corrcoef(entries,cum_entries)"
   ]
  },
  {
   "cell_type": "markdown",
   "metadata": {},
   "source": [
    "### Tentative Conclusion  \n",
    "- The posibility of Survival(63%) for the Upper class(Pclass == 1) is highest and much higher than the overall possibility(38%).\n",
    "- The posibility of Survival(47%) for the Middle class(Pclass == 2) is higher than that(24%) for the Lower class(Pclass == 3)."
   ]
  },
  {
   "cell_type": "markdown",
   "metadata": {},
   "source": [
    "<a id='posi_sex'></a>\n",
    "###  Sex"
   ]
  },
  {
   "cell_type": "code",
   "execution_count": 15,
   "metadata": {},
   "outputs": [
    {
     "name": "stdout",
     "output_type": "stream",
     "text": [
      "Survived    0    1\n",
      "Sex               \n",
      "female     81  233\n",
      "male      468  109\n",
      "Survived         0         1\n",
      "Sex                         \n",
      "female    0.257962  0.742038\n",
      "male      0.811092  0.188908\n"
     ]
    }
   ],
   "source": [
    "#Get the Data\n",
    "titanic_data_by_number = titanic_data.groupby(['Sex','Survived'])['PassengerId'].count().unstack()\n",
    "print(titanic_data_by_number)\n",
    "\n",
    "titanic_data_by_posibilities = calculate_surrived_possibility_vectoriezed(titanic_data,'Sex').unstack()\n",
    "print(titanic_data_by_posibilities)"
   ]
  },
  {
   "cell_type": "code",
   "execution_count": 16,
   "metadata": {},
   "outputs": [
    {
     "data": {
      "text/plain": [
       "<matplotlib.figure.Figure at 0x10ab1f358>"
      ]
     },
     "metadata": {},
     "output_type": "display_data"
    },
    {
     "data": {
      "image/png": "[encoded data removed]",
      "text/plain": [
       "<matplotlib.figure.Figure at 0x10ab1f3c8>"
      ]
     },
     "metadata": {},
     "output_type": "display_data"
    }
   ],
   "source": [
    "# Visiualize the Data\n",
    "plt.figure(figsize = (12,5))\n",
    "f,(ax1,ax2) = plt.subplots(1,2)\n",
    "f.set_size_inches((12,6))\n",
    "\n",
    "\n",
    "titanic_data_by_number.plot(kind='bar',ax = ax1)\n",
    "titanic_data_by_posibilities.plot(kind='bar',ax = ax2)\n",
    "\n",
    "ax1.set_title('Pclass VS Count')\n",
    "ax1.set_ylabel('Count')\n",
    "\n",
    "ax2.set_title('Pclass VS Posibility')\n",
    "ax2.set_ylabel('Posibility')\n",
    "\n",
    "plt.show()"
   ]
  },
  {
   "cell_type": "markdown",
   "metadata": {},
   "source": [
    "#### Tentative Conclusion \n",
    "- More females(74%) survivied in the disaster than males(19%)."
   ]
  },
  {
   "cell_type": "markdown",
   "metadata": {},
   "source": [
    "<a id='posi_age'></a>\n",
    "### Age"
   ]
  },
  {
   "cell_type": "markdown",
   "metadata": {},
   "source": [
    "#### The average age of survived and unsurvived passengers"
   ]
  },
  {
   "cell_type": "code",
   "execution_count": 17,
   "metadata": {},
   "outputs": [
    {
     "data": {
      "text/html": [
       "<div>\n",
       "<style scoped>\n",
       "    .dataframe tbody tr th:only-of-type {\n",
       "        vertical-align: middle;\n",
       "    }\n",
       "\n",
       "    .dataframe tbody tr th {\n",
       "        vertical-align: top;\n",
       "    }\n",
       "\n",
       "    .dataframe thead tr th {\n",
       "        text-align: left;\n",
       "    }\n",
       "\n",
       "    .dataframe thead tr:last-of-type th {\n",
       "        text-align: right;\n",
       "    }\n",
       "</style>\n",
       "<table border=\"1\" class=\"dataframe\">\n",
       "  <thead>\n",
       "    <tr>\n",
       "      <th></th>\n",
       "      <th colspan=\"8\" halign=\"left\">Age</th>\n",
       "      <th colspan=\"5\" halign=\"left\">PassengerId</th>\n",
       "      <th colspan=\"8\" halign=\"left\">Pclass</th>\n",
       "    </tr>\n",
       "    <tr>\n",
       "      <th></th>\n",
       "      <th>count</th>\n",
       "      <th>mean</th>\n",
       "      <th>std</th>\n",
       "      <th>min</th>\n",
       "      <th>25%</th>\n",
       "      <th>50%</th>\n",
       "      <th>75%</th>\n",
       "      <th>max</th>\n",
       "      <th>count</th>\n",
       "      <th>mean</th>\n",
       "      <th>...</th>\n",
       "      <th>75%</th>\n",
       "      <th>max</th>\n",
       "      <th>count</th>\n",
       "      <th>mean</th>\n",
       "      <th>std</th>\n",
       "      <th>min</th>\n",
       "      <th>25%</th>\n",
       "      <th>50%</th>\n",
       "      <th>75%</th>\n",
       "      <th>max</th>\n",
       "    </tr>\n",
       "    <tr>\n",
       "      <th>Survived</th>\n",
       "      <th></th>\n",
       "      <th></th>\n",
       "      <th></th>\n",
       "      <th></th>\n",
       "      <th></th>\n",
       "      <th></th>\n",
       "      <th></th>\n",
       "      <th></th>\n",
       "      <th></th>\n",
       "      <th></th>\n",
       "      <th></th>\n",
       "      <th></th>\n",
       "      <th></th>\n",
       "      <th></th>\n",
       "      <th></th>\n",
       "      <th></th>\n",
       "      <th></th>\n",
       "      <th></th>\n",
       "      <th></th>\n",
       "      <th></th>\n",
       "      <th></th>\n",
       "    </tr>\n",
       "  </thead>\n",
       "  <tbody>\n",
       "    <tr>\n",
       "      <th>0</th>\n",
       "      <td>424.0</td>\n",
       "      <td>30.626179</td>\n",
       "      <td>14.172110</td>\n",
       "      <td>1.00</td>\n",
       "      <td>21.0</td>\n",
       "      <td>28.0</td>\n",
       "      <td>39.0</td>\n",
       "      <td>74.0</td>\n",
       "      <td>549.0</td>\n",
       "      <td>447.016393</td>\n",
       "      <td>...</td>\n",
       "      <td>675.0</td>\n",
       "      <td>891.0</td>\n",
       "      <td>549.0</td>\n",
       "      <td>2.531876</td>\n",
       "      <td>0.735805</td>\n",
       "      <td>1.0</td>\n",
       "      <td>2.0</td>\n",
       "      <td>3.0</td>\n",
       "      <td>3.0</td>\n",
       "      <td>3.0</td>\n",
       "    </tr>\n",
       "    <tr>\n",
       "      <th>1</th>\n",
       "      <td>290.0</td>\n",
       "      <td>28.343690</td>\n",
       "      <td>14.950952</td>\n",
       "      <td>0.42</td>\n",
       "      <td>19.0</td>\n",
       "      <td>28.0</td>\n",
       "      <td>36.0</td>\n",
       "      <td>80.0</td>\n",
       "      <td>342.0</td>\n",
       "      <td>444.368421</td>\n",
       "      <td>...</td>\n",
       "      <td>651.5</td>\n",
       "      <td>890.0</td>\n",
       "      <td>342.0</td>\n",
       "      <td>1.950292</td>\n",
       "      <td>0.863321</td>\n",
       "      <td>1.0</td>\n",
       "      <td>1.0</td>\n",
       "      <td>2.0</td>\n",
       "      <td>3.0</td>\n",
       "      <td>3.0</td>\n",
       "    </tr>\n",
       "  </tbody>\n",
       "</table>\n",
       "<p>2 rows × 24 columns</p>\n",
       "</div>"
      ],
      "text/plain": [
       "            Age                                                      \\\n",
       "          count       mean        std   min   25%   50%   75%   max   \n",
       "Survived                                                              \n",
       "0         424.0  30.626179  14.172110  1.00  21.0  28.0  39.0  74.0   \n",
       "1         290.0  28.343690  14.950952  0.42  19.0  28.0  36.0  80.0   \n",
       "\n",
       "         PassengerId             ...                Pclass            \\\n",
       "               count        mean ...     75%    max  count      mean   \n",
       "Survived                         ...                                   \n",
       "0              549.0  447.016393 ...   675.0  891.0  549.0  2.531876   \n",
       "1              342.0  444.368421 ...   651.5  890.0  342.0  1.950292   \n",
       "\n",
       "                                             \n",
       "               std  min  25%  50%  75%  max  \n",
       "Survived                                     \n",
       "0         0.735805  1.0  2.0  3.0  3.0  3.0  \n",
       "1         0.863321  1.0  1.0  2.0  3.0  3.0  \n",
       "\n",
       "[2 rows x 24 columns]"
      ]
     },
     "execution_count": 17,
     "metadata": {},
     "output_type": "execute_result"
    }
   ],
   "source": [
    "data_by_survived = titanic_data.groupby(['Survived'])\n",
    "data_by_survived.describe()"
   ]
  },
  {
   "cell_type": "code",
   "execution_count": 18,
   "metadata": {},
   "outputs": [
    {
     "data": {
      "text/plain": [
       "Survived\n",
       "0    30.626179\n",
       "1    28.343690\n",
       "Name: Age, dtype: float64"
      ]
     },
     "execution_count": 18,
     "metadata": {},
     "output_type": "execute_result"
    }
   ],
   "source": [
    "data_by_survived['Age'].mean()"
   ]
  },
  {
   "cell_type": "markdown",
   "metadata": {},
   "source": [
    "#### The distribution of Age"
   ]
  },
  {
   "cell_type": "code",
   "execution_count": 19,
   "metadata": {},
   "outputs": [],
   "source": [
    "titanic_data_survived = get_column_with_condition(titanic_data_with_Age,['Age'],1)\n",
    "titanic_data_non_survived = get_column_with_condition(titanic_data_with_Age,['Age'],0)"
   ]
  },
  {
   "cell_type": "code",
   "execution_count": 20,
   "metadata": {
    "scrolled": true
   },
   "outputs": [
    {
     "data": {
      "image/png": "[encoded data removed]",
      "text/plain": [
       "<matplotlib.figure.Figure at 0x10b899a58>"
      ]
     },
     "metadata": {},
     "output_type": "display_data"
    }
   ],
   "source": [
    "#Distribution of survived and unsurvivied passengers\n",
    "plt.title('Age VS Count')\n",
    "plt.xlabel('Age')\n",
    "plt.ylabel('Count')\n",
    "plt.hist(titanic_data_with_Age['Age'], alpha=0.7, label='total')#total number of passengers\n",
    "plt.hist(titanic_data_non_survived['Age'], alpha=0.7, label='unsurvived')#the number of unsurvived passengers\n",
    "plt.hist(titanic_data_survived['Age'], alpha=0.7, label='survived')#the number of survived passengers\n",
    "plt.legend(loc='upper right')\n",
    "plt.show()"
   ]
  },
  {
   "cell_type": "markdown",
   "metadata": {},
   "source": [
    "#### Posibilities for different age range"
   ]
  },
  {
   "cell_type": "code",
   "execution_count": 21,
   "metadata": {},
   "outputs": [
    {
     "name": "stdout",
     "output_type": "stream",
     "text": [
      "[ 0 10 20 30 40 50 60 70 80]\n",
      "   PassengerId  Survived  Pclass     Sex   Age Age_group\n",
      "0            1         0       3    male  22.0  (20, 30]\n",
      "1            2         1       1  female  38.0  (30, 40]\n",
      "2            3         1       3  female  26.0  (20, 30]\n",
      "3            4         1       1  female  35.0  (30, 40]\n",
      "4            5         0       3    male  35.0  (30, 40]\n"
     ]
    }
   ],
   "source": [
    "# Group the passenagers by Age with step 10\n",
    "bins = np.arange(0,90,10)\n",
    "print(bins)\n",
    "titanic_data_with_Age['Age_group'] = pd.cut(titanic_data_with_Age['Age'],bins)\n",
    "print(titanic_data_with_Age.head())"
   ]
  },
  {
   "cell_type": "code",
   "execution_count": 22,
   "metadata": {},
   "outputs": [
    {
     "data": {
      "text/plain": [
       "Age_group\n",
       "(0, 10]      64\n",
       "(10, 20]    115\n",
       "(20, 30]    230\n",
       "(30, 40]    155\n",
       "(40, 50]     86\n",
       "Name: PassengerId, dtype: int64"
      ]
     },
     "execution_count": 22,
     "metadata": {},
     "output_type": "execute_result"
    }
   ],
   "source": [
    "titanic_data_by_number = titanic_data_with_Age.groupby(['Age_group'])['PassengerId'].count()\n",
    "titanic_data_by_number.head()"
   ]
  },
  {
   "cell_type": "code",
   "execution_count": 23,
   "metadata": {},
   "outputs": [
    {
     "name": "stdout",
     "output_type": "stream",
     "text": [
      "Survived          0         1\n",
      "Age_group                    \n",
      "(0, 10]    0.406250  0.593750\n",
      "(10, 20]   0.617391  0.382609\n",
      "(20, 30]   0.634783  0.365217\n",
      "(30, 40]   0.554839  0.445161\n",
      "(40, 50]   0.616279  0.383721\n",
      "(50, 60]   0.595238  0.404762\n",
      "(60, 70]   0.764706  0.235294\n",
      "(70, 80]   0.800000  0.200000\n"
     ]
    }
   ],
   "source": [
    "#Calculate posibilities\n",
    "titanic_data_by_posibilities = calculate_surrived_possibility_vectoriezed(titanic_data_with_Age,'Age_group').unstack()\n",
    "print(titanic_data_by_posibilities)"
   ]
  },
  {
   "cell_type": "code",
   "execution_count": 24,
   "metadata": {},
   "outputs": [
    {
     "data": {
      "text/plain": [
       "<matplotlib.figure.Figure at 0x10b8d7d30>"
      ]
     },
     "metadata": {},
     "output_type": "display_data"
    },
    {
     "data": {
      "image/png": "[encoded data removed]",
      "text/plain": [
       "<matplotlib.figure.Figure at 0x10b8d7c50>"
      ]
     },
     "metadata": {},
     "output_type": "display_data"
    }
   ],
   "source": [
    "# Visiualize the Data\n",
    "plt.figure(figsize = (12,5))\n",
    "f,(ax1,ax2) = plt.subplots(1,2)\n",
    "f.set_size_inches((12,6))\n",
    "\n",
    "\n",
    "titanic_data_by_number.plot(kind='bar',ax = ax1, stacked=True)\n",
    "titanic_data_by_posibilities.plot(kind='bar',ax = ax2, stacked=True)\n",
    "\n",
    "ax1.set_title('Age_group VS Count')\n",
    "ax1.set_ylabel('Count')\n",
    "\n",
    "ax2.set_title('Age_group VS Posibility')\n",
    "ax2.set_ylabel('Posibility')\n",
    "\n",
    "plt.show()"
   ]
  },
  {
   "cell_type": "code",
   "execution_count": 25,
   "metadata": {},
   "outputs": [],
   "source": [
    "#previous version,not used.\n",
    "#posibility of passengers from 0 to 8 years old\n",
    "#calculate_survived_posibility_between_ages(titanic_data_with_Age,0 , 8)"
   ]
  },
  {
   "cell_type": "markdown",
   "metadata": {},
   "source": [
    "#### Tentative Conclusion \n",
    "- From the mean of 'Age', the average age of passengers survivied is younger than that of ones unsurvived.\n",
    "- Children aged from 0 to 10 are more likely to be survived.\n",
    "- The chance of passengers aged from 30 to 40 is higher than the chance of passengers aged from 20 to 30."
   ]
  },
  {
   "cell_type": "markdown",
   "metadata": {},
   "source": [
    "<a id='posi_pclass_age'></a>\n",
    "### Pclass and Age"
   ]
  },
  {
   "cell_type": "markdown",
   "metadata": {},
   "source": [
    "#### Distribution of Age for passengers of Each Pclass\n",
    "\n"
   ]
  },
  {
   "cell_type": "code",
   "execution_count": 26,
   "metadata": {},
   "outputs": [
    {
     "data": {
      "text/plain": [
       "Text(0,0.5,'Age')"
      ]
     },
     "execution_count": 26,
     "metadata": {},
     "output_type": "execute_result"
    },
    {
     "data": {
      "image/png": "[encoded data removed]",
      "text/plain": [
       "<matplotlib.figure.Figure at 0x1a1b169cf8>"
      ]
     },
     "metadata": {},
     "output_type": "display_data"
    }
   ],
   "source": [
    "# box plot\n",
    "titanic_data_with_Age.boxplot(by = 'Pclass', figsize=(7, 7), column = 'Age')\n",
    "plt.ylabel('Age')"
   ]
  },
  {
   "cell_type": "code",
   "execution_count": 27,
   "metadata": {},
   "outputs": [
    {
     "data": {
      "text/plain": [
       "<matplotlib.collections.PathCollection at 0x1a11f8ca90>"
      ]
     },
     "execution_count": 27,
     "metadata": {},
     "output_type": "execute_result"
    },
    {
     "data": {
      "image/png": "[encoded data removed]",
      "text/plain": [
       "<matplotlib.figure.Figure at 0x1a1b1f2f98>"
      ]
     },
     "metadata": {},
     "output_type": "display_data"
    }
   ],
   "source": [
    "# Scatter plot, just for practice\n",
    "plt.scatter(titanic_data_with_Age['Pclass'], titanic_data_with_Age['Age'], c = titanic_data_with_Age['Survived'])"
   ]
  },
  {
   "cell_type": "markdown",
   "metadata": {},
   "source": [
    "#### Distribution of Grouped Age for passengers of Each Pclass\n"
   ]
  },
  {
   "cell_type": "code",
   "execution_count": 28,
   "metadata": {},
   "outputs": [
    {
     "data": {
      "text/plain": [
       "<matplotlib.legend.Legend at 0x1a11e8cb70>"
      ]
     },
     "execution_count": 28,
     "metadata": {},
     "output_type": "execute_result"
    },
    {
     "data": {
      "text/plain": [
       "<matplotlib.figure.Figure at 0x10b7fc4a8>"
      ]
     },
     "metadata": {},
     "output_type": "display_data"
    },
    {
     "data": {
      "image/png": "[encoded data removed]",
      "text/plain": [
       "<matplotlib.figure.Figure at 0x1a11fe3be0>"
      ]
     },
     "metadata": {},
     "output_type": "display_data"
    }
   ],
   "source": [
    "# Get the number of passengers grouped by age and class\n",
    "number_each_group = titanic_data_with_Age.groupby(['Age_group','Pclass'])['PassengerId'].count().unstack()\n",
    "\n",
    "# Get the number of passengers grouped by age and class and Survived\n",
    "# Only keep the Survived passengers\n",
    "\n",
    "#titanic_data_with_Age_survived = titanic_data_with_Age.loc[titanic_data_with_Age['Survived'] ==1]\n",
    "titanic_data_with_Age_survived = get_column_with_condition(titanic_data_with_Age, ['Age_group','Pclass','PassengerId'], 1)\n",
    "number_each_group_survived = titanic_data_with_Age_survived.groupby(['Age_group','Pclass'])['PassengerId'].count().unstack()\n",
    "number_each_group_survived = number_each_group_survived.fillna(0)\n",
    "\n",
    "\n",
    "#show the data in one figure\n",
    "plt.figure(figsize = (12,5))\n",
    "fig, ax = plt.subplots()\n",
    "fig.set_size_inches((10,8))\n",
    "\n",
    "number_each_group.plot(kind='bar', alpha=.5,ax=ax)\n",
    "number_each_group_survived.plot(kind='bar',alpha=1, ax=ax)\n",
    "\n",
    "plt.title('Age_group vs Pclass vs Survived')\n",
    "plt.ylabel('Count')\n",
    "\n",
    "plt.legend(['1 Unservived', '2 Unservived', '3 Unservived', '1 Survived', '2 Survived', '3 Survived'])"
   ]
  },
  {
   "cell_type": "code",
   "execution_count": 29,
   "metadata": {},
   "outputs": [
    {
     "data": {
      "text/plain": [
       "Text(0,0.5,'Possibility of Survival')"
      ]
     },
     "execution_count": 29,
     "metadata": {},
     "output_type": "execute_result"
    },
    {
     "data": {
      "image/png": "[encoded data removed]",
      "text/plain": [
       "<matplotlib.figure.Figure at 0x1a1b154be0>"
      ]
     },
     "metadata": {},
     "output_type": "display_data"
    }
   ],
   "source": [
    "#print(number_each_group)\n",
    "#print(number_each_group_survived)\n",
    "\n",
    "posibilities = number_each_group_survived.div(number_each_group)\n",
    "#print(posibilities)\n",
    "posibilities.plot(kind='bar')\n",
    "plt.title('Age_group vs Pclass vs Possibility')\n",
    "plt.ylabel('Possibility of Survival')"
   ]
  },
  {
   "cell_type": "markdown",
   "metadata": {},
   "source": [
    "#### Tentative Conclusion \n",
    "- For each Pclass, the posibility of survival for children are higher.\n",
    "- For the Midddle and Lower class, no passengers aged 70 to 80 survived."
   ]
  },
  {
   "cell_type": "markdown",
   "metadata": {},
   "source": [
    "<a id='posi_pclass_sex'></a>\n",
    "### Pclass and Sex"
   ]
  },
  {
   "cell_type": "markdown",
   "metadata": {},
   "source": [
    "#### the distribution of females and males"
   ]
  },
  {
   "cell_type": "code",
   "execution_count": 30,
   "metadata": {},
   "outputs": [
    {
     "name": "stdout",
     "output_type": "stream",
     "text": [
      "Sex\n",
      "female    314\n",
      "male      577\n",
      "Name: PassengerId, dtype: int64\n"
     ]
    },
    {
     "data": {
      "text/plain": [
       "<matplotlib.axes._subplots.AxesSubplot at 0x10ab58128>"
      ]
     },
     "execution_count": 30,
     "metadata": {},
     "output_type": "execute_result"
    },
    {
     "data": {
      "image/png": "[encoded data removed]",
      "text/plain": [
       "<matplotlib.figure.Figure at 0x10ab8ae48>"
      ]
     },
     "metadata": {},
     "output_type": "display_data"
    }
   ],
   "source": [
    "# there are more males than females\n",
    "data_by_sex = titanic_data.groupby(['Sex'])\n",
    "\n",
    "numbers_by_sex = get_number_of_passengers(data_by_sex)\n",
    "print(numbers_by_sex)\n",
    "numbers_by_sex.plot(kind='pie')"
   ]
  },
  {
   "cell_type": "markdown",
   "metadata": {},
   "source": [
    "#### the distribution of females and males each class"
   ]
  },
  {
   "cell_type": "code",
   "execution_count": 31,
   "metadata": {},
   "outputs": [
    {
     "data": {
      "text/plain": [
       "Text(0,0.5,'Count')"
      ]
     },
     "execution_count": 31,
     "metadata": {},
     "output_type": "execute_result"
    },
    {
     "data": {
      "image/png": "[encoded data removed]",
      "text/plain": [
       "<matplotlib.figure.Figure at 0x1a1b174b70>"
      ]
     },
     "metadata": {},
     "output_type": "display_data"
    }
   ],
   "source": [
    "data_by_class_sex = titanic_data.groupby(['Pclass','Sex'])\n",
    "\n",
    "numbers_by_class_sex = get_number_of_passengers(data_by_class_sex)\n",
    "\n",
    "numbers_by_class_sex.unstack().plot(kind='bar')\n",
    "plt.title('Pclass vs Sex')\n",
    "plt.ylabel('Count')"
   ]
  },
  {
   "cell_type": "markdown",
   "metadata": {},
   "source": [
    "#### the distribution of survived females and males each class"
   ]
  },
  {
   "cell_type": "code",
   "execution_count": 32,
   "metadata": {},
   "outputs": [],
   "source": [
    "# Get the Number of survived passengers grouped by Pclass and Sex\n",
    "\n",
    "titanic_data_survived = get_column_with_condition(titanic_data, ['Pclass','Sex','PassengerId'], 1)\n",
    "\n",
    "data_by_class_sex_survived = titanic_data_survived.groupby(['Pclass','Sex'])\n",
    "numbers_by_class_sex_survived = get_number_of_passengers(data_by_class_sex_survived)"
   ]
  },
  {
   "cell_type": "code",
   "execution_count": 34,
   "metadata": {},
   "outputs": [
    {
     "name": "stdout",
     "output_type": "stream",
     "text": [
      "Pclass  Sex   \n",
      "1       female    0.968085\n",
      "        male      0.368852\n",
      "2       female    0.921053\n",
      "        male      0.157407\n",
      "3       female    0.500000\n",
      "        male      0.135447\n",
      "Name: PassengerId, dtype: float64\n"
     ]
    },
    {
     "data": {
      "text/plain": [
       "Text(0,0.5,'Possibility')"
      ]
     },
     "execution_count": 34,
     "metadata": {},
     "output_type": "execute_result"
    },
    {
     "data": {
      "image/png": "[encoded data removed]",
      "text/plain": [
       "<matplotlib.figure.Figure at 0x1a1b9b8048>"
      ]
     },
     "metadata": {},
     "output_type": "display_data"
    }
   ],
   "source": [
    "# Calculte the possibility\n",
    "\n",
    "posibilities = numbers_by_class_sex_survived.div(numbers_by_class_sex)\n",
    "print(posibilities)\n",
    "\n",
    "# Show the Data\n",
    "posibilities.unstack().plot(kind='bar')\n",
    "plt.title('Pclass vs Sex')\n",
    "plt.ylabel('Possibility')"
   ]
  },
  {
   "cell_type": "markdown",
   "metadata": {},
   "source": [
    "#### Tentative Conclusion \n",
    "- There are more males than females for each class;\n",
    "- The fraction of survived females is much higher than one of survived males for each class;\n",
    "- The fraction of survived females increases for 50% to 92% to 97% as class level increases."
   ]
  },
  {
   "cell_type": "markdown",
   "metadata": {},
   "source": [
    "<a id='conclusions'></a>\n",
    "##  Conclusions\n",
    "\n",
    "After analysis, we can conclude the following results:\n",
    "- Pclass, Sex and Age have incluence on the possibility of survival.\n",
    "- Specifically, children and females are more likely survived; \n",
    "- Passengers for upper class are more likely survived.\n",
    "\n",
    "The sample size is 891. However, there were 2224 passengers in Titanic.    \n",
    "In addition, we don't know the age of some passengers.     \n",
    "This analysis only focuses on 'Pclass', 'Age' and 'Sex', there may be other factors which influence the results.     \n",
    "It's possible that there exists bias.   \n"
   ]
  },
  {
   "cell_type": "code",
   "execution_count": null,
   "metadata": {},
   "outputs": [],
   "source": []
  }
 ],
 "metadata": {
  "kernelspec": {
   "display_name": "Python 3",
   "language": "python",
   "name": "python3"
  },
  "language_info": {
   "codemirror_mode": {
    "name": "ipython",
    "version": 3
   },
   "file_extension": ".py",
   "mimetype": "text/x-python",
   "name": "python",
   "nbconvert_exporter": "python",
   "pygments_lexer": "ipython3",
   "version": "3.6.4"
  },
  "toc": {
   "colors": {
    "hover_highlight": "#DAA520",
    "navigate_num": "#000000",
    "navigate_text": "#333333",
    "running_highlight": "#FF0000",
    "selected_highlight": "#FFD700",
    "sidebar_border": "#EEEEEE",
    "wrapper_background": "#FFFFFF"
   },
   "moveMenuLeft": true,
   "nav_menu": {
    "height": "174px",
    "width": "252px"
   },
   "navigate_menu": true,
   "number_sections": true,
   "sideBar": true,
   "threshold": 4,
   "toc_cell": false,
   "toc_section_display": "block",
   "toc_window_display": false,
   "widenNotebook": false
  }
 },
 "nbformat": 4,
 "nbformat_minor": 2
}
