{
 "cells": [
  {
   "cell_type": "markdown",
   "metadata": {},
   "source": [
    "# Goals\n",
    "- Know all the steps involved in a typical data analysis process\n",
    "- Be comfortable posing questions that can be answered with a given dataset and then answering those questions\n",
    "- Know how to investigate problems in a dataset and wrangle the data into a format you can use\n",
    "- Have practice communicating the results of your analysis\n",
    "- Be able to use vectorized operations in NumPy and Pandas to speed up your data analysis code\n",
    "- Be familiar with Pandas' Series and DataFrame objects, which let you access your data more conveniently\n",
    "- Know how to use Matplotlib to produce plots showing your findings\n",
    "\n"
   ]
  },
  {
   "cell_type": "markdown",
   "metadata": {},
   "source": [
    "# Introduction\n",
    "For the final project, you will conduct your own data analysis and create a file to share that documents your findings.     \n",
    "You should start by taking a look at your dataset and brainstorming what questions you could answer using it.    \n",
    "Then you should use Pandas and NumPy to answer the questions you are most interested in, and create a report sharing the answers.     \n",
    "You will not be required to use inferential statistics or machine learning to complete this project, but you should make it clear in your communications that your findings are tentative.     \n",
    "This project is open-ended in that we are not looking for one right answer."
   ]
  },
  {
   "cell_type": "markdown",
   "metadata": {},
   "source": [
    "# Step One - Choose Your Data Set\n",
    "Click this link to open a document with links and information about data sets that you can investigate for this project. You must choose one of these datasets to complete the project.    \n",
    "https://docs.google.com/document/d/e/2PACX-1vTlVmknRRnfy_4eTrjw5hYGaiQim5ctr9naaRd4V9du2B5bxpd8FEH3KtDgp8qVekw7Cj1GLk1IXdZi/pub?embedded=True\n",
    "\n",
    "      \n",
    "包括泰坦尼克号上 2224 名乘客和船员中 891 名的人口学数据和乘客基本信息"
   ]
  },
  {
   "cell_type": "markdown",
   "metadata": {},
   "source": [
    "# Step Two - Get Organized\n",
    "Eventually you’ll want to submit your project (and share it with friends, family, and employers). Get organized before you begin. We recommend creating a single folder that will eventually contain:\n",
    "\n",
    "- The report communicating your findings\n",
    "- Any Python code you wrote as part of your analysis\n",
    "- The data set you used (which you will not need to submit)    \n",
    "You may wish to use Jupyter notebook, in which case you can submit both the code you wrote and the report of your findings in the same document. Otherwise, you will need to submit your report and code separately. If you would like a notebook template to help organize your investigation, you can find a link in the resources at the bottom of the page or you can click here. You can also complete and submit the project in the classroom by going to the Project Notebook part of this lesson."
   ]
  },
  {
   "cell_type": "markdown",
   "metadata": {},
   "source": [
    "# Step Three - Analyze Your Data\n",
    "Brainstorm some questions you could answer using the data set you chose, then start answering those questions. You can find some questions in the data set options to help you get started.\n",
    "\n",
    "Try and suggest questions that promote looking at relationships between multiple variables. You should aim to analyze at least one dependent variable and three independent variables in your investigation. Make sure you use NumPy and Pandas where they are appropriate!"
   ]
  },
  {
   "cell_type": "markdown",
   "metadata": {},
   "source": [
    "# Step Four - Share Your Findings\n",
    "Once you have finished analyzing the data, create a report that shares the findings you found most interesting. If you use a Jupyter notebook, share your findings alongside the code you used to perform the analysis. make sure that your report text is contained in Markdown cells to clearly distinguish your comments and findings from your code work. You should also feel free to use other tools and software to craft your final report, but make sure that you can submit your report as an HTML or PDF file so that it can be opened easily."
   ]
  },
  {
   "cell_type": "markdown",
   "metadata": {},
   "source": [
    "# Step Five - Review\n",
    "Use the Project Rubric to review your project. If you are happy with your submission, then you're ready to submit your project. If you see room for improvement, keep working to improve your project!"
   ]
  },
  {
   "cell_type": "code",
   "execution_count": null,
   "metadata": {},
   "outputs": [],
   "source": []
  }
 ],
 "metadata": {
  "kernelspec": {
   "display_name": "Python 3",
   "language": "python",
   "name": "python3"
  },
  "language_info": {
   "codemirror_mode": {
    "name": "ipython",
    "version": 3
   },
   "file_extension": ".py",
   "mimetype": "text/x-python",
   "name": "python",
   "nbconvert_exporter": "python",
   "pygments_lexer": "ipython3",
   "version": "3.6.4"
  },
  "toc": {
   "colors": {
    "hover_highlight": "#DAA520",
    "navigate_num": "#000000",
    "navigate_text": "#333333",
    "running_highlight": "#FF0000",
    "selected_highlight": "#FFD700",
    "sidebar_border": "#EEEEEE",
    "wrapper_background": "#FFFFFF"
   },
   "moveMenuLeft": true,
   "nav_menu": {
    "height": "84px",
    "width": "252px"
   },
   "navigate_menu": true,
   "number_sections": true,
   "sideBar": true,
   "threshold": 4,
   "toc_cell": false,
   "toc_section_display": "block",
   "toc_window_display": false,
   "widenNotebook": false
  }
 },
 "nbformat": 4,
 "nbformat_minor": 2
}
