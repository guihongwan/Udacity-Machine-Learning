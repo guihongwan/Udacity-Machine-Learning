{
 "cells": [
  {
   "cell_type": "markdown",
   "metadata": {},
   "source": [
    "\n",
    "\n",
    "# Project: Investigate a Dataset (Titanic)\n",
    "\n",
    "## Table of Contents\n",
    "<ul>\n",
    "<li><a href=\"#intro\">Introduction</a></li>\n",
    "<li><a href=\"#wrangling\">Data Wrangling</a></li>\n",
    "<li><a href=\"#eda\">Exploratory Data Analysis</a></li>\n",
    "    <ul>\n",
    "    <li><a href=\"#posibility\">Posibility of Survival</a></li>\n",
    "    <li><a href=\"#posi_pclass\">Pclass</a></li>\n",
    "    <li><a href=\"#posi_sex\">Sex</a></li>\n",
    "    <li><a href=\"#posi_age\">Age</a></li>\n",
    "    <li><a href=\"#posi_pclass_age\">Pclass and Age</a></li>\n",
    "    <li><a href=\"#posi_pclass_sex\">Pclass and Sex</a></li>\n",
    "    </ul>\n",
    "<li><a href=\"#conclusions\">Conclusions</a></li>\n",
    "</ul>"
   ]
  },
  {
   "cell_type": "markdown",
   "metadata": {},
   "source": [
    "<a id='intro'></a>\n",
    "## Introduction\n",
    "\n",
    "I would like to analyze Titanic data set.    \n",
    "I will try to answer that \"How 'Pclass, Sex, and Age' influence the possibility of survival?\"    \n",
    "I will focus on Pclass, Sex, Age.    \n",
    "I will start from a signle factor and then take several factors together into consideration."
   ]
  },
  {
   "cell_type": "code",
   "execution_count": 1,
   "metadata": {},
   "outputs": [
    {
     "name": "stdout",
     "output_type": "stream",
     "text": [
      "Populating the interactive namespace from numpy and matplotlib\n"
     ]
    }
   ],
   "source": [
    "# Set up import statements for all of the packages that I plan to use.\n",
    "\n",
    "# Remember to include a 'magic word' so that your visualizations are plotted\n",
    "#   inline with the notebook. See this page for more:\n",
    "#   http://ipython.readthedocs.io/en/stable/interactive/magics.html\n",
    "\n",
    "import matplotlib.pyplot as plt\n",
    "import numpy as np\n",
    "import pandas as pd\n",
    "import seaborn as sns\n",
    "%pylab inline"
   ]
  },
  {
   "cell_type": "markdown",
   "metadata": {},
   "source": [
    "Methods:"
   ]
  },
  {
   "cell_type": "code",
   "execution_count": 2,
   "metadata": {},
   "outputs": [],
   "source": [
    "# check whether there is a null\n",
    "# input format: titanic_data['Age']\n",
    "def checkIsNull(data):\n",
    "    num = np.where(pd.isnull(data))[0].size\n",
    "    if num == 0:\n",
    "        print('No Null.')\n",
    "    else:\n",
    "        print(num)\n",
    "        \n",
    "# delete rows with empty cell in given fields\n",
    "# data: the original data set in Pandas.DataFrame, like titanic_data\n",
    "# \n",
    "def deleteNA(data, fieldlist):\n",
    "    return data.dropna(subset=[fieldlist])\n",
    "\n",
    "\n",
    "# Get the columns interested in\n",
    "# Input: titanic_data, ['PassengerId','Age']\n",
    "def get_interested_colums(data,fieldlist):\n",
    "    return data.loc[:,fieldlist]\n",
    "\n",
    "#Get number of passengers according to 'PassengerId'\n",
    "def get_number_of_passengers(data):\n",
    "    return data.count()['PassengerId']\n",
    "\n",
    "# calculate posibility according to the number of items\n",
    "def calculatePosibility(target, total):\n",
    "    return len(target)/len(total)\n",
    "\n",
    "# calculate the posibilities for given field\n",
    "# data: titanic_data, fieldname: 'Sex'\n",
    "def calculate_surrived_possibility_vectoriezed(data, fieldname):\n",
    "    data_by_class = data.groupby(fieldname)\n",
    "    total = get_number_of_passengers(data_by_class)\n",
    "    \n",
    "    data_by_class_and_survived = titanic_data.groupby([fieldname,'Survived'])\n",
    "    target = get_number_of_passengers(data_by_class_and_survived)\n",
    "    \n",
    "    return target.div(total)\n",
    "\n",
    "# calculate the posibilities for given age range\n",
    "# e.g. calculate_survived_posibility_between_ages(titanic_data, 0, 18)\n",
    "\n",
    "def calculate_survived_posibility_between_ages(data, start_age, end_age):\n",
    "    total = data.loc[(data['Age']>start_age) &\n",
    "                     (data['Age']<end_age), 'Age']\n",
    "    target = data.loc[(data['Survived'] ==1) &\n",
    "                      (data['Age']>start_age) &\n",
    "                      (data['Age']<end_age), 'Age']\n",
    "    return calculatePosibility(target, total)\n",
    "\n",
    "# Get given Column with surrived condition\n",
    "\n",
    "def get_column(data, fieldname, survived = 0):\n",
    "    return data.loc[data['Survived'] ==survived,[fieldname]]\n",
    "\n",
    "# double items in a list\n",
    "# [2,3]->[2,2,3,3,]\n",
    "def dupItems(li):\n",
    "    new_li = []\n",
    "    for x in li:\n",
    "        new_li.append(x)\n",
    "        new_li.append(x)\n",
    "    return new_li"
   ]
  },
  {
   "cell_type": "markdown",
   "metadata": {},
   "source": [
    "<a id='wrangling'></a>\n",
    "## Data Wrangling\n",
    "\n",
    "Load in the data, check for cleanliness, and then trim and clean the dataset for analysis.\n",
    "\n",
    "- I will only focus on 'Pclass', 'Sex', and 'Age'. Because:\n",
    "- a. it's less likely that 'Name', 'Ticket' will influence the survival.    \n",
    "- b. 'Fare' corresponds to 'PClass'. \n",
    "- c. There are a lot passengers absent of the 'Cabin' information.\n",
    "- d. For simplicity, just ignore , 'SibSp', 'Parch' and 'Embarked' here.\n",
    "\n",
    "\n",
    "### General Properties"
   ]
  },
  {
   "cell_type": "code",
   "execution_count": 3,
   "metadata": {},
   "outputs": [
    {
     "data": {
      "text/html": [
       "<div>\n",
       "<style scoped>\n",
       "    .dataframe tbody tr th:only-of-type {\n",
       "        vertical-align: middle;\n",
       "    }\n",
       "\n",
       "    .dataframe tbody tr th {\n",
       "        vertical-align: top;\n",
       "    }\n",
       "\n",
       "    .dataframe thead th {\n",
       "        text-align: right;\n",
       "    }\n",
       "</style>\n",
       "<table border=\"1\" class=\"dataframe\">\n",
       "  <thead>\n",
       "    <tr style=\"text-align: right;\">\n",
       "      <th></th>\n",
       "      <th>PassengerId</th>\n",
       "      <th>Survived</th>\n",
       "      <th>Pclass</th>\n",
       "      <th>Name</th>\n",
       "      <th>Sex</th>\n",
       "      <th>Age</th>\n",
       "      <th>SibSp</th>\n",
       "      <th>Parch</th>\n",
       "      <th>Ticket</th>\n",
       "      <th>Fare</th>\n",
       "      <th>Cabin</th>\n",
       "      <th>Embarked</th>\n",
       "    </tr>\n",
       "  </thead>\n",
       "  <tbody>\n",
       "    <tr>\n",
       "      <th>0</th>\n",
       "      <td>1</td>\n",
       "      <td>0</td>\n",
       "      <td>3</td>\n",
       "      <td>Braund, Mr. Owen Harris</td>\n",
       "      <td>male</td>\n",
       "      <td>22.0</td>\n",
       "      <td>1</td>\n",
       "      <td>0</td>\n",
       "      <td>A/5 21171</td>\n",
       "      <td>7.2500</td>\n",
       "      <td>NaN</td>\n",
       "      <td>S</td>\n",
       "    </tr>\n",
       "    <tr>\n",
       "      <th>1</th>\n",
       "      <td>2</td>\n",
       "      <td>1</td>\n",
       "      <td>1</td>\n",
       "      <td>Cumings, Mrs. John Bradley (Florence Briggs Th...</td>\n",
       "      <td>female</td>\n",
       "      <td>38.0</td>\n",
       "      <td>1</td>\n",
       "      <td>0</td>\n",
       "      <td>PC 17599</td>\n",
       "      <td>71.2833</td>\n",
       "      <td>C85</td>\n",
       "      <td>C</td>\n",
       "    </tr>\n",
       "    <tr>\n",
       "      <th>2</th>\n",
       "      <td>3</td>\n",
       "      <td>1</td>\n",
       "      <td>3</td>\n",
       "      <td>Heikkinen, Miss. Laina</td>\n",
       "      <td>female</td>\n",
       "      <td>26.0</td>\n",
       "      <td>0</td>\n",
       "      <td>0</td>\n",
       "      <td>STON/O2. 3101282</td>\n",
       "      <td>7.9250</td>\n",
       "      <td>NaN</td>\n",
       "      <td>S</td>\n",
       "    </tr>\n",
       "    <tr>\n",
       "      <th>3</th>\n",
       "      <td>4</td>\n",
       "      <td>1</td>\n",
       "      <td>1</td>\n",
       "      <td>Futrelle, Mrs. Jacques Heath (Lily May Peel)</td>\n",
       "      <td>female</td>\n",
       "      <td>35.0</td>\n",
       "      <td>1</td>\n",
       "      <td>0</td>\n",
       "      <td>113803</td>\n",
       "      <td>53.1000</td>\n",
       "      <td>C123</td>\n",
       "      <td>S</td>\n",
       "    </tr>\n",
       "    <tr>\n",
       "      <th>4</th>\n",
       "      <td>5</td>\n",
       "      <td>0</td>\n",
       "      <td>3</td>\n",
       "      <td>Allen, Mr. William Henry</td>\n",
       "      <td>male</td>\n",
       "      <td>35.0</td>\n",
       "      <td>0</td>\n",
       "      <td>0</td>\n",
       "      <td>373450</td>\n",
       "      <td>8.0500</td>\n",
       "      <td>NaN</td>\n",
       "      <td>S</td>\n",
       "    </tr>\n",
       "  </tbody>\n",
       "</table>\n",
       "</div>"
      ],
      "text/plain": [
       "   PassengerId  Survived  Pclass  \\\n",
       "0            1         0       3   \n",
       "1            2         1       1   \n",
       "2            3         1       3   \n",
       "3            4         1       1   \n",
       "4            5         0       3   \n",
       "\n",
       "                                                Name     Sex   Age  SibSp  \\\n",
       "0                            Braund, Mr. Owen Harris    male  22.0      1   \n",
       "1  Cumings, Mrs. John Bradley (Florence Briggs Th...  female  38.0      1   \n",
       "2                             Heikkinen, Miss. Laina  female  26.0      0   \n",
       "3       Futrelle, Mrs. Jacques Heath (Lily May Peel)  female  35.0      1   \n",
       "4                           Allen, Mr. William Henry    male  35.0      0   \n",
       "\n",
       "   Parch            Ticket     Fare Cabin Embarked  \n",
       "0      0         A/5 21171   7.2500   NaN        S  \n",
       "1      0          PC 17599  71.2833   C85        C  \n",
       "2      0  STON/O2. 3101282   7.9250   NaN        S  \n",
       "3      0            113803  53.1000  C123        S  \n",
       "4      0            373450   8.0500   NaN        S  "
      ]
     },
     "execution_count": 3,
     "metadata": {},
     "output_type": "execute_result"
    }
   ],
   "source": [
    "# Load data and print out a few lines. \n",
    "\n",
    "filename = \"titanic-data.csv\"\n",
    "titanic_data = pd.read_csv('titanic-data.csv')\n",
    "titanic_data.head()"
   ]
  },
  {
   "cell_type": "code",
   "execution_count": 4,
   "metadata": {},
   "outputs": [
    {
     "name": "stdout",
     "output_type": "stream",
     "text": [
      "int64\n",
      "int64\n",
      "int64\n",
      "object\n",
      "object\n",
      "float64\n",
      "int64\n",
      "int64\n"
     ]
    }
   ],
   "source": [
    "# Perform operations to inspect data types and look for instances of missing or possibly errant data.\n",
    "# check whether the data types meet the needs.\n",
    "\n",
    "# All of the data types meet my needs.\n",
    "\n",
    "print(titanic_data['PassengerId'].dtype)\n",
    "print(titanic_data['Survived'].dtype)\n",
    "print(titanic_data['Pclass'].dtype)\n",
    "print(titanic_data['Name'].dtype)\n",
    "print(titanic_data['Sex'].dtype)\n",
    "print(titanic_data['Age'].dtype)\n",
    "print(titanic_data['SibSp'].dtype)\n",
    "print(titanic_data['Parch'].dtype)"
   ]
  },
  {
   "cell_type": "code",
   "execution_count": 5,
   "metadata": {},
   "outputs": [
    {
     "name": "stdout",
     "output_type": "stream",
     "text": [
      "No Null.\n",
      "No Null.\n",
      "No Null.\n",
      "No Null.\n",
      "No Null.\n",
      "No Null.\n",
      "177\n"
     ]
    }
   ],
   "source": [
    "#Check the empty cells\n",
    "#There are a lot of empty cells in 'Age' column\n",
    "\n",
    "checkIsNull(titanic_data['PassengerId'])\n",
    "checkIsNull(titanic_data['Survived'])\n",
    "checkIsNull(titanic_data['Pclass'])\n",
    "checkIsNull(titanic_data['Fare'])\n",
    "checkIsNull(titanic_data['Name'])\n",
    "checkIsNull(titanic_data['Sex'])\n",
    "checkIsNull(titanic_data['Age'])"
   ]
  },
  {
   "cell_type": "markdown",
   "metadata": {},
   "source": [
    "\n",
    "### Data Cleaning "
   ]
  },
  {
   "cell_type": "code",
   "execution_count": 6,
   "metadata": {},
   "outputs": [
    {
     "name": "stdout",
     "output_type": "stream",
     "text": [
      "891\n",
      "714\n",
      "No Null.\n"
     ]
    }
   ],
   "source": [
    "# Delete the rows which 'Age' is NAN\n",
    "# Output: titanic_data_with_Age\n",
    "print(len(titanic_data))\n",
    "titanic_data_with_Age = deleteNA(titanic_data, 'Age')\n",
    "\n",
    "#check again\n",
    "print(len(titanic_data_with_Age))\n",
    "checkIsNull(titanic_data_with_Age['Age'])"
   ]
  },
  {
   "cell_type": "code",
   "execution_count": 7,
   "metadata": {},
   "outputs": [
    {
     "data": {
      "text/html": [
       "<div>\n",
       "<style scoped>\n",
       "    .dataframe tbody tr th:only-of-type {\n",
       "        vertical-align: middle;\n",
       "    }\n",
       "\n",
       "    .dataframe tbody tr th {\n",
       "        vertical-align: top;\n",
       "    }\n",
       "\n",
       "    .dataframe thead th {\n",
       "        text-align: right;\n",
       "    }\n",
       "</style>\n",
       "<table border=\"1\" class=\"dataframe\">\n",
       "  <thead>\n",
       "    <tr style=\"text-align: right;\">\n",
       "      <th></th>\n",
       "      <th>PassengerId</th>\n",
       "      <th>Survived</th>\n",
       "      <th>Pclass</th>\n",
       "      <th>Sex</th>\n",
       "      <th>Age</th>\n",
       "    </tr>\n",
       "  </thead>\n",
       "  <tbody>\n",
       "    <tr>\n",
       "      <th>0</th>\n",
       "      <td>1</td>\n",
       "      <td>0</td>\n",
       "      <td>3</td>\n",
       "      <td>male</td>\n",
       "      <td>22.0</td>\n",
       "    </tr>\n",
       "    <tr>\n",
       "      <th>1</th>\n",
       "      <td>2</td>\n",
       "      <td>1</td>\n",
       "      <td>1</td>\n",
       "      <td>female</td>\n",
       "      <td>38.0</td>\n",
       "    </tr>\n",
       "    <tr>\n",
       "      <th>2</th>\n",
       "      <td>3</td>\n",
       "      <td>1</td>\n",
       "      <td>3</td>\n",
       "      <td>female</td>\n",
       "      <td>26.0</td>\n",
       "    </tr>\n",
       "    <tr>\n",
       "      <th>3</th>\n",
       "      <td>4</td>\n",
       "      <td>1</td>\n",
       "      <td>1</td>\n",
       "      <td>female</td>\n",
       "      <td>35.0</td>\n",
       "    </tr>\n",
       "    <tr>\n",
       "      <th>4</th>\n",
       "      <td>5</td>\n",
       "      <td>0</td>\n",
       "      <td>3</td>\n",
       "      <td>male</td>\n",
       "      <td>35.0</td>\n",
       "    </tr>\n",
       "  </tbody>\n",
       "</table>\n",
       "</div>"
      ],
      "text/plain": [
       "   PassengerId  Survived  Pclass     Sex   Age\n",
       "0            1         0       3    male  22.0\n",
       "1            2         1       1  female  38.0\n",
       "2            3         1       3  female  26.0\n",
       "3            4         1       1  female  35.0\n",
       "4            5         0       3    male  35.0"
      ]
     },
     "execution_count": 7,
     "metadata": {},
     "output_type": "execute_result"
    }
   ],
   "source": [
    "# only keep the columns interested in\n",
    "interested_list = ['PassengerId','Survived','Pclass','Sex','Age']\n",
    "\n",
    "titanic_data_clean = get_interested_colums(titanic_data, interested_list)\n",
    "titanic_data_clean.head()"
   ]
  },
  {
   "cell_type": "code",
   "execution_count": 8,
   "metadata": {},
   "outputs": [
    {
     "name": "stdout",
     "output_type": "stream",
     "text": [
      "891\n",
      "714\n"
     ]
    },
    {
     "data": {
      "text/html": [
       "<div>\n",
       "<style scoped>\n",
       "    .dataframe tbody tr th:only-of-type {\n",
       "        vertical-align: middle;\n",
       "    }\n",
       "\n",
       "    .dataframe tbody tr th {\n",
       "        vertical-align: top;\n",
       "    }\n",
       "\n",
       "    .dataframe thead th {\n",
       "        text-align: right;\n",
       "    }\n",
       "</style>\n",
       "<table border=\"1\" class=\"dataframe\">\n",
       "  <thead>\n",
       "    <tr style=\"text-align: right;\">\n",
       "      <th></th>\n",
       "      <th>PassengerId</th>\n",
       "      <th>Survived</th>\n",
       "      <th>Pclass</th>\n",
       "      <th>Sex</th>\n",
       "      <th>Age</th>\n",
       "    </tr>\n",
       "  </thead>\n",
       "  <tbody>\n",
       "    <tr>\n",
       "      <th>0</th>\n",
       "      <td>1</td>\n",
       "      <td>0</td>\n",
       "      <td>3</td>\n",
       "      <td>male</td>\n",
       "      <td>22.0</td>\n",
       "    </tr>\n",
       "    <tr>\n",
       "      <th>1</th>\n",
       "      <td>2</td>\n",
       "      <td>1</td>\n",
       "      <td>1</td>\n",
       "      <td>female</td>\n",
       "      <td>38.0</td>\n",
       "    </tr>\n",
       "    <tr>\n",
       "      <th>2</th>\n",
       "      <td>3</td>\n",
       "      <td>1</td>\n",
       "      <td>3</td>\n",
       "      <td>female</td>\n",
       "      <td>26.0</td>\n",
       "    </tr>\n",
       "    <tr>\n",
       "      <th>3</th>\n",
       "      <td>4</td>\n",
       "      <td>1</td>\n",
       "      <td>1</td>\n",
       "      <td>female</td>\n",
       "      <td>35.0</td>\n",
       "    </tr>\n",
       "    <tr>\n",
       "      <th>4</th>\n",
       "      <td>5</td>\n",
       "      <td>0</td>\n",
       "      <td>3</td>\n",
       "      <td>male</td>\n",
       "      <td>35.0</td>\n",
       "    </tr>\n",
       "  </tbody>\n",
       "</table>\n",
       "</div>"
      ],
      "text/plain": [
       "   PassengerId  Survived  Pclass     Sex   Age\n",
       "0            1         0       3    male  22.0\n",
       "1            2         1       1  female  38.0\n",
       "2            3         1       3  female  26.0\n",
       "3            4         1       1  female  35.0\n",
       "4            5         0       3    male  35.0"
      ]
     },
     "execution_count": 8,
     "metadata": {},
     "output_type": "execute_result"
    }
   ],
   "source": [
    "titanic_data_with_Age_clean = get_interested_colums(titanic_data_with_Age, interested_list)\n",
    "print(len(titanic_data_clean))\n",
    "print(len(titanic_data_with_Age_clean))\n",
    "titanic_data_with_Age_clean.head()"
   ]
  },
  {
   "cell_type": "markdown",
   "metadata": {},
   "source": [
    "Note: I will use titanic_data or titanic_data_with_Age in following analysis depending on whether the factors relate to Age, in order to get more precise results."
   ]
  },
  {
   "cell_type": "code",
   "execution_count": 9,
   "metadata": {},
   "outputs": [],
   "source": [
    "#for test, to check whether they result in same posibilities.\n",
    "titanic_data = titanic_data_clean\n",
    "titanic_data_with_Age= titanic_data_with_Age_clean"
   ]
  },
  {
   "cell_type": "markdown",
   "metadata": {},
   "source": [
    "<a id='eda'></a>\n",
    "## Exploratory Data Analysis\n",
    "\n",
    "<a id='posibility'></a>\n",
    "### Posibility of Survival\n",
    "\n",
    "- Calculate the overall possibility of survival"
   ]
  },
  {
   "cell_type": "code",
   "execution_count": 10,
   "metadata": {},
   "outputs": [
    {
     "name": "stdout",
     "output_type": "stream",
     "text": [
      "0.3838383838383838\n"
     ]
    }
   ],
   "source": [
    "titanic_data_survived = titanic_data.loc[titanic_data['Survived'] ==1]\n",
    "\n",
    "posibility =  calculatePosibility(titanic_data_survived,titanic_data)\n",
    "\n",
    "print(posibility)"
   ]
  },
  {
   "cell_type": "markdown",
   "metadata": {},
   "source": [
    "<a id='posi_pclass'></a>\n",
    "###  Pclass\n",
    "\n",
    "- Step 1 How many passengers each class?\n",
    "- Step 2 The possibilities of survival each class?"
   ]
  },
  {
   "cell_type": "code",
   "execution_count": 11,
   "metadata": {},
   "outputs": [
    {
     "name": "stdout",
     "output_type": "stream",
     "text": [
      "Pclass  Survived\n",
      "1       0           0.370370\n",
      "        1           0.629630\n",
      "2       0           0.527174\n",
      "        1           0.472826\n",
      "3       0           0.757637\n",
      "        1           0.242363\n",
      "Name: PassengerId, dtype: float64\n"
     ]
    }
   ],
   "source": [
    "posibilities = calculate_surrived_possibility_vectoriezed(titanic_data,'Pclass')\n",
    "print(posibilities)"
   ]
  },
  {
   "cell_type": "code",
   "execution_count": 12,
   "metadata": {},
   "outputs": [
    {
     "data": {
      "text/plain": [
       "array([[ 1.        , -0.33848104],\n",
       "       [-0.33848104,  1.        ]])"
      ]
     },
     "execution_count": 12,
     "metadata": {},
     "output_type": "execute_result"
    }
   ],
   "source": [
    "# Pearson's r\n",
    "import numpy as np\n",
    "\n",
    "entries = titanic_data['Pclass']\n",
    "cum_entries = titanic_data['Survived']\n",
    "\n",
    "np.corrcoef(entries,cum_entries)"
   ]
  },
  {
   "cell_type": "markdown",
   "metadata": {},
   "source": [
    "### Tentative Conclusion  \n",
    "- The posibility of Survival(63%) for the Upper class(Pclass == 1) is highest and much higher than the overall possibility(38%).\n",
    "- The posibility of Survival(47%) for the Middle class(Pclass == 2) is higher than that(24%) for the Lower class(Pclass == 3)."
   ]
  },
  {
   "cell_type": "markdown",
   "metadata": {},
   "source": [
    "<a id='posi_sex'></a>\n",
    "###  Sex"
   ]
  },
  {
   "cell_type": "code",
   "execution_count": 13,
   "metadata": {},
   "outputs": [
    {
     "name": "stdout",
     "output_type": "stream",
     "text": [
      "Sex     Survived\n",
      "female  0           0.257962\n",
      "        1           0.742038\n",
      "male    0           0.811092\n",
      "        1           0.188908\n",
      "Name: PassengerId, dtype: float64\n"
     ]
    }
   ],
   "source": [
    "posibilities = calculate_surrived_possibility_vectoriezed(titanic_data,'Sex')\n",
    "print(posibilities)"
   ]
  },
  {
   "cell_type": "markdown",
   "metadata": {},
   "source": [
    "#### Tentative Conclusion \n",
    "- More females(74%) survivied in the disaster than males(19%)."
   ]
  },
  {
   "cell_type": "markdown",
   "metadata": {},
   "source": [
    "<a id='posi_age'></a>\n",
    "### Age"
   ]
  },
  {
   "cell_type": "code",
   "execution_count": 14,
   "metadata": {},
   "outputs": [
    {
     "data": {
      "text/html": [
       "<div>\n",
       "<style scoped>\n",
       "    .dataframe tbody tr th:only-of-type {\n",
       "        vertical-align: middle;\n",
       "    }\n",
       "\n",
       "    .dataframe tbody tr th {\n",
       "        vertical-align: top;\n",
       "    }\n",
       "\n",
       "    .dataframe thead tr th {\n",
       "        text-align: left;\n",
       "    }\n",
       "\n",
       "    .dataframe thead tr:last-of-type th {\n",
       "        text-align: right;\n",
       "    }\n",
       "</style>\n",
       "<table border=\"1\" class=\"dataframe\">\n",
       "  <thead>\n",
       "    <tr>\n",
       "      <th></th>\n",
       "      <th colspan=\"8\" halign=\"left\">Age</th>\n",
       "      <th colspan=\"5\" halign=\"left\">PassengerId</th>\n",
       "      <th colspan=\"8\" halign=\"left\">Pclass</th>\n",
       "    </tr>\n",
       "    <tr>\n",
       "      <th></th>\n",
       "      <th>count</th>\n",
       "      <th>mean</th>\n",
       "      <th>std</th>\n",
       "      <th>min</th>\n",
       "      <th>25%</th>\n",
       "      <th>50%</th>\n",
       "      <th>75%</th>\n",
       "      <th>max</th>\n",
       "      <th>count</th>\n",
       "      <th>mean</th>\n",
       "      <th>...</th>\n",
       "      <th>75%</th>\n",
       "      <th>max</th>\n",
       "      <th>count</th>\n",
       "      <th>mean</th>\n",
       "      <th>std</th>\n",
       "      <th>min</th>\n",
       "      <th>25%</th>\n",
       "      <th>50%</th>\n",
       "      <th>75%</th>\n",
       "      <th>max</th>\n",
       "    </tr>\n",
       "    <tr>\n",
       "      <th>Survived</th>\n",
       "      <th></th>\n",
       "      <th></th>\n",
       "      <th></th>\n",
       "      <th></th>\n",
       "      <th></th>\n",
       "      <th></th>\n",
       "      <th></th>\n",
       "      <th></th>\n",
       "      <th></th>\n",
       "      <th></th>\n",
       "      <th></th>\n",
       "      <th></th>\n",
       "      <th></th>\n",
       "      <th></th>\n",
       "      <th></th>\n",
       "      <th></th>\n",
       "      <th></th>\n",
       "      <th></th>\n",
       "      <th></th>\n",
       "      <th></th>\n",
       "      <th></th>\n",
       "    </tr>\n",
       "  </thead>\n",
       "  <tbody>\n",
       "    <tr>\n",
       "      <th>0</th>\n",
       "      <td>424.0</td>\n",
       "      <td>30.626179</td>\n",
       "      <td>14.172110</td>\n",
       "      <td>1.00</td>\n",
       "      <td>21.0</td>\n",
       "      <td>28.0</td>\n",
       "      <td>39.0</td>\n",
       "      <td>74.0</td>\n",
       "      <td>549.0</td>\n",
       "      <td>447.016393</td>\n",
       "      <td>...</td>\n",
       "      <td>675.0</td>\n",
       "      <td>891.0</td>\n",
       "      <td>549.0</td>\n",
       "      <td>2.531876</td>\n",
       "      <td>0.735805</td>\n",
       "      <td>1.0</td>\n",
       "      <td>2.0</td>\n",
       "      <td>3.0</td>\n",
       "      <td>3.0</td>\n",
       "      <td>3.0</td>\n",
       "    </tr>\n",
       "    <tr>\n",
       "      <th>1</th>\n",
       "      <td>290.0</td>\n",
       "      <td>28.343690</td>\n",
       "      <td>14.950952</td>\n",
       "      <td>0.42</td>\n",
       "      <td>19.0</td>\n",
       "      <td>28.0</td>\n",
       "      <td>36.0</td>\n",
       "      <td>80.0</td>\n",
       "      <td>342.0</td>\n",
       "      <td>444.368421</td>\n",
       "      <td>...</td>\n",
       "      <td>651.5</td>\n",
       "      <td>890.0</td>\n",
       "      <td>342.0</td>\n",
       "      <td>1.950292</td>\n",
       "      <td>0.863321</td>\n",
       "      <td>1.0</td>\n",
       "      <td>1.0</td>\n",
       "      <td>2.0</td>\n",
       "      <td>3.0</td>\n",
       "      <td>3.0</td>\n",
       "    </tr>\n",
       "  </tbody>\n",
       "</table>\n",
       "<p>2 rows × 24 columns</p>\n",
       "</div>"
      ],
      "text/plain": [
       "            Age                                                      \\\n",
       "          count       mean        std   min   25%   50%   75%   max   \n",
       "Survived                                                              \n",
       "0         424.0  30.626179  14.172110  1.00  21.0  28.0  39.0  74.0   \n",
       "1         290.0  28.343690  14.950952  0.42  19.0  28.0  36.0  80.0   \n",
       "\n",
       "         PassengerId             ...                Pclass            \\\n",
       "               count        mean ...     75%    max  count      mean   \n",
       "Survived                         ...                                   \n",
       "0              549.0  447.016393 ...   675.0  891.0  549.0  2.531876   \n",
       "1              342.0  444.368421 ...   651.5  890.0  342.0  1.950292   \n",
       "\n",
       "                                             \n",
       "               std  min  25%  50%  75%  max  \n",
       "Survived                                     \n",
       "0         0.735805  1.0  2.0  3.0  3.0  3.0  \n",
       "1         0.863321  1.0  1.0  2.0  3.0  3.0  \n",
       "\n",
       "[2 rows x 24 columns]"
      ]
     },
     "execution_count": 14,
     "metadata": {},
     "output_type": "execute_result"
    }
   ],
   "source": [
    "data_by_survived = titanic_data.groupby(['Survived'])#,as_index=False\n",
    "data_by_survived.describe()"
   ]
  },
  {
   "cell_type": "code",
   "execution_count": 15,
   "metadata": {},
   "outputs": [
    {
     "data": {
      "text/plain": [
       "Survived\n",
       "0    30.626179\n",
       "1    28.343690\n",
       "Name: Age, dtype: float64"
      ]
     },
     "execution_count": 15,
     "metadata": {},
     "output_type": "execute_result"
    }
   ],
   "source": [
    "data_by_survived['Age'].mean()"
   ]
  },
  {
   "cell_type": "code",
   "execution_count": 16,
   "metadata": {},
   "outputs": [],
   "source": [
    "titanic_data_survived = get_column(titanic_data_with_Age,'Age',1)\n",
    "titanic_data_non_survived = get_column(titanic_data_with_Age,'Age',0)"
   ]
  },
  {
   "cell_type": "code",
   "execution_count": 17,
   "metadata": {},
   "outputs": [
    {
     "data": {
      "text/plain": [
       "(array([ 36.,  19.,  63.,  65.,  52.,  24.,  21.,   9.,   0.,   1.]),\n",
       " array([  0.42 ,   8.378,  16.336,  24.294,  32.252,  40.21 ,  48.168,\n",
       "         56.126,  64.084,  72.042,  80.   ]),\n",
       " <a list of 10 Patch objects>)"
      ]
     },
     "execution_count": 17,
     "metadata": {},
     "output_type": "execute_result"
    },
    {
     "data": {
      "image/png": "[encoded data removed]",
      "text/plain": [
       "<matplotlib.figure.Figure at 0x111104c50>"
      ]
     },
     "metadata": {},
     "output_type": "display_data"
    }
   ],
   "source": [
    "#Distribution of survived and unsurvivied passengers\n",
    "plt.hist(titanic_data_with_Age['Age'])\n",
    "plt.hist(titanic_data_non_survived['Age'])\n",
    "plt.hist(titanic_data_survived['Age'])"
   ]
  },
  {
   "cell_type": "code",
   "execution_count": 18,
   "metadata": {},
   "outputs": [
    {
     "data": {
      "text/plain": [
       "(array([  18.,   16.,   99.,  110.,   64.,   45.,   38.,   15.,   13.,    6.]),\n",
       " array([  1. ,   8.3,  15.6,  22.9,  30.2,  37.5,  44.8,  52.1,  59.4,\n",
       "         66.7,  74. ]),\n",
       " <a list of 10 Patch objects>)"
      ]
     },
     "execution_count": 18,
     "metadata": {},
     "output_type": "execute_result"
    },
    {
     "data": {
      "image/png": "[encoded data removed]",
      "text/plain": [
       "<matplotlib.figure.Figure at 0x111defb70>"
      ]
     },
     "metadata": {},
     "output_type": "display_data"
    }
   ],
   "source": [
    "plt.hist(titanic_data_with_Age['Age'])\n",
    "plt.hist(titanic_data_survived['Age'])\n",
    "plt.hist(titanic_data_non_survived['Age'])"
   ]
  },
  {
   "cell_type": "code",
   "execution_count": 19,
   "metadata": {},
   "outputs": [
    {
     "data": {
      "text/plain": [
       "0.68"
      ]
     },
     "execution_count": 19,
     "metadata": {},
     "output_type": "execute_result"
    }
   ],
   "source": [
    "#posibility of passengers from 0 to 8 years old\n",
    "calculate_survived_posibility_between_ages(titanic_data_with_Age,0 , 8)\n"
   ]
  },
  {
   "cell_type": "code",
   "execution_count": 20,
   "metadata": {},
   "outputs": [
    {
     "data": {
      "text/plain": [
       "0.3505535055350554"
      ]
     },
     "execution_count": 20,
     "metadata": {},
     "output_type": "execute_result"
    }
   ],
   "source": [
    "#posibility of passengers from 17 to 30 years old\n",
    "calculate_survived_posibility_between_ages(titanic_data_with_Age,17 , 30)\n"
   ]
  },
  {
   "cell_type": "code",
   "execution_count": 21,
   "metadata": {},
   "outputs": [
    {
     "data": {
      "text/plain": [
       "0.44366197183098594"
      ]
     },
     "execution_count": 21,
     "metadata": {},
     "output_type": "execute_result"
    }
   ],
   "source": [
    "#posibility of passengers from 30 to 40 years old\n",
    "calculate_survived_posibility_between_ages(titanic_data_with_Age,30 , 40)\n"
   ]
  },
  {
   "cell_type": "markdown",
   "metadata": {},
   "source": [
    "#### Tentative Conclusion \n",
    "- From the mean of 'Age', the average age of passengers survivied is younger than that of ones unsurvived.\n",
    "- From the distribution of the survived and unsurvivied passengers, the children aged from 0 to 8 are more likely to be survived.\n",
    "- The age of most surrived passengers ranges from 17 to 40 years old.\n",
    "- The chance of passengers aged from 30 to 40 is higher than the chance of passengers aged from 15 to 30."
   ]
  },
  {
   "cell_type": "markdown",
   "metadata": {},
   "source": [
    "<a id='posi_pclass_age'></a>\n",
    "### Pclass and Age"
   ]
  },
  {
   "cell_type": "markdown",
   "metadata": {},
   "source": [
    "#### Distribution of Age for passengers of Each Pclass"
   ]
  },
  {
   "cell_type": "code",
   "execution_count": 22,
   "metadata": {},
   "outputs": [
    {
     "data": {
      "text/plain": [
       "<matplotlib.collections.PathCollection at 0x119e4f438>"
      ]
     },
     "execution_count": 22,
     "metadata": {},
     "output_type": "execute_result"
    },
    {
     "data": {
      "image/png": "[encoded data removed]",
      "text/plain": [
       "<matplotlib.figure.Figure at 0x117bcc860>"
      ]
     },
     "metadata": {},
     "output_type": "display_data"
    }
   ],
   "source": [
    "plt.scatter(titanic_data_with_Age['Age'],titanic_data_with_Age['Pclass'],c = titanic_data_with_Age['Survived'])"
   ]
  },
  {
   "cell_type": "markdown",
   "metadata": {},
   "source": [
    "#### Tentative Conclusion \n",
    "- For each Pclass, the posibility of survival for children are higher.\n",
    "- For the Lower class, the posibility for passengers aged greater than 30 is very low."
   ]
  },
  {
   "cell_type": "markdown",
   "metadata": {},
   "source": [
    "<a id='posi_pclass_sex'></a>\n",
    "### Pclass and Sex"
   ]
  },
  {
   "cell_type": "markdown",
   "metadata": {},
   "source": [
    "#### the distribution of females and males"
   ]
  },
  {
   "cell_type": "code",
   "execution_count": 23,
   "metadata": {},
   "outputs": [
    {
     "name": "stdout",
     "output_type": "stream",
     "text": [
      "Sex\n",
      "female    314\n",
      "male      577\n",
      "Name: PassengerId, dtype: int64\n"
     ]
    },
    {
     "data": {
      "text/plain": [
       "<matplotlib.axes._subplots.AxesSubplot at 0x117bc5a90>"
      ]
     },
     "execution_count": 23,
     "metadata": {},
     "output_type": "execute_result"
    },
    {
     "data": {
      "image/png": "[encoded data removed]",
      "text/plain": [
       "<matplotlib.figure.Figure at 0x119e75c50>"
      ]
     },
     "metadata": {},
     "output_type": "display_data"
    }
   ],
   "source": [
    "# there are more females than males\n",
    "data_by_sex = titanic_data.groupby(['Sex'])\n",
    "\n",
    "numbers_by_sex = get_number_of_passengers(data_by_sex)\n",
    "print(numbers_by_sex)\n",
    "numbers_by_sex.plot(kind='pie')"
   ]
  },
  {
   "cell_type": "markdown",
   "metadata": {},
   "source": [
    "#### the distribution of females and males each class"
   ]
  },
  {
   "cell_type": "code",
   "execution_count": 24,
   "metadata": {},
   "outputs": [
    {
     "name": "stdout",
     "output_type": "stream",
     "text": [
      "Pclass  Sex   \n",
      "1       female     94\n",
      "        male      122\n",
      "2       female     76\n",
      "        male      108\n",
      "3       female    144\n",
      "        male      347\n",
      "Name: PassengerId, dtype: int64\n",
      "[94, 94, 122, 122, 76, 76, 108, 108, 144, 144, 347, 347]\n"
     ]
    },
    {
     "data": {
      "text/plain": [
       "<matplotlib.axes._subplots.AxesSubplot at 0x119f34198>"
      ]
     },
     "execution_count": 24,
     "metadata": {},
     "output_type": "execute_result"
    },
    {
     "data": {
      "image/png": "[encoded data removed]",
      "text/plain": [
       "<matplotlib.figure.Figure at 0x119e990b8>"
      ]
     },
     "metadata": {},
     "output_type": "display_data"
    }
   ],
   "source": [
    "data_by_class_sex = titanic_data.groupby(['Pclass','Sex'])\n",
    "\n",
    "numbers_by_class_sex = get_number_of_passengers(data_by_class_sex)\n",
    "print(numbers_by_class_sex)\n",
    "total = dupItems(numbers_by_class_sex.tolist())\n",
    "print(total)\n",
    "numbers_by_class_sex.plot(kind='bar')"
   ]
  },
  {
   "cell_type": "markdown",
   "metadata": {},
   "source": [
    "#### the distribution of survived and unsurvived females and males each class"
   ]
  },
  {
   "cell_type": "code",
   "execution_count": 25,
   "metadata": {},
   "outputs": [
    {
     "data": {
      "text/plain": [
       "Pclass  Sex     Survived\n",
       "1       female  0             3\n",
       "                1            91\n",
       "        male    0            77\n",
       "                1            45\n",
       "2       female  0             6\n",
       "                1            70\n",
       "        male    0            91\n",
       "                1            17\n",
       "3       female  0            72\n",
       "                1            72\n",
       "        male    0           300\n",
       "                1            47\n",
       "Name: PassengerId, dtype: int64"
      ]
     },
     "execution_count": 25,
     "metadata": {},
     "output_type": "execute_result"
    }
   ],
   "source": [
    "data_by_class_sex_survived = titanic_data.groupby(['Pclass','Sex','Survived'])\n",
    "\n",
    "numbers_by_class_sex_survived = get_number_of_passengers(data_by_class_sex_survived)\n",
    "numbers_by_class_sex_survived"
   ]
  },
  {
   "cell_type": "code",
   "execution_count": 26,
   "metadata": {},
   "outputs": [
    {
     "name": "stdout",
     "output_type": "stream",
     "text": [
      "Pclass  Sex     Survived\n",
      "1       female  0           0.031915\n",
      "                1           0.968085\n",
      "        male    0           0.631148\n",
      "                1           0.368852\n",
      "2       female  0           0.078947\n",
      "                1           0.921053\n",
      "        male    0           0.842593\n",
      "                1           0.157407\n",
      "3       female  0           0.500000\n",
      "                1           0.500000\n",
      "        male    0           0.864553\n",
      "                1           0.135447\n",
      "dtype: float64\n"
     ]
    },
    {
     "data": {
      "text/plain": [
       "<matplotlib.axes._subplots.AxesSubplot at 0x119ff1940>"
      ]
     },
     "execution_count": 26,
     "metadata": {},
     "output_type": "execute_result"
    },
    {
     "data": {
      "image/png": "[encoded data removed]",
      "text/plain": [
       "<matplotlib.figure.Figure at 0x119fc86a0>"
      ]
     },
     "metadata": {},
     "output_type": "display_data"
    }
   ],
   "source": [
    "posibilities = numbers_by_class_sex_survived.div(total)\n",
    "print(posibilities)\n",
    "posibilities.plot(kind='bar')"
   ]
  },
  {
   "cell_type": "markdown",
   "metadata": {},
   "source": [
    "#### Tentative Conclusion \n",
    "- There are more females than males for each class;\n",
    "- The fraction of survived females is much higher than one of survived males for each class;\n",
    "- The fraction of survived females increases for 50% to 92% to 97% as class level increases."
   ]
  },
  {
   "cell_type": "markdown",
   "metadata": {},
   "source": [
    "<a id='conclusions'></a>\n",
    "##  Conclusions\n",
    "\n",
    "- People may rescue Children first\n",
    "- Males at that time are gentle\n",
    "- Try our best to buy the upper class ticket"
   ]
  }
 ],
 "metadata": {
  "kernelspec": {
   "display_name": "Python 3",
   "language": "python",
   "name": "python3"
  },
  "language_info": {
   "codemirror_mode": {
    "name": "ipython",
    "version": 3
   },
   "file_extension": ".py",
   "mimetype": "text/x-python",
   "name": "python",
   "nbconvert_exporter": "python",
   "pygments_lexer": "ipython3",
   "version": "3.6.4"
  },
  "toc": {
   "colors": {
    "hover_highlight": "#DAA520",
    "navigate_num": "#000000",
    "navigate_text": "#333333",
    "running_highlight": "#FF0000",
    "selected_highlight": "#FFD700",
    "sidebar_border": "#EEEEEE",
    "wrapper_background": "#FFFFFF"
   },
   "moveMenuLeft": true,
   "nav_menu": {
    "height": "174px",
    "width": "252px"
   },
   "navigate_menu": true,
   "number_sections": true,
   "sideBar": true,
   "threshold": 4,
   "toc_cell": false,
   "toc_section_display": "block",
   "toc_window_display": false,
   "widenNotebook": false
  }
 },
 "nbformat": 4,
 "nbformat_minor": 2
}
