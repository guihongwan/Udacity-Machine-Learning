{
 "cells": [
  {
   "cell_type": "code",
   "execution_count": 1,
   "metadata": {},
   "outputs": [],
   "source": [
    "#在python中创建直方图\n",
    "#matplotlib"
   ]
  },
  {
   "cell_type": "code",
   "execution_count": 2,
   "metadata": {},
   "outputs": [
    {
     "data": {
      "text/plain": [
       "(array([ 3.,  0.,  0.,  2.,  0.,  0.,  2.,  0.,  0.,  1.]),\n",
       " array([ 1. ,  1.3,  1.6,  1.9,  2.2,  2.5,  2.8,  3.1,  3.4,  3.7,  4. ]),\n",
       " <a list of 10 Patch objects>)"
      ]
     },
     "execution_count": 2,
     "metadata": {},
     "output_type": "execute_result"
    },
    {
     "data": {
      "image/png": "[encoded data removed]",
      "text/plain": [
       "<matplotlib.figure.Figure at 0x1070a3b70>"
      ]
     },
     "metadata": {},
     "output_type": "display_data"
    }
   ],
   "source": [
    "data = [1,2,1,3,3,1,4,2]\n",
    "%matplotlib inline\n",
    "import matplotlib.pyplot as plt\n",
    "plt.hist(data)"
   ]
  },
  {
   "cell_type": "code",
   "execution_count": null,
   "metadata": {},
   "outputs": [],
   "source": [
    "#要改变每个直方图中分组的数量，对hist函数使用bins参数。"
   ]
  },
  {
   "cell_type": "code",
   "execution_count": null,
   "metadata": {},
   "outputs": [],
   "source": []
  },
  {
   "cell_type": "code",
   "execution_count": 3,
   "metadata": {},
   "outputs": [],
   "source": [
    "#Draw conclusions\n",
    "\n",
    "#Tentative conclusion:\n",
    "# Students who pass the subway project spend more minutes in the classroom during their first week.\n",
    "\n",
    "#But is this a true difference or due to noise in the data\n",
    "\n",
    "# statistics\n",
    "# 描述统计学入门\n",
    "# 推论统计学入门\n",
    "\n",
    "# To rigorously check how likely it would be to see these results by randomly chance\n",
    "# use statistics.\n",
    "\n"
   ]
  },
  {
   "cell_type": "code",
   "execution_count": 4,
   "metadata": {},
   "outputs": [],
   "source": [
    "# Correlation Does not Imply Causation\n",
    "\n",
    "# Correlation:\n",
    "# Students who pass the first project are more likely to visit the classroom multiple times in their first week.\n",
    "\n",
    "#Causation:\n",
    "# Does visiting the classroom multiple times cause students to pass  their project?\n",
    "\n",
    "# This could be coincidence or there could be some third factor causing both.\n",
    "\n",
    "# level of interest\n",
    "# background knowledge\n",
    "# \n",
    "\n",
    "#or this correlation could be because of causation, will just don't know\n",
    "\n",
    "\n",
    "#A/B test\n",
    "#https://www.udacity.com/course/ab-testing--ud257"
   ]
  },
  {
   "cell_type": "code",
   "execution_count": null,
   "metadata": {},
   "outputs": [],
   "source": []
  },
  {
   "cell_type": "code",
   "execution_count": null,
   "metadata": {},
   "outputs": [],
   "source": [
    "# Making Predictions\n",
    "\n",
    "# Which students are likely to pass their first project?\n",
    "\n",
    "# heuristics n.启发heuristics\n",
    "\n",
    "# use machine learning to make predictions automatically\n",
    "# https://www.udacity.com/course/intro-to-machine-learning--ud120\n",
    "\n"
   ]
  }
 ],
 "metadata": {
  "kernelspec": {
   "display_name": "Python 3",
   "language": "python",
   "name": "python3"
  },
  "language_info": {
   "codemirror_mode": {
    "name": "ipython",
    "version": 3
   },
   "file_extension": ".py",
   "mimetype": "text/x-python",
   "name": "python",
   "nbconvert_exporter": "python",
   "pygments_lexer": "ipython3",
   "version": "3.6.4"
  },
  "toc": {
   "colors": {
    "hover_highlight": "#DAA520",
    "navigate_num": "#000000",
    "navigate_text": "#333333",
    "running_highlight": "#FF0000",
    "selected_highlight": "#FFD700",
    "sidebar_border": "#EEEEEE",
    "wrapper_background": "#FFFFFF"
   },
   "moveMenuLeft": true,
   "nav_menu": {
    "height": "12px",
    "width": "252px"
   },
   "navigate_menu": true,
   "number_sections": true,
   "sideBar": true,
   "threshold": 4,
   "toc_cell": false,
   "toc_section_display": "block",
   "toc_window_display": false,
   "widenNotebook": false
  }
 },
 "nbformat": 4,
 "nbformat_minor": 2
}
