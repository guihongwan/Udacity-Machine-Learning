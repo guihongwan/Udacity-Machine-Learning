{
 "cells": [
  {
   "cell_type": "markdown",
   "metadata": {
    "scrolled": true
   },
   "source": [
    "Data Analysis Process    \n",
    "Question—> Wrangle—>Explore—>Draw Conclusions—>Communicat    \n",
    "Question: a question you want to answer; a problem you want to solv    \n",
    "Wrangle:     \n",
    "data acquisition, acquire the data you want to solve you problem\n",
    "data cleaning\n",
    "\n",
    "Explore:  \n",
    "- build intuition\n",
    "- find patterns\n",
    "\n",
    "Draw conclusions:\n",
    "make predictions\n",
    "predict: which movies users will like\n",
    "Conclude: users are less likely to click certain articles\n",
    "Usually requires statistics or machine learning\n",
    "\n",
    "Communicate:\n",
    "Blog post, paer, email, PPT, conversation\n",
    "Data Visualization is almost always useful\n"
   ]
  },
  {
   "cell_type": "markdown",
   "metadata": {},
   "source": [
    "Data acquisition   \n",
    "- Downloading files\n",
    "- Accessing an API\n",
    "- Scraping a web page\n",
    "- Combine data from different formats\n",
    "\n",
    "\n",
    "https://www.udacity.com/course/data-wrangling-with-mongodb--ud032\n"
   ]
  },
  {
   "cell_type": "markdown",
   "metadata": {},
   "source": [
    "Data Format    \n",
    "CVS -- Comma Separated Values   \n",
    "Like a spreadsheet with no formulas    \n",
    "Easy to process with code\n",
    "\n"
   ]
  },
  {
   "cell_type": "code",
   "execution_count": 1,
   "metadata": {},
   "outputs": [
    {
     "data": {
      "text/plain": [
       "OrderedDict([('account_key', '448'),\n",
       "             ('status', 'canceled'),\n",
       "             ('join_date', '2014-11-10'),\n",
       "             ('cancel_date', '2015-01-14'),\n",
       "             ('days_to_cancel', '65'),\n",
       "             ('is_udacity', 'True'),\n",
       "             ('is_canceled', 'True')])"
      ]
     },
     "execution_count": 1,
     "metadata": {},
     "output_type": "execute_result"
    }
   ],
   "source": [
    "import unicodecsv\n",
    "\n",
    "with open('enrollments.csv', 'rb') as f:\n",
    "    reader = unicodecsv.DictReader(f)\n",
    "    enrollments = list(reader)\n",
    "# with 'with', at the end, the file will be closed automatically.\n",
    "enrollments[0]"
   ]
  },
  {
   "cell_type": "code",
   "execution_count": 2,
   "metadata": {},
   "outputs": [
    {
     "name": "stdout",
     "output_type": "stream",
     "text": [
      "OrderedDict([('account_key', '448'), ('status', 'canceled'), ('join_date', '2014-11-10'), ('cancel_date', '2015-01-14'), ('days_to_cancel', '65'), ('is_udacity', 'True'), ('is_canceled', 'True')])\n",
      "OrderedDict([('acct', '0'), ('utc_date', '09/01/2015'), ('num_courses_visited', '1'), ('total_minutes_visited', '11.6793745'), ('lessons_completed', '0'), ('projects_completed', '0')])\n",
      "OrderedDict([('creation_date', '2015-01-14'), ('completion_date', '2015-01-16'), ('assigned_rating', 'UNGRADED'), ('account_key', '256'), ('lesson_key', '3176718735'), ('processing_state', 'EVALUATED')])\n"
     ]
    }
   ],
   "source": [
    "#Read data from files\n",
    "\n",
    "import unicodecsv\n",
    "\n",
    "def read_csv(filename):\n",
    "    with open(filename, 'rb') as f:\n",
    "        reader = unicodecsv.DictReader(f)\n",
    "        return list(reader)\n",
    "enrollments = read_csv('enrollments.csv');\n",
    "daily_engagements = read_csv('daily-engagement.csv');\n",
    "submissions = read_csv('project-submissions.csv');\n",
    "\n",
    "print(enrollments[0])\n",
    "print(daily_engagements[0])\n",
    "print(submissions[0])"
   ]
  },
  {
   "cell_type": "code",
   "execution_count": 3,
   "metadata": {},
   "outputs": [],
   "source": [
    "#methods to format the data type\n",
    "\n",
    "from datetime import datetime as dt\n",
    "\n",
    "#takes a date as a string, and returns a python date object\n",
    "def parse_date(date):\n",
    "    if date =='':\n",
    "        return None\n",
    "    else:\n",
    "        return dt.strptime(date, '%Y-%m-%d')\n",
    "    \n",
    "#takes a date as a string, and returns a python date object\n",
    "def parse_utc_date(date):\n",
    "    if date =='':\n",
    "        return None\n",
    "    else:\n",
    "        return dt.strptime(date, '%d/%m/%Y')\n",
    "\n",
    "#takes a string which is either an empty string or represents an integer,\n",
    "#returns an int or None\n",
    "def parse_maybe_int(i):\n",
    "    if i == '' or i == None:\n",
    "        return None\n",
    "    else:\n",
    "        return int(i)\n"
   ]
  },
  {
   "cell_type": "code",
   "execution_count": 4,
   "metadata": {},
   "outputs": [
    {
     "data": {
      "text/plain": [
       "OrderedDict([('account_key', '448'),\n",
       "             ('status', 'canceled'),\n",
       "             ('join_date', datetime.datetime(2014, 11, 10, 0, 0)),\n",
       "             ('cancel_date', datetime.datetime(2015, 1, 14, 0, 0)),\n",
       "             ('days_to_cancel', 65),\n",
       "             ('is_udacity', True),\n",
       "             ('is_canceled', True)])"
      ]
     },
     "execution_count": 4,
     "metadata": {},
     "output_type": "execute_result"
    }
   ],
   "source": [
    "#format enrollments\n",
    "#output: rerollments\n",
    "\n",
    "for enrollment in enrollments:\n",
    "    enrollment['join_date'] = parse_date(enrollment['join_date'])\n",
    "    enrollment['cancel_date'] = parse_date(enrollment['cancel_date'])\n",
    "    #print(enrollment['days_to_cancel'])\n",
    "    enrollment['days_to_cancel'] = parse_maybe_int(enrollment['days_to_cancel'])\n",
    "    enrollment['is_canceled'] = (enrollment['is_canceled'] == 'True')\n",
    "    enrollment['is_udacity'] = (enrollment['is_udacity'] == 'True')\n",
    "\n",
    "enrollments[0]   "
   ]
  },
  {
   "cell_type": "code",
   "execution_count": 5,
   "metadata": {},
   "outputs": [
    {
     "data": {
      "text/plain": [
       "OrderedDict([('acct', '0'),\n",
       "             ('utc_date', '09/01/2015'),\n",
       "             ('num_courses_visited', '1'),\n",
       "             ('total_minutes_visited', '11.6793745'),\n",
       "             ('lessons_completed', '0'),\n",
       "             ('projects_completed', '0')])"
      ]
     },
     "execution_count": 5,
     "metadata": {},
     "output_type": "execute_result"
    }
   ],
   "source": [
    "daily_engagements[0]"
   ]
  },
  {
   "cell_type": "code",
   "execution_count": 6,
   "metadata": {},
   "outputs": [
    {
     "data": {
      "text/plain": [
       "OrderedDict([('acct', '0'),\n",
       "             ('utc_date', datetime.datetime(2015, 1, 9, 0, 0)),\n",
       "             ('num_courses_visited', 1),\n",
       "             ('total_minutes_visited', 11.6793745),\n",
       "             ('lessons_completed', 0),\n",
       "             ('projects_completed', 0)])"
      ]
     },
     "execution_count": 6,
     "metadata": {},
     "output_type": "execute_result"
    }
   ],
   "source": [
    "#format daily_engagements\n",
    "#output: daily_engagements\n",
    "for engagement in daily_engagements:\n",
    "    engagement['utc_date'] = parse_utc_date(engagement['utc_date'])\n",
    "    engagement['num_courses_visited'] = int(float(engagement['num_courses_visited']))\n",
    "    engagement['lessons_completed'] = int(float(engagement['lessons_completed']))\n",
    "    engagement['projects_completed'] = int(float(engagement['projects_completed']))\n",
    "    engagement['total_minutes_visited'] = float(engagement['total_minutes_visited'])\n",
    "    \n",
    "daily_engagements[0]"
   ]
  },
  {
   "cell_type": "code",
   "execution_count": 7,
   "metadata": {},
   "outputs": [
    {
     "data": {
      "text/plain": [
       "OrderedDict([('creation_date', '2015-01-14'),\n",
       "             ('completion_date', '2015-01-16'),\n",
       "             ('assigned_rating', 'UNGRADED'),\n",
       "             ('account_key', '256'),\n",
       "             ('lesson_key', '3176718735'),\n",
       "             ('processing_state', 'EVALUATED')])"
      ]
     },
     "execution_count": 7,
     "metadata": {},
     "output_type": "execute_result"
    }
   ],
   "source": [
    "submissions[0]"
   ]
  },
  {
   "cell_type": "code",
   "execution_count": 8,
   "metadata": {},
   "outputs": [
    {
     "data": {
      "text/plain": [
       "OrderedDict([('creation_date', datetime.datetime(2015, 1, 14, 0, 0)),\n",
       "             ('completion_date', datetime.datetime(2015, 1, 16, 0, 0)),\n",
       "             ('assigned_rating', 'UNGRADED'),\n",
       "             ('account_key', '256'),\n",
       "             ('lesson_key', '3176718735'),\n",
       "             ('processing_state', 'EVALUATED')])"
      ]
     },
     "execution_count": 8,
     "metadata": {},
     "output_type": "execute_result"
    }
   ],
   "source": [
    "#format submissions\n",
    "#output: submissions\n",
    "\n",
    "for submission in submissions:\n",
    "    submission['creation_date'] = parse_date(submission['creation_date'])\n",
    "    submission['completion_date'] = parse_date(submission['completion_date'])\n",
    "    \n",
    "submissions[0]"
   ]
  },
  {
   "cell_type": "markdown",
   "metadata": {},
   "source": [
    "Problems in the data     \n",
    "1 Column named 'account_key' in two tables and acct in the third    \n",
    "2 More unique students in enrollment than engagement table"
   ]
  },
  {
   "cell_type": "code",
   "execution_count": 9,
   "metadata": {},
   "outputs": [],
   "source": [
    "#change 'acct' to 'account_key'\n",
    "\n",
    "for engagement in daily_engagements:\n",
    "    engagement['account_key'] = engagement['acct']\n",
    "    del engagement['acct']"
   ]
  },
  {
   "cell_type": "code",
   "execution_count": 10,
   "metadata": {},
   "outputs": [],
   "source": [
    "def get_unique_students(data):\n",
    "    unique_students = set() #无序不重复集\n",
    "    for element in data:\n",
    "        unique_students.add(element['account_key'])\n",
    "    return unique_students"
   ]
  },
  {
   "cell_type": "code",
   "execution_count": 11,
   "metadata": {},
   "outputs": [
    {
     "data": {
      "text/plain": [
       "1640"
      ]
     },
     "execution_count": 11,
     "metadata": {},
     "output_type": "execute_result"
    }
   ],
   "source": [
    "len(enrollments)"
   ]
  },
  {
   "cell_type": "code",
   "execution_count": 12,
   "metadata": {},
   "outputs": [
    {
     "data": {
      "text/plain": [
       "1302"
      ]
     },
     "execution_count": 12,
     "metadata": {},
     "output_type": "execute_result"
    }
   ],
   "source": [
    "unique_enrollments = get_unique_students(enrollments)\n",
    "len(unique_enrollments)"
   ]
  },
  {
   "cell_type": "code",
   "execution_count": 13,
   "metadata": {},
   "outputs": [
    {
     "data": {
      "text/plain": [
       "136240"
      ]
     },
     "execution_count": 13,
     "metadata": {},
     "output_type": "execute_result"
    }
   ],
   "source": [
    "len(daily_engagements)"
   ]
  },
  {
   "cell_type": "code",
   "execution_count": 14,
   "metadata": {},
   "outputs": [
    {
     "data": {
      "text/plain": [
       "1237"
      ]
     },
     "execution_count": 14,
     "metadata": {},
     "output_type": "execute_result"
    }
   ],
   "source": [
    "unique_daily_engagements = get_unique_students(daily_engagements)\n",
    "len(unique_daily_engagements)"
   ]
  },
  {
   "cell_type": "code",
   "execution_count": 15,
   "metadata": {},
   "outputs": [
    {
     "data": {
      "text/plain": [
       "3642"
      ]
     },
     "execution_count": 15,
     "metadata": {},
     "output_type": "execute_result"
    }
   ],
   "source": [
    "len(submissions)"
   ]
  },
  {
   "cell_type": "code",
   "execution_count": 16,
   "metadata": {},
   "outputs": [
    {
     "data": {
      "text/plain": [
       "743"
      ]
     },
     "execution_count": 16,
     "metadata": {},
     "output_type": "execute_result"
    }
   ],
   "source": [
    "unique_submissions = get_unique_students(submissions)\n",
    "len(unique_submissions)"
   ]
  },
  {
   "cell_type": "code",
   "execution_count": 17,
   "metadata": {},
   "outputs": [
    {
     "data": {
      "text/plain": [
       "65"
      ]
     },
     "execution_count": 17,
     "metadata": {},
     "output_type": "execute_result"
    }
   ],
   "source": [
    "len(unique_enrollments) - len(unique_daily_engagements)"
   ]
  },
  {
   "cell_type": "code",
   "execution_count": 18,
   "metadata": {},
   "outputs": [
    {
     "name": "stdout",
     "output_type": "stream",
     "text": [
      "OrderedDict([('account_key', '1219'), ('status', 'canceled'), ('join_date', datetime.datetime(2014, 11, 12, 0, 0)), ('cancel_date', datetime.datetime(2014, 11, 12, 0, 0)), ('days_to_cancel', 0), ('is_udacity', False), ('is_canceled', True)])\n",
      "\n",
      "OrderedDict([('account_key', '871'), ('status', 'canceled'), ('join_date', datetime.datetime(2014, 11, 13, 0, 0)), ('cancel_date', datetime.datetime(2014, 11, 13, 0, 0)), ('days_to_cancel', 0), ('is_udacity', False), ('is_canceled', True)])\n",
      "\n",
      "OrderedDict([('account_key', '1218'), ('status', 'canceled'), ('join_date', datetime.datetime(2014, 11, 15, 0, 0)), ('cancel_date', datetime.datetime(2014, 11, 15, 0, 0)), ('days_to_cancel', 0), ('is_udacity', False), ('is_canceled', True)])\n",
      "\n",
      "OrderedDict([('account_key', '654'), ('status', 'canceled'), ('join_date', datetime.datetime(2014, 12, 4, 0, 0)), ('cancel_date', datetime.datetime(2014, 12, 4, 0, 0)), ('days_to_cancel', 0), ('is_udacity', False), ('is_canceled', True)])\n",
      "\n",
      "OrderedDict([('account_key', '654'), ('status', 'canceled'), ('join_date', datetime.datetime(2014, 12, 4, 0, 0)), ('cancel_date', datetime.datetime(2014, 12, 4, 0, 0)), ('days_to_cancel', 0), ('is_udacity', False), ('is_canceled', True)])\n",
      "\n",
      "OrderedDict([('account_key', '654'), ('status', 'canceled'), ('join_date', datetime.datetime(2014, 12, 3, 0, 0)), ('cancel_date', datetime.datetime(2014, 12, 3, 0, 0)), ('days_to_cancel', 0), ('is_udacity', False), ('is_canceled', True)])\n",
      "\n",
      "OrderedDict([('account_key', '964'), ('status', 'canceled'), ('join_date', datetime.datetime(2014, 12, 4, 0, 0)), ('cancel_date', datetime.datetime(2014, 12, 4, 0, 0)), ('days_to_cancel', 0), ('is_udacity', False), ('is_canceled', True)])\n",
      "\n",
      "OrderedDict([('account_key', '817'), ('status', 'canceled'), ('join_date', datetime.datetime(2014, 12, 9, 0, 0)), ('cancel_date', datetime.datetime(2014, 12, 9, 0, 0)), ('days_to_cancel', 0), ('is_udacity', False), ('is_canceled', True)])\n",
      "\n",
      "OrderedDict([('account_key', '1171'), ('status', 'canceled'), ('join_date', datetime.datetime(2015, 1, 7, 0, 0)), ('cancel_date', datetime.datetime(2015, 1, 7, 0, 0)), ('days_to_cancel', 0), ('is_udacity', False), ('is_canceled', True)])\n",
      "\n",
      "OrderedDict([('account_key', '884'), ('status', 'canceled'), ('join_date', datetime.datetime(2015, 1, 8, 0, 0)), ('cancel_date', datetime.datetime(2015, 1, 8, 0, 0)), ('days_to_cancel', 0), ('is_udacity', False), ('is_canceled', True)])\n",
      "\n",
      "OrderedDict([('account_key', '875'), ('status', 'canceled'), ('join_date', datetime.datetime(2014, 11, 17, 0, 0)), ('cancel_date', datetime.datetime(2014, 11, 17, 0, 0)), ('days_to_cancel', 0), ('is_udacity', False), ('is_canceled', True)])\n",
      "\n",
      "OrderedDict([('account_key', '1120'), ('status', 'canceled'), ('join_date', datetime.datetime(2014, 12, 4, 0, 0)), ('cancel_date', datetime.datetime(2014, 12, 4, 0, 0)), ('days_to_cancel', 0), ('is_udacity', False), ('is_canceled', True)])\n",
      "\n",
      "OrderedDict([('account_key', '728'), ('status', 'canceled'), ('join_date', datetime.datetime(2014, 12, 5, 0, 0)), ('cancel_date', datetime.datetime(2014, 12, 5, 0, 0)), ('days_to_cancel', 0), ('is_udacity', False), ('is_canceled', True)])\n",
      "\n",
      "OrderedDict([('account_key', '1191'), ('status', 'canceled'), ('join_date', datetime.datetime(2015, 1, 11, 0, 0)), ('cancel_date', datetime.datetime(2015, 1, 11, 0, 0)), ('days_to_cancel', 0), ('is_udacity', False), ('is_canceled', True)])\n",
      "\n",
      "OrderedDict([('account_key', '1304'), ('status', 'canceled'), ('join_date', datetime.datetime(2015, 1, 10, 0, 0)), ('cancel_date', datetime.datetime(2015, 3, 10, 0, 0)), ('days_to_cancel', 59), ('is_udacity', True), ('is_canceled', True)])\n",
      "\n",
      "OrderedDict([('account_key', '1304'), ('status', 'canceled'), ('join_date', datetime.datetime(2015, 3, 10, 0, 0)), ('cancel_date', datetime.datetime(2015, 6, 17, 0, 0)), ('days_to_cancel', 99), ('is_udacity', True), ('is_canceled', True)])\n",
      "\n",
      "OrderedDict([('account_key', '1010'), ('status', 'canceled'), ('join_date', datetime.datetime(2015, 1, 11, 0, 0)), ('cancel_date', datetime.datetime(2015, 1, 11, 0, 0)), ('days_to_cancel', 0), ('is_udacity', False), ('is_canceled', True)])\n",
      "\n",
      "OrderedDict([('account_key', '841'), ('status', 'canceled'), ('join_date', datetime.datetime(2014, 11, 12, 0, 0)), ('cancel_date', datetime.datetime(2014, 11, 12, 0, 0)), ('days_to_cancel', 0), ('is_udacity', False), ('is_canceled', True)])\n",
      "\n",
      "OrderedDict([('account_key', '707'), ('status', 'canceled'), ('join_date', datetime.datetime(2014, 12, 3, 0, 0)), ('cancel_date', datetime.datetime(2014, 12, 3, 0, 0)), ('days_to_cancel', 0), ('is_udacity', False), ('is_canceled', True)])\n",
      "\n",
      "OrderedDict([('account_key', '717'), ('status', 'canceled'), ('join_date', datetime.datetime(2014, 12, 4, 0, 0)), ('cancel_date', datetime.datetime(2014, 12, 4, 0, 0)), ('days_to_cancel', 0), ('is_udacity', False), ('is_canceled', True)])\n",
      "\n",
      "OrderedDict([('account_key', '727'), ('status', 'canceled'), ('join_date', datetime.datetime(2014, 12, 7, 0, 0)), ('cancel_date', datetime.datetime(2014, 12, 7, 0, 0)), ('days_to_cancel', 0), ('is_udacity', False), ('is_canceled', True)])\n",
      "\n",
      "OrderedDict([('account_key', '1273'), ('status', 'canceled'), ('join_date', datetime.datetime(2015, 1, 12, 0, 0)), ('cancel_date', datetime.datetime(2015, 1, 12, 0, 0)), ('days_to_cancel', 0), ('is_udacity', False), ('is_canceled', True)])\n",
      "\n",
      "OrderedDict([('account_key', '1238'), ('status', 'canceled'), ('join_date', datetime.datetime(2014, 11, 10, 0, 0)), ('cancel_date', datetime.datetime(2014, 11, 10, 0, 0)), ('days_to_cancel', 0), ('is_udacity', False), ('is_canceled', True)])\n",
      "\n",
      "OrderedDict([('account_key', '1044'), ('status', 'canceled'), ('join_date', datetime.datetime(2015, 2, 8, 0, 0)), ('cancel_date', datetime.datetime(2015, 2, 8, 0, 0)), ('days_to_cancel', 0), ('is_udacity', False), ('is_canceled', True)])\n",
      "\n",
      "OrderedDict([('account_key', '749'), ('status', 'canceled'), ('join_date', datetime.datetime(2015, 3, 5, 0, 0)), ('cancel_date', datetime.datetime(2015, 3, 5, 0, 0)), ('days_to_cancel', 0), ('is_udacity', False), ('is_canceled', True)])\n",
      "\n",
      "OrderedDict([('account_key', '1129'), ('status', 'canceled'), ('join_date', datetime.datetime(2015, 3, 7, 0, 0)), ('cancel_date', datetime.datetime(2015, 3, 7, 0, 0)), ('days_to_cancel', 0), ('is_udacity', False), ('is_canceled', True)])\n",
      "\n",
      "OrderedDict([('account_key', '1129'), ('status', 'canceled'), ('join_date', datetime.datetime(2015, 2, 11, 0, 0)), ('cancel_date', datetime.datetime(2015, 2, 11, 0, 0)), ('days_to_cancel', 0), ('is_udacity', False), ('is_canceled', True)])\n",
      "\n",
      "OrderedDict([('account_key', '926'), ('status', 'canceled'), ('join_date', datetime.datetime(2015, 4, 6, 0, 0)), ('cancel_date', datetime.datetime(2015, 4, 6, 0, 0)), ('days_to_cancel', 0), ('is_udacity', False), ('is_canceled', True)])\n",
      "\n",
      "OrderedDict([('account_key', '711'), ('status', 'canceled'), ('join_date', datetime.datetime(2015, 5, 8, 0, 0)), ('cancel_date', datetime.datetime(2015, 5, 8, 0, 0)), ('days_to_cancel', 0), ('is_udacity', False), ('is_canceled', True)])\n",
      "\n",
      "OrderedDict([('account_key', '803'), ('status', 'canceled'), ('join_date', datetime.datetime(2015, 1, 8, 0, 0)), ('cancel_date', datetime.datetime(2015, 1, 8, 0, 0)), ('days_to_cancel', 0), ('is_udacity', False), ('is_canceled', True)])\n",
      "\n",
      "OrderedDict([('account_key', '799'), ('status', 'canceled'), ('join_date', datetime.datetime(2015, 2, 6, 0, 0)), ('cancel_date', datetime.datetime(2015, 2, 6, 0, 0)), ('days_to_cancel', 0), ('is_udacity', False), ('is_canceled', True)])\n",
      "\n",
      "OrderedDict([('account_key', '789'), ('status', 'canceled'), ('join_date', datetime.datetime(2015, 2, 6, 0, 0)), ('cancel_date', datetime.datetime(2015, 2, 6, 0, 0)), ('days_to_cancel', 0), ('is_udacity', False), ('is_canceled', True)])\n",
      "\n",
      "OrderedDict([('account_key', '819'), ('status', 'canceled'), ('join_date', datetime.datetime(2015, 3, 4, 0, 0)), ('cancel_date', datetime.datetime(2015, 3, 4, 0, 0)), ('days_to_cancel', 0), ('is_udacity', False), ('is_canceled', True)])\n",
      "\n",
      "OrderedDict([('account_key', '819'), ('status', 'canceled'), ('join_date', datetime.datetime(2015, 3, 4, 0, 0)), ('cancel_date', datetime.datetime(2015, 3, 4, 0, 0)), ('days_to_cancel', 0), ('is_udacity', False), ('is_canceled', True)])\n",
      "\n",
      "OrderedDict([('account_key', '902'), ('status', 'canceled'), ('join_date', datetime.datetime(2015, 5, 29, 0, 0)), ('cancel_date', datetime.datetime(2015, 5, 29, 0, 0)), ('days_to_cancel', 0), ('is_udacity', False), ('is_canceled', True)])\n",
      "\n",
      "OrderedDict([('account_key', '996'), ('status', 'canceled'), ('join_date', datetime.datetime(2015, 5, 29, 0, 0)), ('cancel_date', datetime.datetime(2015, 5, 29, 0, 0)), ('days_to_cancel', 0), ('is_udacity', False), ('is_canceled', True)])\n",
      "\n",
      "OrderedDict([('account_key', '1213'), ('status', 'canceled'), ('join_date', datetime.datetime(2015, 1, 12, 0, 0)), ('cancel_date', datetime.datetime(2015, 1, 12, 0, 0)), ('days_to_cancel', 0), ('is_udacity', False), ('is_canceled', True)])\n",
      "\n",
      "OrderedDict([('account_key', '733'), ('status', 'canceled'), ('join_date', datetime.datetime(2015, 1, 12, 0, 0)), ('cancel_date', datetime.datetime(2015, 1, 12, 0, 0)), ('days_to_cancel', 0), ('is_udacity', False), ('is_canceled', True)])\n",
      "\n",
      "OrderedDict([('account_key', '1237'), ('status', 'canceled'), ('join_date', datetime.datetime(2015, 5, 28, 0, 0)), ('cancel_date', datetime.datetime(2015, 5, 28, 0, 0)), ('days_to_cancel', 0), ('is_udacity', False), ('is_canceled', True)])\n",
      "\n",
      "OrderedDict([('account_key', '1069'), ('status', 'canceled'), ('join_date', datetime.datetime(2015, 6, 1, 0, 0)), ('cancel_date', datetime.datetime(2015, 6, 1, 0, 0)), ('days_to_cancel', 0), ('is_udacity', True), ('is_canceled', True)])\n",
      "\n",
      "OrderedDict([('account_key', '1086'), ('status', 'canceled'), ('join_date', datetime.datetime(2015, 6, 9, 0, 0)), ('cancel_date', datetime.datetime(2015, 6, 9, 0, 0)), ('days_to_cancel', 0), ('is_udacity', False), ('is_canceled', True)])\n",
      "\n",
      "OrderedDict([('account_key', '1190'), ('status', 'canceled'), ('join_date', datetime.datetime(2015, 3, 6, 0, 0)), ('cancel_date', datetime.datetime(2015, 3, 6, 0, 0)), ('days_to_cancel', 0), ('is_udacity', False), ('is_canceled', True)])\n",
      "\n",
      "OrderedDict([('account_key', '914'), ('status', 'canceled'), ('join_date', datetime.datetime(2015, 4, 2, 0, 0)), ('cancel_date', datetime.datetime(2015, 4, 2, 0, 0)), ('days_to_cancel', 0), ('is_udacity', False), ('is_canceled', True)])\n",
      "\n",
      "OrderedDict([('account_key', '914'), ('status', 'canceled'), ('join_date', datetime.datetime(2015, 7, 17, 0, 0)), ('cancel_date', datetime.datetime(2015, 7, 17, 0, 0)), ('days_to_cancel', 0), ('is_udacity', False), ('is_canceled', True)])\n",
      "\n",
      "OrderedDict([('account_key', '968'), ('status', 'canceled'), ('join_date', datetime.datetime(2015, 7, 17, 0, 0)), ('cancel_date', datetime.datetime(2015, 7, 17, 0, 0)), ('days_to_cancel', 0), ('is_udacity', False), ('is_canceled', True)])\n",
      "\n",
      "OrderedDict([('account_key', '1155'), ('status', 'canceled'), ('join_date', datetime.datetime(2015, 7, 17, 0, 0)), ('cancel_date', datetime.datetime(2015, 7, 17, 0, 0)), ('days_to_cancel', 0), ('is_udacity', False), ('is_canceled', True)])\n",
      "\n",
      "OrderedDict([('account_key', '766'), ('status', 'canceled'), ('join_date', datetime.datetime(2015, 5, 10, 0, 0)), ('cancel_date', datetime.datetime(2015, 5, 10, 0, 0)), ('days_to_cancel', 0), ('is_udacity', False), ('is_canceled', True)])\n",
      "\n",
      "OrderedDict([('account_key', '739'), ('status', 'canceled'), ('join_date', datetime.datetime(2015, 4, 5, 0, 0)), ('cancel_date', datetime.datetime(2015, 4, 5, 0, 0)), ('days_to_cancel', 0), ('is_udacity', False), ('is_canceled', True)])\n",
      "\n",
      "OrderedDict([('account_key', '1222'), ('status', 'canceled'), ('join_date', datetime.datetime(2015, 4, 7, 0, 0)), ('cancel_date', datetime.datetime(2015, 4, 7, 0, 0)), ('days_to_cancel', 0), ('is_udacity', False), ('is_canceled', True)])\n",
      "\n",
      "OrderedDict([('account_key', '1125'), ('status', 'canceled'), ('join_date', datetime.datetime(2015, 5, 31, 0, 0)), ('cancel_date', datetime.datetime(2015, 5, 31, 0, 0)), ('days_to_cancel', 0), ('is_udacity', False), ('is_canceled', True)])\n",
      "\n",
      "OrderedDict([('account_key', '1025'), ('status', 'canceled'), ('join_date', datetime.datetime(2015, 6, 7, 0, 0)), ('cancel_date', datetime.datetime(2015, 6, 7, 0, 0)), ('days_to_cancel', 0), ('is_udacity', False), ('is_canceled', True)])\n",
      "\n",
      "OrderedDict([('account_key', '750'), ('status', 'canceled'), ('join_date', datetime.datetime(2015, 6, 6, 0, 0)), ('cancel_date', datetime.datetime(2015, 6, 6, 0, 0)), ('days_to_cancel', 0), ('is_udacity', False), ('is_canceled', True)])\n",
      "\n",
      "OrderedDict([('account_key', '889'), ('status', 'canceled'), ('join_date', datetime.datetime(2015, 8, 11, 0, 0)), ('cancel_date', datetime.datetime(2015, 8, 11, 0, 0)), ('days_to_cancel', 0), ('is_udacity', False), ('is_canceled', True)])\n",
      "\n",
      "OrderedDict([('account_key', '737'), ('status', 'canceled'), ('join_date', datetime.datetime(2014, 11, 10, 0, 0)), ('cancel_date', datetime.datetime(2014, 11, 10, 0, 0)), ('days_to_cancel', 0), ('is_udacity', False), ('is_canceled', True)])\n",
      "\n",
      "OrderedDict([('account_key', '878'), ('status', 'canceled'), ('join_date', datetime.datetime(2014, 11, 10, 0, 0)), ('cancel_date', datetime.datetime(2014, 11, 10, 0, 0)), ('days_to_cancel', 0), ('is_udacity', False), ('is_canceled', True)])\n",
      "\n",
      "OrderedDict([('account_key', '981'), ('status', 'canceled'), ('join_date', datetime.datetime(2015, 2, 7, 0, 0)), ('cancel_date', datetime.datetime(2015, 2, 7, 0, 0)), ('days_to_cancel', 0), ('is_udacity', False), ('is_canceled', True)])\n",
      "\n",
      "OrderedDict([('account_key', '1101'), ('status', 'current'), ('join_date', datetime.datetime(2015, 2, 25, 0, 0)), ('cancel_date', None), ('days_to_cancel', None), ('is_udacity', True), ('is_canceled', False)])\n",
      "\n",
      "OrderedDict([('account_key', '1148'), ('status', 'canceled'), ('join_date', datetime.datetime(2015, 3, 9, 0, 0)), ('cancel_date', datetime.datetime(2015, 3, 9, 0, 0)), ('days_to_cancel', 0), ('is_udacity', False), ('is_canceled', True)])\n",
      "\n",
      "OrderedDict([('account_key', '1186'), ('status', 'canceled'), ('join_date', datetime.datetime(2015, 3, 11, 0, 0)), ('cancel_date', datetime.datetime(2015, 3, 11, 0, 0)), ('days_to_cancel', 0), ('is_udacity', False), ('is_canceled', True)])\n",
      "\n",
      "OrderedDict([('account_key', '725'), ('status', 'canceled'), ('join_date', datetime.datetime(2014, 12, 6, 0, 0)), ('cancel_date', datetime.datetime(2014, 12, 6, 0, 0)), ('days_to_cancel', 0), ('is_udacity', False), ('is_canceled', True)])\n",
      "\n",
      "OrderedDict([('account_key', '1145'), ('status', 'canceled'), ('join_date', datetime.datetime(2015, 4, 4, 0, 0)), ('cancel_date', datetime.datetime(2015, 4, 4, 0, 0)), ('days_to_cancel', 0), ('is_udacity', False), ('is_canceled', True)])\n",
      "\n",
      "OrderedDict([('account_key', '802'), ('status', 'canceled'), ('join_date', datetime.datetime(2015, 1, 8, 0, 0)), ('cancel_date', datetime.datetime(2015, 1, 8, 0, 0)), ('days_to_cancel', 0), ('is_udacity', False), ('is_canceled', True)])\n",
      "\n",
      "OrderedDict([('account_key', '664'), ('status', 'canceled'), ('join_date', datetime.datetime(2015, 1, 8, 0, 0)), ('cancel_date', datetime.datetime(2015, 1, 8, 0, 0)), ('days_to_cancel', 0), ('is_udacity', False), ('is_canceled', True)])\n",
      "\n",
      "OrderedDict([('account_key', '997'), ('status', 'canceled'), ('join_date', datetime.datetime(2015, 1, 12, 0, 0)), ('cancel_date', datetime.datetime(2015, 1, 12, 0, 0)), ('days_to_cancel', 0), ('is_udacity', False), ('is_canceled', True)])\n",
      "\n",
      "OrderedDict([('account_key', '870'), ('status', 'canceled'), ('join_date', datetime.datetime(2015, 5, 12, 0, 0)), ('cancel_date', datetime.datetime(2015, 5, 12, 0, 0)), ('days_to_cancel', 0), ('is_udacity', False), ('is_canceled', True)])\n",
      "\n",
      "OrderedDict([('account_key', '1284'), ('status', 'canceled'), ('join_date', datetime.datetime(2015, 1, 13, 0, 0)), ('cancel_date', datetime.datetime(2015, 1, 13, 0, 0)), ('days_to_cancel', 0), ('is_udacity', False), ('is_canceled', True)])\n",
      "\n",
      "OrderedDict([('account_key', '1079'), ('status', 'canceled'), ('join_date', datetime.datetime(2015, 2, 9, 0, 0)), ('cancel_date', datetime.datetime(2015, 2, 9, 0, 0)), ('days_to_cancel', 0), ('is_udacity', False), ('is_canceled', True)])\n",
      "\n",
      "OrderedDict([('account_key', '1063'), ('status', 'canceled'), ('join_date', datetime.datetime(2015, 7, 14, 0, 0)), ('cancel_date', datetime.datetime(2015, 7, 14, 0, 0)), ('days_to_cancel', 0), ('is_udacity', False), ('is_canceled', True)])\n",
      "\n",
      "OrderedDict([('account_key', '1270'), ('status', 'canceled'), ('join_date', datetime.datetime(2015, 7, 20, 0, 0)), ('cancel_date', datetime.datetime(2015, 7, 20, 0, 0)), ('days_to_cancel', 0), ('is_udacity', False), ('is_canceled', True)])\n",
      "\n",
      "OrderedDict([('account_key', '1291'), ('status', 'canceled'), ('join_date', datetime.datetime(2015, 6, 3, 0, 0)), ('cancel_date', datetime.datetime(2015, 6, 3, 0, 0)), ('days_to_cancel', 0), ('is_udacity', False), ('is_canceled', True)])\n",
      "\n",
      "OrderedDict([('account_key', '1241'), ('status', 'canceled'), ('join_date', datetime.datetime(2015, 6, 9, 0, 0)), ('cancel_date', datetime.datetime(2015, 6, 9, 0, 0)), ('days_to_cancel', 0), ('is_udacity', False), ('is_canceled', True)])\n",
      "\n"
     ]
    }
   ],
   "source": [
    "#identify surprising data points\n",
    "for enrollment in enrollments:\n",
    "    if enrollment['account_key'] not in unique_daily_engagements:\n",
    "        print(enrollment)\n",
    "        print()\n",
    "        #break\n",
    "#From the result, we can see that \n",
    "# 1 join_date and cancel_data are same"
   ]
  },
  {
   "cell_type": "code",
   "execution_count": 19,
   "metadata": {},
   "outputs": [
    {
     "name": "stdout",
     "output_type": "stream",
     "text": [
      "OrderedDict([('account_key', '1304'), ('status', 'canceled'), ('join_date', datetime.datetime(2015, 1, 10, 0, 0)), ('cancel_date', datetime.datetime(2015, 3, 10, 0, 0)), ('days_to_cancel', 59), ('is_udacity', True), ('is_canceled', True)])\n",
      "\n",
      "OrderedDict([('account_key', '1304'), ('status', 'canceled'), ('join_date', datetime.datetime(2015, 3, 10, 0, 0)), ('cancel_date', datetime.datetime(2015, 6, 17, 0, 0)), ('days_to_cancel', 99), ('is_udacity', True), ('is_canceled', True)])\n",
      "\n",
      "OrderedDict([('account_key', '1101'), ('status', 'current'), ('join_date', datetime.datetime(2015, 2, 25, 0, 0)), ('cancel_date', None), ('days_to_cancel', None), ('is_udacity', True), ('is_canceled', False)])\n",
      "\n",
      "3\n"
     ]
    }
   ],
   "source": [
    "num = 0\n",
    "for enrollment in enrollments:\n",
    "    if enrollment['account_key'] not in unique_daily_engagements:\n",
    "        if enrollment['join_date'] != enrollment['cancel_date']:\n",
    "            num +=1\n",
    "            print(enrollment)\n",
    "            print()\n",
    "\n",
    "print(num)\n",
    "\n",
    "#From the result, we can learn that\n",
    "# 2 the 'is_udacity' is True"
   ]
  },
  {
   "cell_type": "code",
   "execution_count": 20,
   "metadata": {},
   "outputs": [
    {
     "data": {
      "text/plain": [
       "6"
      ]
     },
     "execution_count": 20,
     "metadata": {},
     "output_type": "execute_result"
    }
   ],
   "source": [
    "#add udacity test accounts to udacity_test_accounts\n",
    "udacity_test_accounts = set()\n",
    "for enrollment in enrollments:\n",
    "    if enrollment['is_udacity']:\n",
    "        udacity_test_accounts.add(enrollment['account_key'])\n",
    "\n",
    "len(udacity_test_accounts)"
   ]
  },
  {
   "cell_type": "code",
   "execution_count": 21,
   "metadata": {},
   "outputs": [],
   "source": [
    "def remove_udacity_accounts(data):\n",
    "    non_udacity_data = []\n",
    "    for element in data:\n",
    "        if element['account_key'] not in udacity_test_accounts:\n",
    "            non_udacity_data.append(element)\n",
    "    return non_udacity_data\n",
    "            "
   ]
  },
  {
   "cell_type": "code",
   "execution_count": 22,
   "metadata": {},
   "outputs": [
    {
     "name": "stdout",
     "output_type": "stream",
     "text": [
      "1640\n",
      "1622\n",
      "136240\n",
      "135656\n",
      "3642\n",
      "3634\n"
     ]
    }
   ],
   "source": [
    "#remove udacity test accounts\n",
    "non_udacity_enrollments = remove_udacity_accounts(enrollments)\n",
    "non_udacity_engagements = remove_udacity_accounts(daily_engagements)\n",
    "non_udacity_submissions = remove_udacity_accounts(submissions)\n",
    "\n",
    "print(len(enrollments))\n",
    "print(len(non_udacity_enrollments))\n",
    "\n",
    "print(len(daily_engagements))\n",
    "print(len(non_udacity_engagements))\n",
    "\n",
    "print(len(submissions))\n",
    "print(len(non_udacity_submissions))"
   ]
  },
  {
   "cell_type": "code",
   "execution_count": 23,
   "metadata": {},
   "outputs": [
    {
     "name": "stdout",
     "output_type": "stream",
     "text": [
      "1296\n",
      "1234\n"
     ]
    }
   ],
   "source": [
    "print(len(get_unique_students(non_udacity_enrollments)))\n",
    "print(len(get_unique_students(non_udacity_engagements)))\n"
   ]
  },
  {
   "cell_type": "markdown",
   "metadata": {},
   "source": [
    "Explore Phase    \n",
    "non_udacity_enrollments    \n",
    "non_udacity_engagements    \n",
    "non_udacity_submissions"
   ]
  },
  {
   "cell_type": "markdown",
   "metadata": {},
   "source": [
    "Question:     \n",
    "How do numbers in the daily engagement table differ for students who pass the first project?\n",
    "problems:    \n",
    "1. this will include data from after the project submission    \n",
    "2. This compares data from different lengths of time\n",
    "   if we do only look at engagement from before the first submission and students submit after different lengths of time, then we are comparing engagement data from different lengths of time, but students' engagement might have trends over time.\n",
    "3. Includes engagement in courses not related to the first project.\n",
    "\n",
    "Revision: Only look at engagement from first week, and exclude students who cancel within a week.\n"
   ]
  },
  {
   "cell_type": "code",
   "execution_count": 24,
   "metadata": {},
   "outputs": [
    {
     "data": {
      "text/plain": [
       "995"
      ]
     },
     "execution_count": 24,
     "metadata": {},
     "output_type": "execute_result"
    }
   ],
   "source": [
    "paid_students = {}\n",
    "for enrollment in non_udacity_enrollments:\n",
    "    if enrollment['days_to_cancel'] == None or enrollment['days_to_cancel'] >7:\n",
    "        key = enrollment['account_key']\n",
    "        enrollment_date = enrollment['join_date']\n",
    "        \n",
    "        if key not in paid_students or \\\n",
    "        enrollment_date > paid_students[key]:\n",
    "            paid_students[key]=enrollment_date\n",
    "\n",
    "len(paid_students)"
   ]
  },
  {
   "cell_type": "code",
   "execution_count": 47,
   "metadata": {},
   "outputs": [],
   "source": [
    "def within_one_week(join_date, engagement_date):\n",
    "    time_delta = engagement_date - join_date\n",
    "    return (time_delta.days >= 0 and time_delta.days < 7)"
   ]
  },
  {
   "cell_type": "code",
   "execution_count": 48,
   "metadata": {},
   "outputs": [
    {
     "data": {
      "text/plain": [
       "6919"
      ]
     },
     "execution_count": 48,
     "metadata": {},
     "output_type": "execute_result"
    }
   ],
   "source": [
    "#solution by ghwan\n",
    "\n",
    "#create a list of rows from the engagement table\n",
    "#including students where student is one of the paid students\n",
    "#and the date is within one week of the student's join date\n",
    "paid_engagement_in_first_week = []\n",
    "for engagement in non_udacity_engagements:\n",
    "    if engagement['account_key'] in paid_students:\n",
    "        date1 = paid_students[engagement['account_key']]\n",
    "        date2 = engagement['utc_date']\n",
    "        if within_one_week(date1,date2):\n",
    "            paid_engagement_in_first_week.append(engagement)\n",
    "            \n",
    "len(paid_engagement_in_first_week)        "
   ]
  },
  {
   "cell_type": "code",
   "execution_count": 49,
   "metadata": {},
   "outputs": [],
   "source": [
    "#solution by instructor\n",
    "\n",
    "def remove_free_trial_cancels(data):\n",
    "    new_data = []\n",
    "    for data_point in data:\n",
    "        if data_point['account_key'] in paid_students:\n",
    "            new_data.append(data_point)\n",
    "    return new_data"
   ]
  },
  {
   "cell_type": "code",
   "execution_count": 50,
   "metadata": {},
   "outputs": [
    {
     "name": "stdout",
     "output_type": "stream",
     "text": [
      "1293\n",
      "134549\n",
      "3618\n"
     ]
    }
   ],
   "source": [
    "paid_enrollments = remove_free_trial_cancels(non_udacity_enrollments)\n",
    "paid_engagements = remove_free_trial_cancels(non_udacity_engagements)\n",
    "paid_submissions = remove_free_trial_cancels(non_udacity_submissions)\n",
    "\n",
    "print(len(paid_enrollments))\n",
    "print(len(paid_engagements))\n",
    "print(len(paid_submissions))"
   ]
  },
  {
   "cell_type": "code",
   "execution_count": 51,
   "metadata": {},
   "outputs": [
    {
     "data": {
      "text/plain": [
       "6919"
      ]
     },
     "execution_count": 51,
     "metadata": {},
     "output_type": "execute_result"
    }
   ],
   "source": [
    "paid_engagement_in_first_week = []\n",
    "for engagement in paid_engagements:\n",
    "    join_date = paid_students[engagement['account_key']]\n",
    "    engagement_date = engagement['utc_date']\n",
    "    if within_one_week(join_date,engagement_date):\n",
    "        paid_engagement_in_first_week.append(engagement)\n",
    "        #for test\n",
    "        #if engagement['account_key'] == '108':\n",
    "            #print(join_date)\n",
    "            #print(engagement_date)\n",
    "            \n",
    "len(paid_engagement_in_first_week) "
   ]
  },
  {
   "cell_type": "code",
   "execution_count": 52,
   "metadata": {},
   "outputs": [
    {
     "data": {
      "text/plain": [
       "6919"
      ]
     },
     "execution_count": 52,
     "metadata": {},
     "output_type": "execute_result"
    }
   ],
   "source": [
    "len(paid_engagement_in_first_week)"
   ]
  },
  {
   "cell_type": "code",
   "execution_count": null,
   "metadata": {},
   "outputs": [],
   "source": []
  },
  {
   "cell_type": "code",
   "execution_count": 53,
   "metadata": {},
   "outputs": [],
   "source": [
    "#Average minutes a student spent in classroom\n",
    "\n",
    "#arrange engagements according to students\n",
    "#output: a dictionary, key: account key , value: lists of engagements\n",
    "\n",
    "from collections import defaultdict\n",
    "engagements_by_account = defaultdict(list)\n",
    "for engagement in paid_engagement_in_first_week:\n",
    "    key = engagement['account_key']\n",
    "    engagements_by_account[key].append(engagement)\n",
    "\n"
   ]
  },
  {
   "cell_type": "code",
   "execution_count": 54,
   "metadata": {},
   "outputs": [
    {
     "data": {
      "text/plain": [
       "995"
      ]
     },
     "execution_count": 54,
     "metadata": {},
     "output_type": "execute_result"
    }
   ],
   "source": [
    "len(engagements_by_account)"
   ]
  },
  {
   "cell_type": "code",
   "execution_count": 55,
   "metadata": {},
   "outputs": [],
   "source": [
    "total_minutes_by_account = {}\n",
    "for account_key, engagements_for_student in engagements_by_account.items():\n",
    "    total_minutes = 0\n",
    "    for engagement in engagements_for_student:\n",
    "        total_minutes += engagement['total_minutes_visited']\n",
    "    total_minutes_by_account[account_key] = total_minutes"
   ]
  },
  {
   "cell_type": "code",
   "execution_count": 56,
   "metadata": {},
   "outputs": [
    {
     "data": {
      "text/plain": [
       "995"
      ]
     },
     "execution_count": 56,
     "metadata": {},
     "output_type": "execute_result"
    }
   ],
   "source": [
    "len(total_minutes_by_account)"
   ]
  },
  {
   "cell_type": "code",
   "execution_count": 57,
   "metadata": {},
   "outputs": [
    {
     "name": "stdout",
     "output_type": "stream",
     "text": [
      "Mean: 306.708326753\n",
      "Standard deviation: 412.99693341\n",
      "Minimum: 0.0\n",
      "Maximum: 3564.7332645\n"
     ]
    }
   ],
   "source": [
    "total_minutes = total_minutes_by_account.values()\n",
    "\n",
    "import numpy as np\n",
    "total_minutes = list(total_minutes)\n",
    "\n",
    "print('Mean:', np.mean(total_minutes))\n",
    "print('Standard deviation:', np.std(total_minutes))\n",
    "print('Minimum:', np.min(total_minutes))\n",
    "print('Maximum:', np.max(total_minutes))\n",
    "\n",
    "#the minutes of a week: 10080"
   ]
  },
  {
   "cell_type": "markdown",
   "metadata": {},
   "source": [
    "#### problems about the average minutes above\n",
    "1. Identify surpring data points\n",
    "   it is more than the hours a week 168*24(10080).\n",
    "2. Point out one or a few surpring points\n",
    "3. Fix any problems\n"
   ]
  },
  {
   "cell_type": "code",
   "execution_count": 46,
   "metadata": {},
   "outputs": [
    {
     "name": "stdout",
     "output_type": "stream",
     "text": [
      "2015-04-21 00:00:00\n",
      "3.406823167\n",
      "2015-04-22 00:00:00\n",
      "99.11866117\n",
      "2015-04-23 00:00:00\n",
      "35.83162067\n",
      "2015-04-24 00:00:00\n",
      "0.0\n",
      "2015-04-25 00:00:00\n",
      "0.0\n",
      "2015-04-26 00:00:00\n",
      "0.0\n"
     ]
    }
   ],
   "source": [
    "total_minutes_by_account = {}\n",
    "for account_key, engagements_for_student in engagements_by_account.items():\n",
    "    total_minutes = 0\n",
    "    for engagement in engagements_for_student:\n",
    "        total_minutes += engagement['total_minutes_visited']\n",
    "        #for test\n",
    "        #if account_key == '108':\n",
    "         #   print(engagement['utc_date'])\n",
    "          #  print(engagement['total_minutes_visited'])\n",
    "    if total_minutes > 10080:#24*60*7\n",
    "        print(account_key,total_minutes)"
   ]
  },
  {
   "cell_type": "code",
   "execution_count": null,
   "metadata": {},
   "outputs": [],
   "source": []
  },
  {
   "cell_type": "code",
   "execution_count": 44,
   "metadata": {},
   "outputs": [
    {
     "name": "stdout",
     "output_type": "stream",
     "text": [
      "2015-04-20 00:00:00\n"
     ]
    }
   ],
   "source": [
    "print(paid_students['108'])"
   ]
  },
  {
   "cell_type": "code",
   "execution_count": null,
   "metadata": {},
   "outputs": [],
   "source": [
    "#the problem is within_one_week()"
   ]
  },
  {
   "cell_type": "code",
   "execution_count": null,
   "metadata": {},
   "outputs": [],
   "source": []
  },
  {
   "cell_type": "code",
   "execution_count": null,
   "metadata": {},
   "outputs": [],
   "source": [
    "#Lessons Completed in First Week"
   ]
  },
  {
   "cell_type": "code",
   "execution_count": 87,
   "metadata": {},
   "outputs": [],
   "source": [
    "from collections import defaultdict\n",
    "\n",
    "def group_data(data, key_name):\n",
    "    group_data = defaultdict(list)\n",
    "    for data_point in data:\n",
    "        key = data_point[key_name]\n",
    "        group_data[key].append(data_point)\n",
    "    return group_data \n"
   ]
  },
  {
   "cell_type": "code",
   "execution_count": 95,
   "metadata": {},
   "outputs": [],
   "source": [
    "engagements_by_account = group_data(paid_engagement_in_first_week,'account_key')\n"
   ]
  },
  {
   "cell_type": "code",
   "execution_count": 114,
   "metadata": {},
   "outputs": [],
   "source": [
    "#data should be a dictionary whose key is 'account_key'\n",
    "#output: a dictionary with 'account_key' as a key\n",
    "\n",
    "\n",
    "#total_lessons_by_account = {}\n",
    "#for account_key, engagements_for_student in engagements_by_account.items():\n",
    "#    total_lessons = 0\n",
    "#    for engagement in engagements_for_student:\n",
    "#        total_lessons += engagement['lessons_completed']\n",
    "#    total_lessons_by_account[account_key] = total_lessons\n",
    "    \n",
    "\n",
    "def sum_grouped_items(grouped_data, field_name):\n",
    "    total_by_account = {}\n",
    "    for key, data_points in grouped_data.items():\n",
    "        total = 0\n",
    "        for data_point in data_points:\n",
    "            total += data_point[field_name]\n",
    "        total_by_account[key] = total\n",
    "        \n",
    "    return total_by_account\n",
    "    "
   ]
  },
  {
   "cell_type": "code",
   "execution_count": 116,
   "metadata": {},
   "outputs": [],
   "source": [
    "total_lessons_by_account = sum_grouped_items(engagements_by_account,'lessons_completed')"
   ]
  },
  {
   "cell_type": "code",
   "execution_count": 117,
   "metadata": {},
   "outputs": [],
   "source": [
    "import numpy as np\n",
    "#data should be a list\n",
    "def describe_data(data):\n",
    "    print('Mean:', np.mean(data))\n",
    "    print('Standard deviation:', np.std(data))\n",
    "    print('Minimum:', np.min(data))\n",
    "    print('Maximum:', np.max(data))\n"
   ]
  },
  {
   "cell_type": "code",
   "execution_count": 118,
   "metadata": {},
   "outputs": [
    {
     "name": "stdout",
     "output_type": "stream",
     "text": [
      "Mean: 1.63618090452\n",
      "Standard deviation: 3.00256129983\n",
      "Minimum: 0\n",
      "Maximum: 36\n"
     ]
    }
   ],
   "source": [
    "total_lessons = total_lessons_by_account.values()\n",
    "total_lessons = list(total_lessons)\n",
    "describe_data(total_lessons)"
   ]
  },
  {
   "cell_type": "code",
   "execution_count": null,
   "metadata": {},
   "outputs": [],
   "source": []
  },
  {
   "cell_type": "code",
   "execution_count": null,
   "metadata": {},
   "outputs": [],
   "source": []
  },
  {
   "cell_type": "code",
   "execution_count": 119,
   "metadata": {},
   "outputs": [],
   "source": [
    "#To analyze the number of days the student visited the classroom:"
   ]
  },
  {
   "cell_type": "code",
   "execution_count": 125,
   "metadata": {},
   "outputs": [],
   "source": [
    "def sum_grouped_items_flag(grouped_data, field_name):\n",
    "    total_by_account = {}\n",
    "    for key, data_points in grouped_data.items():\n",
    "        total = 0\n",
    "        for data_point in data_points:\n",
    "            if data_point[field_name] > 0:\n",
    "                total += 1\n",
    "        total_by_account[key] = total\n",
    "        \n",
    "    return total_by_account"
   ]
  },
  {
   "cell_type": "code",
   "execution_count": 139,
   "metadata": {},
   "outputs": [],
   "source": [
    "total_days_visited_classroom_by_account = sum_grouped_items_flag(engagements_by_account,'num_courses_visited')"
   ]
  },
  {
   "cell_type": "code",
   "execution_count": 143,
   "metadata": {},
   "outputs": [
    {
     "name": "stdout",
     "output_type": "stream",
     "text": [
      "Mean: 2.86733668342\n",
      "Standard deviation: 2.25519800292\n",
      "Minimum: 0\n",
      "Maximum: 7\n"
     ]
    }
   ],
   "source": [
    "total_days = total_days_visited_classroom_by_account.values()\n",
    "total_days = list(total_days)\n",
    "describe_data(total_days)"
   ]
  },
  {
   "cell_type": "code",
   "execution_count": 161,
   "metadata": {},
   "outputs": [],
   "source": [
    "#solution by instructor\n",
    "#add 'has visited' field\n",
    "for engagement in paid_engagement_in_first_week:\n",
    "    if engagement['num_courses_visited'] > 0:\n",
    "        engagement['has_visited'] = 1\n",
    "    else:\n",
    "        engagement['has_visited'] = 0"
   ]
  },
  {
   "cell_type": "code",
   "execution_count": 162,
   "metadata": {},
   "outputs": [],
   "source": [
    "total_days_visited_classroom_by_account2 = sum_grouped_items(engagements_by_account,'has_visited')"
   ]
  },
  {
   "cell_type": "code",
   "execution_count": 166,
   "metadata": {},
   "outputs": [
    {
     "name": "stdout",
     "output_type": "stream",
     "text": [
      "Mean: 2.86733668342\n",
      "Standard deviation: 2.25519800292\n",
      "Minimum: 0\n",
      "Maximum: 7\n"
     ]
    }
   ],
   "source": [
    "total_days2 = total_days_visited_classroom_by_account2.values()\n",
    "total_days2 = list(total_days2)\n",
    "describe_data(total_days2)"
   ]
  },
  {
   "cell_type": "code",
   "execution_count": null,
   "metadata": {},
   "outputs": [],
   "source": []
  },
  {
   "cell_type": "code",
   "execution_count": null,
   "metadata": {},
   "outputs": [],
   "source": [
    "#Splitting out Passing Students\n",
    "#Split the engagement data into two lists:\n",
    "#passing_engagement:\n",
    "# records for students who pass the subway project\n",
    "\n",
    "#non_passing_engagement:\n",
    "# Records for students who do not\n",
    "\n",
    "\n",
    "#paid_enrollments\n",
    "#paid_engagements\n",
    "#paid_submissions"
   ]
  },
  {
   "cell_type": "code",
   "execution_count": 177,
   "metadata": {},
   "outputs": [],
   "source": [
    "subway_project_lesson_keys = ['746169184', '3176718735']"
   ]
  },
  {
   "cell_type": "code",
   "execution_count": 178,
   "metadata": {},
   "outputs": [
    {
     "name": "stdout",
     "output_type": "stream",
     "text": [
      "OrderedDict([('creation_date', datetime.datetime(2015, 1, 14, 0, 0)), ('completion_date', datetime.datetime(2015, 1, 16, 0, 0)), ('assigned_rating', 'UNGRADED'), ('account_key', '256'), ('lesson_key', '3176718735'), ('processing_state', 'EVALUATED')])\n"
     ]
    }
   ],
   "source": [
    "for submission in paid_submissions:\n",
    "    print(submission)\n",
    "    break"
   ]
  },
  {
   "cell_type": "code",
   "execution_count": 202,
   "metadata": {},
   "outputs": [],
   "source": [
    "passing_students = []\n",
    "for submission in paid_submissions:\n",
    "    project = submission['lesson_key']\n",
    "    rating = submission['assigned_rating']\n",
    "    \n",
    "    account_key = submission['account_key']\n",
    "    \n",
    "    if ((project in subway_project_lesson_keys) and (rating == 'PASSED' or rating == 'DISTINCTION')):\n",
    "            if account_key not in passing_students:\n",
    "                passing_students.append(account_key)"
   ]
  },
  {
   "cell_type": "code",
   "execution_count": 205,
   "metadata": {},
   "outputs": [
    {
     "data": {
      "text/plain": [
       "647"
      ]
     },
     "execution_count": 205,
     "metadata": {},
     "output_type": "execute_result"
    }
   ],
   "source": [
    "len(passing_students)"
   ]
  },
  {
   "cell_type": "code",
   "execution_count": 208,
   "metadata": {},
   "outputs": [
    {
     "name": "stdout",
     "output_type": "stream",
     "text": [
      "OrderedDict([('utc_date', datetime.datetime(2015, 1, 9, 0, 0)), ('num_courses_visited', 1), ('total_minutes_visited', 11.6793745), ('lessons_completed', 0), ('projects_completed', 0), ('account_key', '0'), ('has_visited', 1)])\n"
     ]
    }
   ],
   "source": [
    "for engagement_record in paid_engagement_in_first_week:\n",
    "    print(engagement_record)\n",
    "    break"
   ]
  },
  {
   "cell_type": "code",
   "execution_count": 209,
   "metadata": {},
   "outputs": [],
   "source": [
    "passing_engagement = []\n",
    "non_passing_engagement = []\n",
    "\n",
    "for engagement_record in paid_engagement_in_first_week:\n",
    "    account_key = engagement_record['account_key']\n",
    "    if account_key in passing_students:\n",
    "        passing_engagement.append(engagement_record)\n",
    "    else:\n",
    "        non_passing_engagement.append(engagement_record)"
   ]
  },
  {
   "cell_type": "code",
   "execution_count": 210,
   "metadata": {},
   "outputs": [
    {
     "data": {
      "text/plain": [
       "4527"
      ]
     },
     "execution_count": 210,
     "metadata": {},
     "output_type": "execute_result"
    }
   ],
   "source": [
    "len(passing_engagement)"
   ]
  },
  {
   "cell_type": "code",
   "execution_count": 211,
   "metadata": {},
   "outputs": [
    {
     "data": {
      "text/plain": [
       "2392"
      ]
     },
     "execution_count": 211,
     "metadata": {},
     "output_type": "execute_result"
    }
   ],
   "source": [
    "len(non_passing_engagement)"
   ]
  },
  {
   "cell_type": "code",
   "execution_count": 214,
   "metadata": {},
   "outputs": [
    {
     "data": {
      "text/plain": [
       "647"
      ]
     },
     "execution_count": 214,
     "metadata": {},
     "output_type": "execute_result"
    }
   ],
   "source": [
    "#solution by instructor\n",
    "subway_project_lesson_keys = ['746169184', '3176718735']\n",
    "\n",
    "pass_subway_project = set()\n",
    "\n",
    "for submission in paid_submissions:\n",
    "    project = submission['lesson_key']\n",
    "    rating = submission['assigned_rating']    \n",
    "\n",
    "    if ((project in subway_project_lesson_keys) and\n",
    "            (rating == 'PASSED' or rating == 'DISTINCTION')):\n",
    "        pass_subway_project.add(submission['account_key'])\n",
    "\n",
    "len(pass_subway_project)\n"
   ]
  },
  {
   "cell_type": "code",
   "execution_count": 215,
   "metadata": {},
   "outputs": [
    {
     "name": "stdout",
     "output_type": "stream",
     "text": [
      "4527\n",
      "2392\n"
     ]
    }
   ],
   "source": [
    "\n",
    "passing_engagement = []\n",
    "non_passing_engagement = []\n",
    "\n",
    "for engagement_record in paid_engagement_in_first_week:\n",
    "    if engagement_record['account_key'] in pass_subway_project:\n",
    "        passing_engagement.append(engagement_record)\n",
    "    else:\n",
    "        non_passing_engagement.append(engagement_record)\n",
    "\n",
    "print(len(passing_engagement))\n",
    "print(len(non_passing_engagement))"
   ]
  },
  {
   "cell_type": "code",
   "execution_count": null,
   "metadata": {},
   "outputs": [],
   "source": []
  },
  {
   "cell_type": "code",
   "execution_count": 216,
   "metadata": {},
   "outputs": [],
   "source": [
    "#Comparing Students who pass to Those who Don't\n",
    "#e.g.\n",
    "# Mniutes spent, lessons compelte, days visited\n",
    "# Are these students more likely to complete other projects\n",
    "# Look at the more granular data in Daily_engagement_full.csv"
   ]
  },
  {
   "cell_type": "code",
   "execution_count": 217,
   "metadata": {},
   "outputs": [],
   "source": [
    "\n",
    "#passing_engagement\n",
    "#non_passing_engagement\n"
   ]
  },
  {
   "cell_type": "code",
   "execution_count": 218,
   "metadata": {},
   "outputs": [
    {
     "name": "stdout",
     "output_type": "stream",
     "text": [
      "OrderedDict([('utc_date', datetime.datetime(2015, 1, 9, 0, 0)), ('num_courses_visited', 1), ('total_minutes_visited', 11.6793745), ('lessons_completed', 0), ('projects_completed', 0), ('account_key', '0'), ('has_visited', 1)])\n"
     ]
    }
   ],
   "source": [
    "for engagement in passing_engagement:\n",
    "    print(engagement)\n",
    "    break"
   ]
  },
  {
   "cell_type": "code",
   "execution_count": 223,
   "metadata": {},
   "outputs": [],
   "source": [
    "passing_engagement_by_account = group_data(passing_engagement,'account_key')\n",
    "non_passing_engagement_by_account = group_data(non_passing_engagement,'account_key')"
   ]
  },
  {
   "cell_type": "code",
   "execution_count": 224,
   "metadata": {},
   "outputs": [],
   "source": [
    "total_minutes_by_account = sum_grouped_items(passing_engagement_by_account,'total_minutes_visited')\n",
    "total_minutes_by_account_non = sum_grouped_items(non_passing_engagement_by_account,'total_minutes_visited')"
   ]
  },
  {
   "cell_type": "code",
   "execution_count": 225,
   "metadata": {},
   "outputs": [
    {
     "name": "stdout",
     "output_type": "stream",
     "text": [
      "Mean: 394.586046483\n",
      "Standard deviation: 448.49951933\n",
      "Minimum: 0.0\n",
      "Maximum: 3564.7332645\n"
     ]
    }
   ],
   "source": [
    "total_minutes = total_minutes_by_account.values()\n",
    "total_minutes = list(total_minutes)\n",
    "describe_data(total_minutes)"
   ]
  },
  {
   "cell_type": "code",
   "execution_count": 226,
   "metadata": {},
   "outputs": [
    {
     "name": "stdout",
     "output_type": "stream",
     "text": [
      "Mean: 143.326474266\n",
      "Standard deviation: 269.538619008\n",
      "Minimum: 0.0\n",
      "Maximum: 1768.5227493\n"
     ]
    }
   ],
   "source": [
    "total_minutes_non = total_minutes_by_account_non.values()\n",
    "total_minutes_non = list(total_minutes_non)\n",
    "describe_data(total_minutes_non)"
   ]
  },
  {
   "cell_type": "code",
   "execution_count": 227,
   "metadata": {},
   "outputs": [],
   "source": [
    "#Communicate"
   ]
  },
  {
   "cell_type": "code",
   "execution_count": 231,
   "metadata": {},
   "outputs": [
    {
     "name": "stdout",
     "output_type": "stream",
     "text": [
      "Mean: 394.586046483\n",
      "Standard deviation: 448.49951933\n",
      "Minimum: 0.0\n",
      "Maximum: 3564.7332645\n"
     ]
    },
    {
     "data": {
      "text/plain": [
       "(array([ 370.,  155.,   83.,   19.,   10.,    4.,    2.,    3.,    0.,    1.]),\n",
       " array([    0.        ,   356.47332645,   712.9466529 ,  1069.41997935,\n",
       "         1425.8933058 ,  1782.36663225,  2138.8399587 ,  2495.31328515,\n",
       "         2851.7866116 ,  3208.25993805,  3564.7332645 ]),\n",
       " <a list of 10 Patch objects>)"
      ]
     },
     "execution_count": 231,
     "metadata": {},
     "output_type": "execute_result"
    },
    {
     "data": {
      "image/png": "[encoded data removed]",
      "text/plain": [
       "<matplotlib.figure.Figure at 0x11d270be0>"
      ]
     },
     "metadata": {},
     "output_type": "display_data"
    }
   ],
   "source": [
    "%matplotlib inline\n",
    "import matplotlib.pyplot as plt\n",
    "\n",
    "total_minutes = total_minutes_by_account.values()\n",
    "total_minutes = list(total_minutes)\n",
    "describe_data(total_minutes)\n",
    "\n",
    "plt.hist(total_minutes)"
   ]
  },
  {
   "cell_type": "code",
   "execution_count": 232,
   "metadata": {},
   "outputs": [
    {
     "name": "stdout",
     "output_type": "stream",
     "text": [
      "Mean: 143.326474266\n",
      "Standard deviation: 269.538619008\n",
      "Minimum: 0.0\n",
      "Maximum: 1768.5227493\n"
     ]
    },
    {
     "data": {
      "text/plain": [
       "(array([ 272.,   34.,   17.,    9.,    6.,    2.,    1.,    5.,    0.,    2.]),\n",
       " array([    0.        ,   176.85227493,   353.70454986,   530.55682479,\n",
       "          707.40909972,   884.26137465,  1061.11364958,  1237.96592451,\n",
       "         1414.81819944,  1591.67047437,  1768.5227493 ]),\n",
       " <a list of 10 Patch objects>)"
      ]
     },
     "execution_count": 232,
     "metadata": {},
     "output_type": "execute_result"
    },
    {
     "data": {
      "image/png": "[encoded data removed]",
      "text/plain": [
       "<matplotlib.figure.Figure at 0x1205bf588>"
      ]
     },
     "metadata": {},
     "output_type": "display_data"
    }
   ],
   "source": [
    "total_minutes_non = total_minutes_by_account_non.values()\n",
    "total_minutes_non = list(total_minutes_non)\n",
    "describe_data(total_minutes_non)\n",
    "\n",
    "plt.hist(total_minutes_non)"
   ]
  },
  {
   "cell_type": "code",
   "execution_count": null,
   "metadata": {},
   "outputs": [],
   "source": []
  }
 ],
 "metadata": {
  "kernelspec": {
   "display_name": "Python 3",
   "language": "python",
   "name": "python3"
  },
  "language_info": {
   "codemirror_mode": {
    "name": "ipython",
    "version": 3
   },
   "file_extension": ".py",
   "mimetype": "text/x-python",
   "name": "python",
   "nbconvert_exporter": "python",
   "pygments_lexer": "ipython3",
   "version": "3.6.4"
  },
  "toc": {
   "colors": {
    "hover_highlight": "#DAA520",
    "navigate_num": "#000000",
    "navigate_text": "#333333",
    "running_highlight": "#FF0000",
    "selected_highlight": "#FFD700",
    "sidebar_border": "#EEEEEE",
    "wrapper_background": "#FFFFFF"
   },
   "moveMenuLeft": true,
   "nav_menu": {
    "height": "12px",
    "width": "252px"
   },
   "navigate_menu": true,
   "number_sections": true,
   "sideBar": true,
   "threshold": 4,
   "toc_cell": false,
   "toc_section_display": "block",
   "toc_window_display": false,
   "widenNotebook": false
  }
 },
 "nbformat": 4,
 "nbformat_minor": 2
}
