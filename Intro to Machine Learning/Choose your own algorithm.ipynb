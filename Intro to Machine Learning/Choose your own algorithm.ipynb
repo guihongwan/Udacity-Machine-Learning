{
 "cells": [
  {
   "cell_type": "code",
   "execution_count": 1,
   "metadata": {},
   "outputs": [],
   "source": [
    "# Object: the ability to figure out new things about machine learning\n",
    "\n",
    "#Project: to do terrain classfication\n",
    "\n",
    "#Algorithms you can choose:\n",
    "#1. K nearest neighbors\n",
    "#2. Ataboost (boosted decision tree)\n",
    "#3. random forest"
   ]
  },
  {
   "cell_type": "code",
   "execution_count": 2,
   "metadata": {},
   "outputs": [],
   "source": [
    "# Process\n",
    "# 1. Do some research\n",
    "# 2. Find sklearn documentation\n",
    "# 3. Deploy it\n",
    "# 4. use it to make predictions\n",
    "# 5. evaluate it"
   ]
  },
  {
   "cell_type": "markdown",
   "metadata": {},
   "source": [
    "# K-nearest neighbors algorithm"
   ]
  },
  {
   "cell_type": "code",
   "execution_count": 3,
   "metadata": {},
   "outputs": [
    {
     "data": {
      "text/plain": [
       "' An object is classified by a majority vote of its neighbors,\\nwith the object being assigned to class most common among its k nearest neighbors.\\nif k = 1, then the object is simply assigned to the class of that\\nsingle nearest neighbor. '"
      ]
     },
     "execution_count": 3,
     "metadata": {},
     "output_type": "execute_result"
    }
   ],
   "source": [
    "# In K-NN classification, the output is a class membership.\n",
    "''' An object is classified by a majority vote of its neighbors,\n",
    "with the object being assigned to class most common among its k nearest neighbors.\n",
    "if k = 1, then the object is simply assigned to the class of that\n",
    "single nearest neighbor. '''"
   ]
  },
  {
   "cell_type": "code",
   "execution_count": null,
   "metadata": {},
   "outputs": [],
   "source": [
    "# sklearn.neighbors\n",
    "'''sklearn neighbors provides functionality for unsupervised and supervised neighbors-based learning methods.\n",
    "\n",
    "the principle behind nearest neighbor methods is to find a predefined number of training samples\n",
    "closest in distance to the new point, and predict the label from these.\n",
    "\n",
    "the number of samples can be user-defined constant(k-nn), or\n",
    "vary based on the local density of points.\n",
    "\n",
    "Neighbors-based methods are known as non-generalizing machine learning methods, \n",
    "since they simply remember the training data or transform into a fast indexing structure.'''"
   ]
  },
  {
   "cell_type": "code",
   "execution_count": null,
   "metadata": {},
   "outputs": [],
   "source": [
    "# Unsupervised Nearest Neighbors\n",
    "'''\n",
    "NearestNeighbors\n",
    "'''"
   ]
  },
  {
   "cell_type": "code",
   "execution_count": null,
   "metadata": {},
   "outputs": [],
   "source": [
    "# Nearest Neighbors Classification\n",
    "'''\n",
    "a type of instance-based learning or non-generalizing learning.\n",
    "'''\n",
    "# 1. KNeighborsClassifier\n",
    "# 2. RadiusNeighborsClassifier\n",
    "\n",
    "'''under some circumstances, it is better to weight the neighbors such that \n",
    "near neighbors contribute more the fit'''"
   ]
  },
  {
   "cell_type": "code",
   "execution_count": 4,
   "metadata": {},
   "outputs": [],
   "source": [
    "import numpy as np\n",
    "import matplotlib.pyplot as plt\n",
    "from matplotlib.colors import ListedColormap\n",
    "from sklearn import neighbors, datasets"
   ]
  },
  {
   "cell_type": "code",
   "execution_count": 5,
   "metadata": {},
   "outputs": [],
   "source": [
    "n_neighbors = 15"
   ]
  },
  {
   "cell_type": "code",
   "execution_count": 28,
   "metadata": {},
   "outputs": [
    {
     "name": "stdout",
     "output_type": "stream",
     "text": [
      "[[ 5.1  3.5]\n",
      " [ 4.9  3. ]\n",
      " [ 4.7  3.2]\n",
      " [ 4.6  3.1]\n",
      " [ 5.   3.6]\n",
      " [ 5.4  3.9]\n",
      " [ 4.6  3.4]\n",
      " [ 5.   3.4]\n",
      " [ 4.4  2.9]\n",
      " [ 4.9  3.1]\n",
      " [ 5.4  3.7]\n",
      " [ 4.8  3.4]\n",
      " [ 4.8  3. ]\n",
      " [ 4.3  3. ]\n",
      " [ 5.8  4. ]]\n",
      "[0 0 0 0 0 0 0 0 0 0 0 0 0 0 0]\n",
      "[[ 5.1  3.5]\n",
      " [ 4.9  3. ]\n",
      " [ 4.7  3.2]\n",
      " [ 4.6  3.1]\n",
      " [ 5.   3.6]]\n"
     ]
    }
   ],
   "source": [
    "iris = datasets.load_iris()\n",
    "#we only take the first two features.\n",
    "X = iris.data[:,:2]\n",
    "print(X[:15])\n",
    "Y = iris.target\n",
    "print(Y[:15])\n",
    "\n",
    "size = len(X)\n",
    "feature_train= X[:int(3/3*size)]\n",
    "feature_test= X[int(1/3*size):]\n",
    "label_train= Y[:int(3/3*size)]\n",
    "label_test= Y[int(1/3*size):]\n",
    "print(feature_train[:5])"
   ]
  },
  {
   "cell_type": "code",
   "execution_count": 29,
   "metadata": {},
   "outputs": [
    {
     "data": {
      "text/plain": [
       "KNeighborsClassifier(algorithm='auto', leaf_size=30, metric='minkowski',\n",
       "           metric_params=None, n_jobs=1, n_neighbors=15, p=2,\n",
       "           weights='distance')"
      ]
     },
     "execution_count": 29,
     "metadata": {},
     "output_type": "execute_result"
    }
   ],
   "source": [
    "clf = neighbors.KNeighborsClassifier(n_neighbors, \n",
    "                                    weights='distance')\n",
    "clf.fit(feature_train,label_train)\n"
   ]
  },
  {
   "cell_type": "code",
   "execution_count": 30,
   "metadata": {},
   "outputs": [],
   "source": [
    "pre = clf.predict(feature_test)"
   ]
  },
  {
   "cell_type": "code",
   "execution_count": 31,
   "metadata": {},
   "outputs": [],
   "source": [
    "from sklearn.metrics import accuracy_score"
   ]
  },
  {
   "cell_type": "code",
   "execution_count": 32,
   "metadata": {},
   "outputs": [
    {
     "data": {
      "text/plain": [
       "0.89000000000000001"
      ]
     },
     "execution_count": 32,
     "metadata": {},
     "output_type": "execute_result"
    }
   ],
   "source": [
    "accuracy_score(pre, label_test)"
   ]
  },
  {
   "cell_type": "code",
   "execution_count": null,
   "metadata": {},
   "outputs": [],
   "source": [
    "#more example:plot_classification.ipynb"
   ]
  }
 ],
 "metadata": {
  "kernelspec": {
   "display_name": "Python 3",
   "language": "python",
   "name": "python3"
  },
  "language_info": {
   "codemirror_mode": {
    "name": "ipython",
    "version": 3
   },
   "file_extension": ".py",
   "mimetype": "text/x-python",
   "name": "python",
   "nbconvert_exporter": "python",
   "pygments_lexer": "ipython3",
   "version": "3.6.4"
  },
  "toc": {
   "colors": {
    "hover_highlight": "#DAA520",
    "navigate_num": "#000000",
    "navigate_text": "#333333",
    "running_highlight": "#FF0000",
    "selected_highlight": "#FFD700",
    "sidebar_border": "#EEEEEE",
    "wrapper_background": "#FFFFFF"
   },
   "moveMenuLeft": true,
   "nav_menu": {
    "height": "30px",
    "width": "252px"
   },
   "navigate_menu": true,
   "number_sections": true,
   "sideBar": true,
   "threshold": 4,
   "toc_cell": false,
   "toc_section_display": "block",
   "toc_window_display": false,
   "widenNotebook": false
  }
 },
 "nbformat": 4,
 "nbformat_minor": 2
}
