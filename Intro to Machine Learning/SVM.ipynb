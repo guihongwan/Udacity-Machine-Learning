{
 "cells": [
  {
   "cell_type": "code",
   "execution_count": 1,
   "metadata": {},
   "outputs": [],
   "source": [
    "# Support Vector Machines\n"
   ]
  },
  {
   "cell_type": "code",
   "execution_count": 2,
   "metadata": {},
   "outputs": [],
   "source": [
    "# Separation line\n",
    "# margin: the distance between the line and the nearist point of the two classes.\n",
    "# --> maximize robustness of result.\n"
   ]
  },
  {
   "cell_type": "code",
   "execution_count": 5,
   "metadata": {},
   "outputs": [],
   "source": [
    "from sklearn import svm\n",
    "x = [[0,0],[1,1]]\n",
    "y = [0,1]\n",
    "\n",
    "clf = svm.SVC()\n",
    "clf.fit(x,y)\n",
    "pred= clf.predict([[2,2]])"
   ]
  },
  {
   "cell_type": "code",
   "execution_count": 7,
   "metadata": {},
   "outputs": [
    {
     "data": {
      "text/plain": [
       "0.0"
      ]
     },
     "execution_count": 7,
     "metadata": {},
     "output_type": "execute_result"
    }
   ],
   "source": [
    "from sklearn.metrics import accuracy_score\n",
    "acc = accuracy_score(pred, [0])\n",
    "acc"
   ]
  },
  {
   "cell_type": "code",
   "execution_count": null,
   "metadata": {},
   "outputs": [],
   "source": []
  },
  {
   "cell_type": "code",
   "execution_count": 8,
   "metadata": {},
   "outputs": [],
   "source": [
    "# Nonlinear Data\n",
    "\n",
    "#kernel trick\n",
    "\n",
    "# x,y(low dimensional, not separable) --kernels--> x1,x2,x3 ...(high dimensional, separable)\n",
    "#                Non Linear Separation   <--       solution\n",
    "\n",
    "\n"
   ]
  },
  {
   "cell_type": "code",
   "execution_count": null,
   "metadata": {},
   "outputs": [],
   "source": [
    "#SVM Parameter\n",
    "\n",
    "#kernel:\n",
    "\n",
    "#C: controls tradeoff between smooth decision boundary and \n",
    "#   classifying training points correctly.\n",
    "# smaller, more straight\n",
    "\n",
    "#gamma: defines how far the influence of a single training\n",
    "# example reaches.\n",
    "\n",
    "# low values -- far\n",
    "# high values -- close\n",
    "# if a high value of gamma, the decision boundaries are going\n",
    "# to be dependent on the points that are the very closest to it.\n",
    "# you can end up with a fairly wiggly decision boundary.\n",
    "\n",
    "#overfitting\n",
    "# one way to control over-fitting is through the parameters: C, gamma and kernel\n"
   ]
  },
  {
   "cell_type": "code",
   "execution_count": null,
   "metadata": {},
   "outputs": [],
   "source": [
    "#1. SVM works well in complicated domains where there is a clear margin of separation.\n",
    "#2. they don't perform so well in very large data sets, because the \n",
    "# training time happens to be cubic in the size of the data set.\n",
    "#3. they don't work well with lots and lots of noise. So when the class\n",
    "# are overlapping you have to count independent evidence.\n",
    "# "
   ]
  },
  {
   "cell_type": "code",
   "execution_count": null,
   "metadata": {},
   "outputs": [],
   "source": []
  },
  {
   "cell_type": "code",
   "execution_count": null,
   "metadata": {},
   "outputs": [],
   "source": [
    "# SVM MINI PROJECT\n"
   ]
  },
  {
   "cell_type": "code",
   "execution_count": null,
   "metadata": {},
   "outputs": [],
   "source": [
    "# knowing which model to try when we are tackling a problem for the first time \n",
    "# is part of the art and science of machine learning.\n",
    "# In addition, there are parameter tunes and the possibility of overfitting.\n"
   ]
  },
  {
   "cell_type": "code",
   "execution_count": null,
   "metadata": {},
   "outputs": [],
   "source": []
  }
 ],
 "metadata": {
  "kernelspec": {
   "display_name": "Python 3",
   "language": "python",
   "name": "python3"
  },
  "language_info": {
   "codemirror_mode": {
    "name": "ipython",
    "version": 3
   },
   "file_extension": ".py",
   "mimetype": "text/x-python",
   "name": "python",
   "nbconvert_exporter": "python",
   "pygments_lexer": "ipython3",
   "version": "3.6.4"
  },
  "toc": {
   "colors": {
    "hover_highlight": "#DAA520",
    "navigate_num": "#000000",
    "navigate_text": "#333333",
    "running_highlight": "#FF0000",
    "selected_highlight": "#FFD700",
    "sidebar_border": "#EEEEEE",
    "wrapper_background": "#FFFFFF"
   },
   "moveMenuLeft": true,
   "nav_menu": {
    "height": "12px",
    "width": "252px"
   },
   "navigate_menu": true,
   "number_sections": true,
   "sideBar": true,
   "threshold": 4,
   "toc_cell": false,
   "toc_section_display": "block",
   "toc_window_display": false,
   "widenNotebook": false
  }
 },
 "nbformat": 4,
 "nbformat_minor": 2
}
