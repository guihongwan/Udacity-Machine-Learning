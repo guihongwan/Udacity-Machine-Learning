{
 "cells": [
  {
   "cell_type": "code",
   "execution_count": 1,
   "metadata": {},
   "outputs": [],
   "source": [
    "# Apply basic machine learning concepts on data collected for housing prices in the Boston, Massachusetts area \n",
    "# to predict the selling price of a new home."
   ]
  },
  {
   "cell_type": "code",
   "execution_count": null,
   "metadata": {},
   "outputs": [],
   "source": [
    "# 1. explore the data to obtain important features and decreiptive statistics\n",
    "# 2. split the data into testing and training subsets\n",
    "# 3. determine a suitable performance metric\n",
    "#    analyze performance graphs for a learning algorithms with varying parameters\n",
    "#    and traning set sizes.\n",
    "# 4. pick the optimal model, test model"
   ]
  },
  {
   "cell_type": "markdown",
   "metadata": {},
   "source": [
    "Things you will learn by completing this project:\n",
    "\n",
    "- How to use NumPy to investigate the latent features of a dataset.\n",
    "- How to analyze various learning performance plots for variance and bias.\n",
    "- How to determine the best-guess model for predictions from unseen data.\n",
    "- How to evaluate a model’s performance on unseen data using previous data."
   ]
  }
 ],
 "metadata": {
  "kernelspec": {
   "display_name": "Python 3",
   "language": "python",
   "name": "python3"
  },
  "language_info": {
   "codemirror_mode": {
    "name": "ipython",
    "version": 3
   },
   "file_extension": ".py",
   "mimetype": "text/x-python",
   "name": "python",
   "nbconvert_exporter": "python",
   "pygments_lexer": "ipython3",
   "version": "3.6.4"
  },
  "toc": {
   "colors": {
    "hover_highlight": "#DAA520",
    "navigate_num": "#000000",
    "navigate_text": "#333333",
    "running_highlight": "#FF0000",
    "selected_highlight": "#FFD700",
    "sidebar_border": "#EEEEEE",
    "wrapper_background": "#FFFFFF"
   },
   "moveMenuLeft": true,
   "nav_menu": {
    "height": "12px",
    "width": "252px"
   },
   "navigate_menu": true,
   "number_sections": true,
   "sideBar": true,
   "threshold": 4,
   "toc_cell": false,
   "toc_section_display": "block",
   "toc_window_display": false,
   "widenNotebook": false
  }
 },
 "nbformat": 4,
 "nbformat_minor": 2
}
