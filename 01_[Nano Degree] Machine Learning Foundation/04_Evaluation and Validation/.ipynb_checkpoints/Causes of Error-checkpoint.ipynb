{
 "cells": [
  {
   "cell_type": "markdown",
   "metadata": {},
   "source": [
    "# Causes of Error\n",
    "Why models exhibit errors?\n",
    "\n",
    "In model prediction there are two main sources of errors that a model can suffer from."
   ]
  },
  {
   "cell_type": "markdown",
   "metadata": {},
   "source": [
    "# Bias\n",
    "Bias due to a model being unable to represent the complexity of the underlying data. A high Bias model is said to underfit data.\n",
    "\n",
    "Bias occurs when a model has enough data but is not complex enough to capture the underlying relationships. As a result, the model consistently and systematically misrepresents the data, leading to low accuracy in prediction. This is known as underfitting. Simply put, bias occurs when we have an inadequate model.\n",
    "\n",
    "Example 1\n",
    "An example might be when we have objects that are classified by color and shape, for example easter eggs, but our model can only partition and classify objects by color. It would therefore consistently mislabel future objects--for example labeling rainbows as easter eggs because they are colorful.\n",
    "\n",
    "Example 2\n",
    "Another example would be continuous data that is polynomial in nature, with a model that can only represent linear relationships. In this case it does not matter how much data we feed the model because it cannot represent the underlying relationship. To overcome error from bias, we need a more complex model.\n"
   ]
  },
  {
   "cell_type": "markdown",
   "metadata": {},
   "source": [
    "# Variance\n",
    "Variance due to a model being overly sensitive to the limited data it has been trained on.    \n",
    "A high Variance model is said to overfit the data.\n",
    "\n",
    "When training a model, we typically use a limited number of samples from a larger population. If we repeatedly train a model with randomly selected subsets of data, we would expect its predictons to be different based on the specific examples given to it. Here variance is a measure of how much the predictions vary for any given test sample.\n",
    "\n",
    "Some variance is normal, but too much variance indicates that the model is unable to generalize its predictions to the larger population. High sensitivity to the training set is also known as overfitting, and generally occurs when either the model is too complex or when we do not have enough data to support it.\n",
    "\n",
    "We can typically reduce the variability of a model's predictions and increase precision by training on more data. If more data is unavailable, we can also control variance by limiting our model's complexity."
   ]
  },
  {
   "cell_type": "markdown",
   "metadata": {},
   "source": [
    "# Learning Curve\n",
    "The Learning Curve functionality from sklearn allows us to study the behavior of our model with respect to the number of data points being considered to understand if our model is performing well or not.\n",
    "\n"
   ]
  },
  {
   "cell_type": "code",
   "execution_count": 1,
   "metadata": {},
   "outputs": [],
   "source": [
    "from sklearn.model_selection import learning_curve\n",
    "#learning_curve(estimator, x, y, cv=cv, n_jobs = n_jobs, train_sizes = train_sizes)\n",
    "\n",
    "#estimator: model which we are using to make our predictions with, like GaussianNB()\n",
    "#cv: the cross validation generator, for example KFold()\n",
    "#n_jobs is the parameter that decides if we want to run multiple operations in parallel\n",
    "#train_sizes is the number of training examples that will be considered to generate the curve.\n"
   ]
  },
  {
   "cell_type": "code",
   "execution_count": 3,
   "metadata": {},
   "outputs": [
    {
     "name": "stdout",
     "output_type": "stream",
     "text": [
      "Regressor score: 1.0000\n",
      "[ 66 216 366 516 666]\n",
      "[[ 1.  1.  1.]\n",
      " [ 1.  1.  1.]\n",
      " [ 1.  1.  1.]\n",
      " [ 1.  1.  1.]\n",
      " [ 1.  1.  1.]]\n",
      "[[ 0.1380061  -0.13204141  0.11723078]\n",
      " [ 0.2295347   0.10689897  0.3819013 ]\n",
      " [ 0.21980307  0.25862634  0.51156109]\n",
      " [ 0.46993313  0.37857253  0.42618734]\n",
      " [ 0.51681446  0.4989637   0.65705713]]\n"
     ]
    },
    {
     "data": {
      "image/png": "[encoded data removed]",
      "text/plain": [
       "<matplotlib.figure.Figure at 0x111c12278>"
      ]
     },
     "metadata": {},
     "output_type": "display_data"
    }
   ],
   "source": [
    "# In this exercise we'll examine a learner which has high variance, and tries to learn\n",
    "# nonexistant patterns in the data.\n",
    "\n",
    "# Use the learning curve function from sklearn.learning_curve to plot learning curves\n",
    "# of both training and testing error.\n",
    "# CODE YOU HAVE TO TYPE IN IS IN LINE 35\n",
    "\n",
    "from sklearn.tree import DecisionTreeRegressor\n",
    "import matplotlib.pyplot as plt\n",
    "# PLEASE NOTE:\n",
    "# In sklearn 0.18, the import would be from sklearn.model_selection import learning_curve\n",
    "from sklearn.learning_curve import learning_curve # sklearn version 0.17\n",
    "from sklearn.cross_validation import KFold\n",
    "from sklearn.metrics import explained_variance_score, make_scorer\n",
    "import numpy as np\n",
    "\n",
    "# Set the learning curve parameters; you'll need this for learning_curves\n",
    "size = 1000\n",
    "cv = KFold(size,shuffle=True)\n",
    "score = make_scorer(explained_variance_score)\n",
    "\n",
    "# Create a series of data that forces a learner to have high variance\n",
    "X = np.round(np.reshape(np.random.normal(scale=5,size=2*size),(-1,2)),2)\n",
    "y = np.array([[np.sin(x[0]+np.sin(x[1]))] for x in X])\n",
    "\n",
    "\n",
    "# Defining our regression algorithm\n",
    "reg = DecisionTreeRegressor()\n",
    "# Fit our model using X and y\n",
    "reg.fit(X,y)\n",
    "print( \"Regressor score: {:.4f}\".format(reg.score(X,y)))\n",
    "\n",
    "# TODO: Use learning_curve imported above to create learning curves for both the\n",
    "#       training data and testing data. You'll need reg, X, y, cv and score from above.\n",
    "\n",
    "#(estimator, X, y, groups=None, train_sizes=array([ 0.1, 0.33, 0.55, 0.78, 1. ]), cv=None, scoring=None, exploit_incremental_learning=False, n_jobs=1, pre_dispatch=’all’, verbose=0, shuffle=False, random_state=None)\n",
    "train_sizes, train_scores, test_scores = learning_curve(reg, X, y, cv=cv,scoring = score)\n",
    "\n",
    "print(train_sizes)\n",
    "print(train_scores)\n",
    "print(test_scores)\n",
    "# Taking the mean of the test and training scores\n",
    "train_scores_mean = np.mean(train_scores,axis=1)\n",
    "test_scores_mean = np.mean(test_scores,axis=1)\n",
    "\n",
    "# Plotting the training curves and the testing curves using train_scores_mean and test_scores_mean \n",
    "plt.plot(train_sizes ,train_scores_mean,'-o',color='b',label=\"train_scores_mean\")\n",
    "plt.plot(train_sizes,test_scores_mean ,'-o',color='r',label=\"test_scores_mean\")\n",
    "\n",
    "# Plot aesthetics\n",
    "plt.ylim(-0.1, 1.1)\n",
    "plt.ylabel(\"Curve Score\")\n",
    "plt.xlabel(\"Training Points\")\n",
    "plt.legend(bbox_to_anchor=(1.1, 1.1))\n",
    "plt.show()\n",
    "    \n"
   ]
  },
  {
   "cell_type": "code",
   "execution_count": null,
   "metadata": {},
   "outputs": [],
   "source": [
    "#Learning curve.\n",
    "#Determines cross-validated training and test scores for different training set sizes.\n",
    "#A cross-validation generator splits the whole dataset k times in training and test data. \n",
    "#Subsets of the training set with varying sizes will be used to train the estimator and \n",
    "#a score for each training subset size and the test set will be computed. \n",
    "#Afterwards, the scores will be averaged over all k runs for each training subset size."
   ]
  }
 ],
 "metadata": {
  "kernelspec": {
   "display_name": "Python 3",
   "language": "python",
   "name": "python3"
  },
  "language_info": {
   "codemirror_mode": {
    "name": "ipython",
    "version": 3
   },
   "file_extension": ".py",
   "mimetype": "text/x-python",
   "name": "python",
   "nbconvert_exporter": "python",
   "pygments_lexer": "ipython3",
   "version": "3.6.4"
  },
  "toc": {
   "colors": {
    "hover_highlight": "#DAA520",
    "navigate_num": "#000000",
    "navigate_text": "#333333",
    "running_highlight": "#FF0000",
    "selected_highlight": "#FFD700",
    "sidebar_border": "#EEEEEE",
    "wrapper_background": "#FFFFFF"
   },
   "moveMenuLeft": true,
   "nav_menu": {
    "height": "84px",
    "width": "252px"
   },
   "navigate_menu": true,
   "number_sections": true,
   "sideBar": true,
   "threshold": 4,
   "toc_cell": false,
   "toc_section_display": "block",
   "toc_window_display": false,
   "widenNotebook": false
  }
 },
 "nbformat": 4,
 "nbformat_minor": 2
}
