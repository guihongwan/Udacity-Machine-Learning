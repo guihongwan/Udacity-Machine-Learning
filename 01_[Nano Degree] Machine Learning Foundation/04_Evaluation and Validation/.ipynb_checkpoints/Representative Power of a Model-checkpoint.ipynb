{
 "cells": [
  {
   "cell_type": "markdown",
   "metadata": {},
   "source": [
    "# Curse of Dimensionality"
   ]
  },
  {
   "cell_type": "code",
   "execution_count": null,
   "metadata": {},
   "outputs": [],
   "source": [
    "# The curse of dimensionality refers to various phenomena that arise when analyzing\n",
    "# and organizing data in high-dimensional spaces(often with hundreds or thousands of dimensions) that do not\n",
    "# occur in low-dimensional settings such as three-dimensional physical space of everyday experience.\n",
    "\n",
    "#The common theme of these problems is that when the dimensionality increases, the volume of the space increases so fast \n",
    "# that the available data become sparse.\n",
    "# This sparsity is problematic for any method that requires statistical significance.\n",
    "\n",
    "# In order to obtain a statistically sound and reliable result, the amount of data needed to support the result \n",
    "# often grows exponentially with the dimensionality.\n"
   ]
  }
 ],
 "metadata": {
  "kernelspec": {
   "display_name": "Python 3",
   "language": "python",
   "name": "python3"
  },
  "language_info": {
   "codemirror_mode": {
    "name": "ipython",
    "version": 3
   },
   "file_extension": ".py",
   "mimetype": "text/x-python",
   "name": "python",
   "nbconvert_exporter": "python",
   "pygments_lexer": "ipython3",
   "version": "3.6.4"
  },
  "toc": {
   "colors": {
    "hover_highlight": "#DAA520",
    "navigate_num": "#000000",
    "navigate_text": "#333333",
    "running_highlight": "#FF0000",
    "selected_highlight": "#FFD700",
    "sidebar_border": "#EEEEEE",
    "wrapper_background": "#FFFFFF"
   },
   "moveMenuLeft": true,
   "nav_menu": {
    "height": "12px",
    "width": "252px"
   },
   "navigate_menu": true,
   "number_sections": true,
   "sideBar": true,
   "threshold": 4,
   "toc_cell": false,
   "toc_section_display": "block",
   "toc_window_display": false,
   "widenNotebook": false
  }
 },
 "nbformat": 4,
 "nbformat_minor": 2
}
