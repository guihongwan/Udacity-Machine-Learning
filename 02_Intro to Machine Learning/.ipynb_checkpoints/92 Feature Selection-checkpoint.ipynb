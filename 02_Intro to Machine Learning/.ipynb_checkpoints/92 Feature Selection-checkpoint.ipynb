{
 "cells": [
  {
   "cell_type": "code",
   "execution_count": 1,
   "metadata": {},
   "outputs": [],
   "source": [
    "# when and why to use feature selection?\n",
    "# 4 Hours? 5:13 to 8:40 with a dinner"
   ]
  },
  {
   "cell_type": "markdown",
   "metadata": {},
   "source": [
    "make everything as simple as possible, but no simpler -- Albert Einstain"
   ]
  },
  {
   "cell_type": "code",
   "execution_count": 2,
   "metadata": {},
   "outputs": [],
   "source": [
    "# 1. select best features\n",
    "# 2. add new features"
   ]
  },
  {
   "cell_type": "markdown",
   "metadata": {},
   "source": [
    "# add a new feature"
   ]
  },
  {
   "cell_type": "code",
   "execution_count": 4,
   "metadata": {},
   "outputs": [],
   "source": [
    "\n",
    "# - use human intuition\n",
    "# - code up the new feature\n",
    "# - visualize\n",
    "# - repeat   can we do any better?"
   ]
  },
  {
   "cell_type": "code",
   "execution_count": 5,
   "metadata": {},
   "outputs": [],
   "source": [
    "# e.g.\n",
    "\n",
    "# add from_poi_to_this_person: integer no. of messages \n",
    "\n",
    "# absolute number of email --> the fraction of emails that a person receives \n",
    "# that come from a person of interest."
   ]
  },
  {
   "cell_type": "code",
   "execution_count": 6,
   "metadata": {},
   "outputs": [],
   "source": [
    "# bugs\n",
    "# - be skeptical of your results\n",
    "# - 100% accuracy should generally make you suspicious.\n",
    "# - if there is  feature that tracks your labels a little too closely, it's very likely a bug.\n"
   ]
  },
  {
   "cell_type": "markdown",
   "metadata": {},
   "source": [
    "# get reid of features"
   ]
  },
  {
   "cell_type": "code",
   "execution_count": 7,
   "metadata": {},
   "outputs": [],
   "source": [
    "# there are two big univariate feature selection tools in sklearn: \n",
    "# ('univariate', treats each feature independently)\n",
    "# SelectPercentile and SelectKBest\n",
    "# - SelectPercentile: selects the X% of features that are most powerful\n",
    "# - SelectKBest: selects the k features that are powerful."
   ]
  },
  {
   "cell_type": "markdown",
   "metadata": {},
   "source": [
    "# Bias - Variance Dilemma and No. of Features"
   ]
  },
  {
   "cell_type": "code",
   "execution_count": 8,
   "metadata": {},
   "outputs": [],
   "source": [
    "# high bias : pays little attention to data. oversimplified.\n",
    "#   high error on traing set(low r2, large SSE(squared residual errors))\n",
    "\n",
    "# high variance: pay too much attention to data. don't generalize well. overfiting\n",
    "#  much higher error on test set than training set."
   ]
  },
  {
   "cell_type": "code",
   "execution_count": 9,
   "metadata": {},
   "outputs": [],
   "source": [
    "# few features --> bias\n",
    "# carefully minimized SSE--> variance\n",
    "\n",
    "# few features, large r2, small SSE"
   ]
  },
  {
   "cell_type": "markdown",
   "metadata": {},
   "source": [
    "## Regularization in Regression\n"
   ]
  },
  {
   "cell_type": "code",
   "execution_count": 10,
   "metadata": {},
   "outputs": [],
   "source": [
    "# method for automatically penalizing extra features\n",
    "\n",
    "# Lasso, linear model trained with L1 prior as regularizer\n",
    "# minimize  SSE + µ|B| B coefficients of regression µ:panalty parameter\n",
    "\n",
    "# the regular linear regression would say just minimize the SSE\n",
    "# Lasso Regression: when we want a small sum of squared error, we also want to minimize\n",
    "# the number of features that i'm using.\n",
    "\n",
    "# m1 ~ m4\n",
    "# x1 ~ x4 \n",
    "\n",
    "# 1. in an ordinary multivariate regression, y = m1 x1 + m2 x2 + m3 x3 + m4 x4 + b\n",
    "   # it will use all of the features that available to it and assign to each one \n",
    "    # a coefficient of regression.\n",
    "# 2. what lasso regression will do is it will try adding them in one at a time\n",
    "   # and if the new feature doesn't improve the fit enough to outweigh the penalty term,\n",
    "    #then it won't be added.(set the coefficienct to zero)\n",
    "    # y = m1 x1 + m2 x2 + 0 x3 + 0 x4 +b"
   ]
  },
  {
   "cell_type": "code",
   "execution_count": null,
   "metadata": {},
   "outputs": [],
   "source": []
  }
 ],
 "metadata": {
  "kernelspec": {
   "display_name": "Python 3",
   "language": "python",
   "name": "python3"
  },
  "language_info": {
   "codemirror_mode": {
    "name": "ipython",
    "version": 3
   },
   "file_extension": ".py",
   "mimetype": "text/x-python",
   "name": "python",
   "nbconvert_exporter": "python",
   "pygments_lexer": "ipython3",
   "version": "3.6.4"
  },
  "toc": {
   "colors": {
    "hover_highlight": "#DAA520",
    "navigate_num": "#000000",
    "navigate_text": "#333333",
    "running_highlight": "#FF0000",
    "selected_highlight": "#FFD700",
    "sidebar_border": "#EEEEEE",
    "wrapper_background": "#FFFFFF"
   },
   "moveMenuLeft": true,
   "nav_menu": {
    "height": "84px",
    "width": "252px"
   },
   "navigate_menu": true,
   "number_sections": true,
   "sideBar": true,
   "threshold": 4,
   "toc_cell": false,
   "toc_section_display": "block",
   "toc_window_display": false,
   "widenNotebook": false
  }
 },
 "nbformat": 4,
 "nbformat_minor": 2
}
