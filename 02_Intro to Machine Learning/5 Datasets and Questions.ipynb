{
 "cells": [
  {
   "cell_type": "code",
   "execution_count": 1,
   "metadata": {},
   "outputs": [],
   "source": [
    "# Training Set Size"
   ]
  },
  {
   "cell_type": "code",
   "execution_count": 2,
   "metadata": {},
   "outputs": [],
   "source": [
    "# Type of Data\n",
    "\n",
    "# numerical - numbers\n",
    "# categorical - limited number of discrete values (category)\n",
    "# time series - temporal value(date, timestampe)\n",
    "# text - words\n",
    "\n",
    "#malfeasance [mælˈfizəns]\n",
    "# treasure troves 宝库\n"
   ]
  },
  {
   "cell_type": "code",
   "execution_count": null,
   "metadata": {},
   "outputs": [],
   "source": [
    "# Enron Fraud\n",
    "# Enron's stock increased from the start of 1990s until year-end 1998 by 311%, only modestly higher thant the average rate of growth\n",
    "# in the Standard&Poor 500 index.\n",
    "# However, the stock increased by 56% in 1999 and a further 87% in 2000.\n",
    "\n",
    "# By Dec 31, 2000, Enron's stock was priced at $83.13 and its market caapitalization exceeded $60 million,\n",
    "# 70 times earnings and six times book value(net asset value).\n",
    "\n"
   ]
  }
 ],
 "metadata": {
  "kernelspec": {
   "display_name": "Python 3",
   "language": "python",
   "name": "python3"
  },
  "language_info": {
   "codemirror_mode": {
    "name": "ipython",
    "version": 3
   },
   "file_extension": ".py",
   "mimetype": "text/x-python",
   "name": "python",
   "nbconvert_exporter": "python",
   "pygments_lexer": "ipython3",
   "version": "3.6.4"
  },
  "toc": {
   "colors": {
    "hover_highlight": "#DAA520",
    "navigate_num": "#000000",
    "navigate_text": "#333333",
    "running_highlight": "#FF0000",
    "selected_highlight": "#FFD700",
    "sidebar_border": "#EEEEEE",
    "wrapper_background": "#FFFFFF"
   },
   "moveMenuLeft": true,
   "nav_menu": {
    "height": "12px",
    "width": "252px"
   },
   "navigate_menu": true,
   "number_sections": true,
   "sideBar": true,
   "threshold": 4,
   "toc_cell": false,
   "toc_section_display": "block",
   "toc_window_display": false,
   "widenNotebook": false
  }
 },
 "nbformat": 4,
 "nbformat_minor": 2
}
