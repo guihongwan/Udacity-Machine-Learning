{
 "cells": [
  {
   "cell_type": "code",
   "execution_count": 1,
   "metadata": {},
   "outputs": [],
   "source": [
    "# 7 hours? start at 9:33  11:00"
   ]
  },
  {
   "cell_type": "code",
   "execution_count": 2,
   "metadata": {},
   "outputs": [],
   "source": [
    "# feature set compression"
   ]
  },
  {
   "cell_type": "code",
   "execution_count": 3,
   "metadata": {},
   "outputs": [],
   "source": [
    "# PCA finds a new coordinate system that is obtained from the old one by traslation and rotation only.\n",
    "\n",
    "# center of a new coordinate\n",
    "# principal axis of the new coordinate system\n",
    "   # the x prime axis is a vector\n",
    "   # the delta x and delta y for the x prime axis\n",
    "# second Principal Component of the New System\n",
    "# I didn't understand them well from 8 to 10\n",
    "\n"
   ]
  },
  {
   "cell_type": "code",
   "execution_count": 4,
   "metadata": {},
   "outputs": [],
   "source": [
    "# Measurable vs Latent Features\n",
    "\n",
    "# given the features of a house, what is its price?\n",
    "# this a classic type of regression exercise because the output that we expect to get \n",
    "# is going to be contnuous.\n",
    "\n",
    "# square footage\n",
    "# no. of rooms\n",
    "# school ranking\n",
    "# neighborhood safty\n",
    "\n",
    "#size\n",
    "# neighbor\n",
    "\n",
    "# what's the best way to condense our four features to two?\n",
    "# SelectKBest\n",
    "# SelectPercentile\n",
    "\n",
    "\n",
    "# composite feature:principle component\n",
    "# dimensionality reduction\n",
    "# unsupervised learning\n",
    "\n"
   ]
  },
  {
   "cell_type": "code",
   "execution_count": 5,
   "metadata": {},
   "outputs": [],
   "source": [
    "# example: square footage + no. rooms --> size\n"
   ]
  },
  {
   "cell_type": "code",
   "execution_count": 6,
   "metadata": {},
   "outputs": [],
   "source": [
    "# pca as a general algorithm for feature transformation\n",
    "  # first principal component\n",
    "  # second principal component\n",
    "  # the first principal component will be an admixture that has little bits and pieces from potentially all\n",
    "  # of the features."
   ]
  },
  {
   "cell_type": "code",
   "execution_count": 7,
   "metadata": {},
   "outputs": [],
   "source": [
    "# from the sklearn documentation for PCA, the max number of PCs is min(n_features, n_data_points)\n"
   ]
  },
  {
   "cell_type": "code",
   "execution_count": 8,
   "metadata": {},
   "outputs": [],
   "source": [
    "#Definition of PCA\n",
    "# --> systematized way to transform input features into principal components\n",
    "# --> use principal components as new features\n",
    "# --> PCs are directions in data that maximize variance(minimize information loss) when you projection/compress down onto them\n",
    "# --> more variance of data along a PC, higher that PC is ranked."
   ]
  },
  {
   "cell_type": "code",
   "execution_count": 9,
   "metadata": {},
   "outputs": [],
   "source": [
    "# when to use PCA\n",
    "# --> Latent features driving the patterns in data\n",
    "# --> dimensionality reduction\n",
    "    # --> visualize high-dimensional data\n",
    "    # --> reduce noise\n",
    "    # --> make other algorithm(regression, classification) work better"
   ]
  },
  {
   "cell_type": "code",
   "execution_count": null,
   "metadata": {},
   "outputs": [],
   "source": [
    "# One thing we cannot do is performing feature selection before going to PCA."
   ]
  }
 ],
 "metadata": {
  "kernelspec": {
   "display_name": "Python 3",
   "language": "python",
   "name": "python3"
  },
  "language_info": {
   "codemirror_mode": {
    "name": "ipython",
    "version": 3
   },
   "file_extension": ".py",
   "mimetype": "text/x-python",
   "name": "python",
   "nbconvert_exporter": "python",
   "pygments_lexer": "ipython3",
   "version": "3.6.4"
  },
  "toc": {
   "colors": {
    "hover_highlight": "#DAA520",
    "navigate_num": "#000000",
    "navigate_text": "#333333",
    "running_highlight": "#FF0000",
    "selected_highlight": "#FFD700",
    "sidebar_border": "#EEEEEE",
    "wrapper_background": "#FFFFFF"
   },
   "moveMenuLeft": true,
   "nav_menu": {
    "height": "12px",
    "width": "252px"
   },
   "navigate_menu": true,
   "number_sections": true,
   "sideBar": true,
   "threshold": 4,
   "toc_cell": false,
   "toc_section_display": "block",
   "toc_window_display": false,
   "widenNotebook": false
  }
 },
 "nbformat": 4,
 "nbformat_minor": 2
}
